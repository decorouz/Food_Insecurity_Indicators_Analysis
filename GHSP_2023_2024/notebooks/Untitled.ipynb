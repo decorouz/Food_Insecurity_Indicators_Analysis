{
 "cells": [
  {
   "cell_type": "markdown",
   "id": "2c72a7c6-a649-4b26-9e8c-c230e0cbc47f",
   "metadata": {},
   "source": [
    "# General Household Survey, Panel 2023-2024 (Wave 5)\n",
    "\n",
    "\n",
    "## Data Source\n",
    "\n",
    "The 2023/2024 GHS-Panel is the fifth round of the survey with prior rounds conduction in previous years.\n",
    "The General Household Survey-Panel is implemented in collaboration with the World Bank Living Stantards Measurement Study as\n",
    "part of the Integrated Surveys on Agriculture (ISA) program.\n",
    "\n",
    "The objectives of the GHS-Panel include the development of an innovative model for collecting agricultural data, and comprehensive analysis of welfare indicators and socio-economic characteristics. The GHS-Panel is a nationally representative  survey of approximately 5,000 households, which are also representative of the six geopolitical zones. The GHS-Panel households were visited twice: during post-planting period (July - September 2023) and during post-harvest period (January - March 2024).\n",
    "\n",
    "### Kind of Data\n",
    "- Sample survey data [ssd]\n",
    "\n",
    "### Unit of Analysis\n",
    "- Household\n",
    "- Individuals\n",
    "- Agricultural plots\n",
    "- Communities\n",
    "\n",
    "### Weighting\n",
    "Cross-sectional weights to be applied to the combined sample: used for analysis that seeks to provide representative estimates of the current population of Nigerian households at the time of wave 5 (2023/24).\n",
    "\n",
    "### Data Collection\n",
    "\n",
    "| Start | End | Cycle | \n",
    "|-------|-----|-------|\n",
    "| 2023-07 | 2023-09 | Post-Planting |\n",
    "| 2024-01 | 2024-03 | Post-Harvest |\n",
    "\n",
    "\n",
    "National Bureau of Statistics. *Nigeria General Household Survey, Panel (GHS-Panel) Wave 5 2023-2024*. Dataset downloaded from [source](https://microdata.worldbank.org/index.php/catalog/6410/download/180547) on Dec-13-2024.\n"
   ]
  },
  {
   "cell_type": "markdown",
   "id": "83135f45-cb8d-4329-bc69-5f2fdba075d6",
   "metadata": {},
   "source": [
    "#### Titles:\n",
    "1. How do household agricultural farming practices evolve with increased food insecurity. An examination of Agricultural Productivity of 2018-2024."
   ]
  },
  {
   "cell_type": "code",
   "execution_count": null,
   "id": "5042cf2d-22c5-4f63-af71-3032273c4a7c",
   "metadata": {},
   "outputs": [],
   "source": []
  }
 ],
 "metadata": {
  "kernelspec": {
   "display_name": "Python 3 (ipykernel)",
   "language": "python",
   "name": "python3"
  },
  "language_info": {
   "codemirror_mode": {
    "name": "ipython",
    "version": 3
   },
   "file_extension": ".py",
   "mimetype": "text/x-python",
   "name": "python",
   "nbconvert_exporter": "python",
   "pygments_lexer": "ipython3",
   "version": "3.12.2"
  }
 },
 "nbformat": 4,
 "nbformat_minor": 5
}
