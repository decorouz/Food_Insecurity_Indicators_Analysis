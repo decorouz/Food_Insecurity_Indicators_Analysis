{
 "cells": [
  {
   "cell_type": "markdown",
   "id": "40ac709e-59b5-446e-9297-9dae691096ee",
   "metadata": {},
   "source": [
    "# How do household coping strategies evolve with increased food insecurity. An examination of Food Price Shock of 2015-2024.\n",
    "\n",
    "### Objective\n",
    "This study examines the changes in the types and severity of coping mechanisms for food insecurity resulting from the food price shock caused by the oil price crash, currency devaluation, removal of energy subsidy and restrictions on foreign exchange.\n",
    "\n",
    "### Research Questions\n",
    "1. What is the trend of the food insecurity status of Nigerian households from 2015, 2018 to 2024.\n",
    "2. Provide emperical evidence on the nature of coping strategies commonly adopted in Nigeria.\n",
    "3. Analyze the changes in the types and severity of food insecurity coping behaviors for 2015 and 2024. Specifically, we compare Nigeria's General Household Survey Panel data from 2018, when oil prices where high (or had only recently fallen), with data from 2024, when oil prices had been persistently low, the total removal of fuel subsidy,  and the currency had been devalued.\n",
    "4. Examine the way households have coped with food insecurity and how the coping behavior has evolved over time with the increased escalation of real food prices.\n",
    "5. Furthermore, the socioeconomic and demographic characteristics of food-insecure households that influence the adoption of some specific strategies are analyzed. It is noteworthy that this study is the very first to empirically examine the coping strategy responses triggered by the 2023 removal of fuel subsidy and the currency devaluation imposed by Nigeria (Tinubu government).\n",
    "\n",
    "\n",
    "\n",
    "\n",
    "\n"
   ]
  },
  {
   "cell_type": "markdown",
   "id": "3747f2fb-144a-4597-b9cb-42f0e324d098",
   "metadata": {
    "jp-MarkdownHeadingCollapsed": true
   },
   "source": [
    "### Coping Strategy\n",
    "\n",
    "Such coping strategies, broadly categorized as food- and non- food-based techniques adopted to meet basic needs, reflect the degree of vulnerability of the\n",
    "households (Kyaw 2009; Ruel et al. 2010). \n",
    "\n",
    "Some examples of these strategies include purchasing less of the preferred food,\n",
    "reducing meal sizes, and skipping meals when there is a food\n",
    "shortage (Farzana et al. 2017; Gundersen and Ziliak 2014; Gupta et al. 2015). \n",
    "\n",
    "\n",
    "The households we consider to be coping in this study are those that respond to at least one of the nine questions describing households' experience coping with food insecurity (**Table 1**). A household is classified as\n",
    "non-coping if they did not engage in any food insecurity coping behaviors in the previous 7 days. This coping indicator serves as\n",
    "the first dependent variable for the empirical analysis."
   ]
  },
  {
   "cell_type": "markdown",
   "id": "50ab1b5f-3015-4787-9703-d68b05dd919a",
   "metadata": {},
   "source": [
    "\n",
    "### Data Source\n",
    "The primary data source for this study is the  Nigeria General Household Survey Panel (GHS-P).\n",
    "This survey is conducted approximately every three years. The GHS-P is a nationally representative sample that is also representative of each of the six geographic zones in Nigeria.\n",
    "The study uses data from two waves of the GHS-P enumeratied in 2018 and 2024. Within each wave, each household is visited twice—once in the **pre-harvest** period in September to November, and once in the **post-harvest** period in February to April. In this study, we use\n",
    "food insecurity data from the **pre-harvest** visit. \n",
    "\n"
   ]
  },
  {
   "cell_type": "markdown",
   "id": "97c9d7bd-7664-4f62-bd39-efaa58df6698",
   "metadata": {},
   "source": [
    "\n",
    "### Statistical Analysis\n",
    "\n",
    "#### Dependent Variables\n",
    "\n",
    "1. The first step in this analysis is to identify all households that are coping with food insecurity (frequency) and to separate them\n",
    "from the households that are not coping. **The households we consider to be coping in this study are those that respond to at least\n",
    "one of the nine questions describing households' experience coping with food insecurity (**Table 1**).** A household is classified as\n",
    "non-coping if they did not engage in any food insecurity coping behaviors in the previous 7 days. This coping indicator serves as\n",
    "the first dependent variable for the empirical analysis.\n",
    "\n",
    "| **Variable**       | **Description of variable**                                 | **Severity** |\n",
    "|---------------------|------------------------------------------------------------|--------------|\n",
    "| Limit type          | Ate only a few kinds of foods                              | Mild         |\n",
    "| Less preferred      | Unable to eat healthy and nutritious/preferred foods       | Mild         |\n",
    "| Limit portion       | Had to limit portion size                                  | Moderate     |\n",
    "| Reduce              | Had to skip a meal                                         | Moderate     |\n",
    "| Restrict            | Had to restrict adult consumption for children             | Moderate     |\n",
    "| Borrow              | Had to borrow food or rely on help                         | Moderate     |\n",
    "| None                | No food in the household                                   | Intense      |\n",
    "| Sleep hungry        | Had to go to sleep hungry                                  | Intense      |\n",
    "| Whole day           | Had to go a whole day and night without eating             | Intense      |\n",
    "\n",
    "*Source: Nigeria GHS-P 2015, 2018, and 2024.*\n",
    "\n",
    "\n",
    "\n",
    "2. The second dependent variable used for empirical analysis is the **severity index** (SIN). This indicator establishes the severity\n",
    "of food insecurity by aggregating the number of various coping behaviors in which the sampled households engaged. The index\n",
    "is constructed as the simple sum of the number of coping behaviors engaged in, which ranges from 1 to 9. For household _i_ in period _t_ we have:\n",
    "\n",
    "$$\n",
    "\\text{SIN}_{it} = \n",
    "\\overbrace{\\text{less preferred}_{it} + \\text{limit type}_{it}}^{\\text{Mild}_{it}}\n",
    "+ \n",
    "\\overbrace{\\text{limit portion}_{it} + \\text{reduce}_{it} \\, \\text{restrict}_{it} + \\text{borrow}_{it}}^{\\text{Moderate}_{it}}\n",
    "+ \n",
    "\\overbrace{\\text{none}_{it} + \\text{sleep hungry}_{it} + \\text{whole day}_{it}}^{\\text{Intense}_{it}}\n",
    "$$\n",
    "\n",
    "3. An alternative severity measure of coping behaviors based on the Household Food Insecurity Prevalence ([HFIAP](https://www.fao.org/fileadmin/user_upload/eufao-fsi4dm/doc-training/hfias.pdf) )is also constructed.\n",
    "We categorized households into four classes of food insecurity based on responses to nine food insecurity copinng questions. First, the response are grouped into four categories--none mild, moderate and intense--according the degree of severity they represent.\n",
    "\n",
    "\n",
    "*Add the HFIAS formula here*"
   ]
  },
  {
   "cell_type": "markdown",
   "id": "acc5d280-a064-438b-aa9a-82755c9cd5f2",
   "metadata": {},
   "source": [
    "#### Indepedent Variables\n",
    "\n",
    "Independent household characteristics considered as determinants of coping behaviors are outlined in Table 2, and include the following: \n",
    "- the survey year, \n",
    "- log of distance to the agricultural market (km),\n",
    "- log of the age of the head of household,\n",
    "- if the household is involved in agriculture,\n",
    "- if the household is involved in None agriculture enterprise,\n",
    "- if household is involved in non farm and farm enterprise\n",
    "- if the head of household is a single parent,\n",
    "- Gender of the household head\n",
    "- if the household is polygamous,\n",
    "- household expenditure (total and per capita),\n",
    "- if the head of the household is employed,\n",
    "- if the family owns the home,\n",
    "- the educational attainment of the head of household,\n",
    "- if the household is urban,\n",
    "- the proportion of household members that are children,\n",
    "- household size,\n",
    "- the number of elderly household members (85 years of age and older),\n",
    "- if the household has experienced Economic shock\n",
    "- if the household has experienced Food consumption shocks\n",
    "- and the geopolitical zone of Nigeria inwhich the household lives"
   ]
  },
  {
   "cell_type": "markdown",
   "id": "be366447-4a1f-4dae-8516-325168ef8229",
   "metadata": {},
   "source": [
    "| **Variable**         | **Description of variable**                                                                 | **Variable type** |\n",
    "|-----------------------|--------------------------------------------------------------------------------------------|-------------------|\n",
    "| **Dependent**         |                                                                                            |                   |\n",
    "| Coping                | Household engaged in any of the nine coping behaviors = 1 and 0 otherwise                  | Indicator         |\n",
    "| FIN                   | Sum of the number of coping behaviors engaged in, ranging from 1 to 9                      | Discrete          |\n",
    "| HFIAP                 | Food-secure = 1; Mildly food-insecure = 2; Moderately food-insecure = 3; Severely food-insecure = 4 | Discrete          |\n",
    "|                       |                                                                                            |                   |\n",
    "| **Independent**       |                                                                                            |                   |\n",
    "| Year                  | 2015, 2018, 2024                                                                           | Indicator         |\n",
    "| log(dist_market)      | Log of distance in km from household to agricultural market                                | Continuous        |\n",
    "| Wealth index    | Household wealth index                               | indicator        |\n",
    "| log(age)              | Log of the age of head of household in years                                               | Continuous        |\n",
    "| Agriculture           | Household member(s) involved in agriculture = 1 and 0 otherwise                           | Indicator         |\n",
    "| Non_farm_enterprise           | Household member(s) involved in non-farm enterprise = 1 and 0 otherwise                           | Indicator         |\n",
    "| farm_non_farm_enterprise          | Household member(s) involved in non-farm enterprise and Agriculture = 1 and 0 otherwise                           | Indicator         |\n",
    "| Single_parent         | Lone adult as head of household that is divorced, separated or widowed and lives with children = 1, 0 otherwise | Indicator         |\n",
    "| Gender         | Head of HH Male = 1, 0 otherwise | Indicator         |\n",
    "| Polygamous            | Head of the household is in a polygamous marriage = 1 and 0 otherwise                      | Indicator         |\n",
    "| log(tot_exp_capita)   | Real (2012N) annual per-capita household expenditure                                       | Continuous        |\n",
    "| hh_employed           | Head of household is considered employed if they are involved in agriculture, working as an employee or are self-employed = 1 and 0 otherwise | Indicator         |\n",
    "| Own_home              | Home ownership = 1 and 0 otherwise                                                        | Indicator         |\n",
    "| hh_educ               | Educational attainment of the household head: No education; Senior Secondary School Certificate (SSSC) or less; Undergraduate, professional or technical degree; Graduate degree | Indicator         |\n",
    "| Urban                 | Urban household = 1 and rural household = 0                                               | Indicator         |\n",
    "| prop_children         | Proportion of household members less than 18 years of age                                 | Continuous        |\n",
    "| hh_size               | Number of household members                                                               | Discrete          |\n",
    "| n_elderly             | Number of household members over the age of 85                                            | Discrete          |\n",
    "| fc_shock             | Household has experienced food consumption shocks = 1 and otherwise = 0                                            | Indicator          |\n",
    "| ec_shock            | Household has experienced economic shocks  = 1 and otherwise = 0                                           | Indicator          |\n",
    "| Zone                  | Indicating which of the six geopolitical zones of Nigeria the household lives in: North Central, North East, North West, South West, South Central and South South | Indicator         |\n",
    "\n",
    "*Source: Nigeria GHS-P 2018, and 2024.*\n"
   ]
  },
  {
   "cell_type": "markdown",
   "id": "4fd4c503-a17d-455d-b5f8-c29038b736b4",
   "metadata": {},
   "source": [
    "#### Methodology:\n",
    "1. Detailed statistics are presented on the prevalence of coping behaviours and household characteristics broken down by wave. This statistics include the proportion of households coping with FI, the prevalence of each speicific coping behaviour, and the proportion of the household within each class of severity and food insecurity.\n",
    "2. Descriptive statistic and significant tests on the means of variables (eg total expenditure) of interest by classification (e.g, coping vs non-coping) to illustrate the difference between groups\n",
    "3. Hurdle regression is implementated to asses the determinants of household coping with FI in Nigeria in 2015, 2018 and 2024. The first stage of the hurdle regression is a logistic regression showing whether or not the household engages in any of the coping behaviors. The second stage, conditional on a household coping, is a negative binomial on the count of coping behaviors in which a household engages (using frequency index as the dependent variable). We conduct a statistical test to confirm that a hurdel model is indeed, necessary due to the excess number of zero in the number of coping behaviors.\n",
    "[Hurdle regression](https://library.virginia.edu/data/articles/getting-started-with-hurdle-models)\n",
    "5. Poison Model. A common approach to modeling count data is Poisson regression. When performing Poisson regression we're assuming our count data follow a Poisson distribution with a mean conditional on our predictors.\n",
    "6. Logistic regression on households struggling with moderate and intense food insecurity to investigate the factor that tip a household into the most severy coping behaviors, most of which involves the household running out of food entirely at times.  In all regressions, time effects are accounted for by using an indicator variable for each wave of the\n",
    "survey, with 2012 as the base year. Regional differences are captured by using an indicator variable for each of the six geopolit-\n",
    "ical zones of Nigeria, with all differences relative to the North Central zone. To account for repeated observations at the household level, we cluster standard errors by household. To account for unobservable differences at the local level, standard errors are clustered by enumeration zone"
   ]
  },
  {
   "cell_type": "markdown",
   "id": "52e120d9-3e4c-4cae-aec0-c72d78262e49",
   "metadata": {},
   "source": [
    "## Prevalence of Coping Behaviors\n",
    "\n",
    "Present the proportion of householdds coping with food insecurity by severity, pre-harvest and post-harvest period. "
   ]
  },
  {
   "cell_type": "code",
   "execution_count": null,
   "id": "ad10cdf1-f580-48af-9139-84a1e62709e5",
   "metadata": {},
   "outputs": [],
   "source": [
    "# df_h (4716, 13)\n",
    "# "
   ]
  },
  {
   "cell_type": "code",
   "execution_count": null,
   "id": "76e7551c-c8d7-459d-a20e-a778507ef9ea",
   "metadata": {},
   "outputs": [],
   "source": [
    "### Merge Individual level data\n",
    "# To get the education of head of household, merge df_h, df_edu\n",
    "## pd.merge(df_h, df_edu, how='left', on=[\"hhid\", \"indiv\"])\n",
    "### Shape: 4716, 16\n",
    "\n",
    "dfa\n",
    "df_food_exp # 30 days\n",
    "df6c # annual\n",
    "df7 # combined coping\n",
    "df_fi_coping # 30 days coping (sect7_harvestw5)\n",
    "\n",
    "\n",
    "### Merge Household level data\n",
    "### Merge Community level data"
   ]
  }
 ],
 "metadata": {
  "kernelspec": {
   "display_name": "Python 3 (ipykernel)",
   "language": "python",
   "name": "python3"
  },
  "language_info": {
   "codemirror_mode": {
    "name": "ipython",
    "version": 3
   },
   "file_extension": ".py",
   "mimetype": "text/x-python",
   "name": "python",
   "nbconvert_exporter": "python",
   "pygments_lexer": "ipython3",
   "version": "3.12.2"
  }
 },
 "nbformat": 4,
 "nbformat_minor": 5
}
