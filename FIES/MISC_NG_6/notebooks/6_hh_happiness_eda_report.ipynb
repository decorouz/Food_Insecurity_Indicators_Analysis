{
 "cells": [
  {
   "cell_type": "markdown",
   "id": "819c9708-5c27-4fcc-85a8-c0da394b48e2",
   "metadata": {},
   "source": [
    "## [Life Satisfaction and Happiness](https://ourworldindata.org/happiness-and-life-satisfaction)\n",
    "1. **Distribution of self reported life satisfaction by `entire household`, `hh_gender`, `zone`, `education level`**\n",
    "  <!-- Chart example -->\n",
    "  <div>\n",
    "      \n",
    "  <img src=\"../assets/happiness_vs_lifesatisfaction.png\" width=100 height=100 />\n",
    "  </div>\n",
    "  \n",
    "2. **The link between life statisfaction and household size**\n",
    "\n",
    "\n",
    "|zone|state|life satisfaction|housesize|population(historical)\n",
    "|----|-----|------------------|---------|------------|\n",
    "\n",
    "3. **Is `life satisfaction` the same as `happiness`?**\n",
    "\n",
    "Create of plot of **Happiness vs Life satisfaction**. \n",
    "\n",
    "|zone|state|life satisfaction|happiness(percentage of happy)|population(historical)|housholdsize\n",
    "|----|-----|------------------|---------|------------|--------------|\n",
    "\n",
    "\n",
    "\n",
    "  <div>\n",
    "      \n",
    "  <img src=\"../assets/happiness_vs_lifesatisfaction.png\" width=200 height=200 />\n",
    "  </div>\n",
    "\n",
    "\n",
    "The Integrated Values Surveys asks directly about happiness:\n",
    "Taking all things together, would you say you are:\n",
    "\n",
    "* Very happy,\n",
    "* Somewhat happy,\n",
    "* Neither happy not unhappy,\n",
    "* Somewhat unhappy,\n",
    "* Very unhappy,\n",
    "* No response\n",
    "\n",
    "\n",
    "4. **Share of adults who say they are happy**\n",
    "\n",
    "Share of people who respond they are \"very happy\" or \"somewhat happy\" to the question \"Taking all things together,\n",
    "would you say you are … ?\"\n",
    "* Map of `happy percent`.\n",
    "    * state\n",
    "    * zone\n",
    "    * area"
   ]
  },
  {
   "cell_type": "code",
   "execution_count": null,
   "id": "1093ef71-a5ec-4804-80dc-c61949c0feb3",
   "metadata": {},
   "outputs": [],
   "source": []
  }
 ],
 "metadata": {
  "kernelspec": {
   "display_name": "Python 3 (ipykernel)",
   "language": "python",
   "name": "python3"
  },
  "language_info": {
   "codemirror_mode": {
    "name": "ipython",
    "version": 3
   },
   "file_extension": ".py",
   "mimetype": "text/x-python",
   "name": "python",
   "nbconvert_exporter": "python",
   "pygments_lexer": "ipython3",
   "version": "3.12.2"
  }
 },
 "nbformat": 4,
 "nbformat_minor": 5
}
