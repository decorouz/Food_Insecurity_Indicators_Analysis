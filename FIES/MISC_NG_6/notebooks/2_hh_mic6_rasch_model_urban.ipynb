{
 "cells": [
  {
   "cell_type": "markdown",
   "id": "10231498-7bd1-46c3-bc81-a8c7d51ddd02",
   "metadata": {},
   "source": [
    "# Statistical validation of FIES data (Rasch Model)\n",
    "\n",
    "Before we can use the FIES data for urban food insecurity indicator, they need to be _statistically_ validated to make sure that the prevalence estimates we produce are valid and reliable.\n",
    "\n",
    "The analysis of FIES data involves:\n",
    "\n",
    "1. **Parameter estimation**: To calculate the level of food insecurity severity associated with each question and each respondent.\n",
    "2. **Statistical Validation**: To assess whether, depending on the quality of the data collected, the measure is valid.\n",
    "3. **Calculation of food insecurity prevalence estimates**: To calculate a measure of severity of the food insecurity condition experienced by each respondent, based on their answers to the eight FIES questions. This is then used to estimate the prevalence of food insecurity at moderate and/or\n",
    "severe levels in the population."
   ]
  },
  {
   "cell_type": "markdown",
   "id": "fe0b2ec7",
   "metadata": {},
   "source": [
    "## FIES analysis methodology (Rasch Model)\n",
    "Item Response Theory (IRT) is a methodology used to analyse responses to survey or test questions.\n",
    "The Rasch model is one of several models in IRT and is applied for the analysis of FIES data. Item response theory aims to improve the measurement accuracy and reliability of surveys and tests through analysis of response data. The item response theory (IRT) measurement model known as the `Rasch` model provides a theoretical base and a set of statistical tools to:\n",
    "\n",
    "* assess the suitability of a set of survey items for scale construction\n",
    "* create a scale from the items, and compare performance of a scale in various populations and survey contexts.\n",
    "\n",
    "The Rasch model is expressed mathematically as :\n",
    "\n",
    "\n",
    "$$Prob(x_{h,i} = 1|θ_h, β_i) =  \\frac {e^{θ_h - β_i}}{1 + e^{θ_h - β_i}}$$\n",
    "\n",
    "_where $x_{ℎ,𝑖}$ is the response given by respondent *h* to item *i*, coded as 1 for “yes” and 0 for “no”.\n",
    "The relative severity associated with each of the experiences (the parameters $β_i$\n",
    "in the formula above) can be inferred from the frequency with which they are reported by a large sample of respondents,  assuming that, all else being equal, more severe experiences are reported by fewer respondents. \n",
    "Once the severity of each experience is estimated, the severity of a respondent’s condition (the 𝜃ℎ parameter) can be computed by noting how many of the items have been affirmed._\n",
    "\n",
    "\n",
    "### Assumptions of the Rasch model\n",
    "The Rasch model is based upon four key assumptions:\n",
    "* Only one dimension is represented by the response data. For the FIES, this is the access dimension\n",
    "of food security\n",
    "* An individual’s responses to the eight FIES items are correlated with each other only because they are all conditioned by the severity of food insecurity of that individual.\n",
    "* The greater the severity of food insecurity experienced by a respondent, the higher the likelihood that he or she will respond affirmatively to each item\n",
    "* All items are equally strongly related to the latent trait of food insecurity and differ only in severity. ie All items discriminate equally\n",
    "\n",
    "### Relative Scale\n",
    "<center>\n",
    "<img src=\"../assets/fies_relative_scale.png\" width=\"500\" />\n",
    "<figcaption style=\"font-size: 10px; font-style: italic;\">Fig. 1: Relative scale of severity</figcaption>\n",
    "</center>\n",
    "\n"
   ]
  },
  {
   "cell_type": "markdown",
   "id": "7d4ad55f",
   "metadata": {},
   "source": [
    "## Preparing the data for analysis\n",
    "To prepare the data collected through the FIES survey module for analysis, each item should be\n",
    "coded, so that: 0 is used for a \"no\" response; 1 is used for a \"yes\" response.\n",
    "\n",
    "The FIES survey module allows recording of **\"don't know\" and \"refused\"** responses to\n",
    "any of the FIES items. For our analytic purposes, such answers are treated as \"missing\" and\n",
    "cases with missing responses for any of the FIES items are excluded from the analysis.\n",
    "\n",
    "**Important Terminologies**\n",
    "For the purpose of FIES analysis, the term **item** will refer to the **questions** in the survey module.\n",
    "- A **respondent** is an individual or household responding to the items.\n",
    "- A **case** is the unit for which data are collected and appear in a dataset.\n",
    "- A **parameter** is a numerical quantity that characterizes a given population or some aspect of it, and\n",
    "that can be estimated using observed data.\n",
    "\n",
    "In the case of the FIES, parameters express the severity of food insecurity of both:\n",
    "* the FIES questions (**item parameters**);\n",
    "* the people who answer them (**respondent parameters**). \n",
    "\n",
    "Now that we understand how the **items** and **respondents** each have a place along the scale of severity.\n",
    "The next step is to estimate their parameters to determine their exact location."
   ]
  },
  {
   "cell_type": "code",
   "execution_count": 2,
   "id": "f68417ac-2cbb-4018-a3ae-90c52e705819",
   "metadata": {},
   "outputs": [],
   "source": [
    "## Import Libraries and load data\n",
    "import pandas as pd\n",
    "import numpy as np\n",
    "import re"
   ]
  },
  {
   "cell_type": "code",
   "execution_count": 3,
   "id": "0f9d4171",
   "metadata": {},
   "outputs": [
    {
     "name": "stdout",
     "output_type": "stream",
     "text": [
      "area\n",
      "RURAL    22804\n",
      "URBAN    10827\n",
      "Name: count, dtype: int64\n"
     ]
    },
    {
     "data": {
      "text/plain": [
       "(10827, 33)"
      ]
     },
     "execution_count": 3,
     "metadata": {},
     "output_type": "execute_result"
    }
   ],
   "source": [
    "\n",
    "\n",
    "# Load FIES data for Urban Population ONLY\n",
    "df_all = pd.read_csv(\"../processed_data/hh_fies_df.csv\")\n",
    "\n",
    "print(df_all.area.value_counts())\n",
    "\n",
    "df = df_all.loc[df_all[\"area\"] == \"URBAN\"].reset_index(drop=True)\n",
    "\n",
    "df.shape\n",
    "\n"
   ]
  },
  {
   "cell_type": "code",
   "execution_count": 3,
   "id": "9a1c85b5",
   "metadata": {},
   "outputs": [
    {
     "name": "stdout",
     "output_type": "stream",
     "text": [
      "Number of items (questions) in the FIES: 10827\n",
      "(10827, 10)\n"
     ]
    },
    {
     "data": {
      "text/html": [
       "<div>\n",
       "<style scoped>\n",
       "    .dataframe tbody tr th:only-of-type {\n",
       "        vertical-align: middle;\n",
       "    }\n",
       "\n",
       "    .dataframe tbody tr th {\n",
       "        vertical-align: top;\n",
       "    }\n",
       "\n",
       "    .dataframe thead th {\n",
       "        text-align: right;\n",
       "    }\n",
       "</style>\n",
       "<table border=\"1\" class=\"dataframe\">\n",
       "  <thead>\n",
       "    <tr style=\"text-align: right;\">\n",
       "      <th></th>\n",
       "      <th>WORRIED</th>\n",
       "      <th>HEALTHY</th>\n",
       "      <th>FEWFOOD</th>\n",
       "      <th>SKIPPED</th>\n",
       "      <th>ATELESS</th>\n",
       "      <th>RANOUT</th>\n",
       "      <th>HUNGRY</th>\n",
       "      <th>WHLDAY</th>\n",
       "      <th>fies_score</th>\n",
       "      <th>hhweightmics</th>\n",
       "    </tr>\n",
       "  </thead>\n",
       "  <tbody>\n",
       "    <tr>\n",
       "      <th>0</th>\n",
       "      <td>1</td>\n",
       "      <td>1</td>\n",
       "      <td>1</td>\n",
       "      <td>1</td>\n",
       "      <td>1</td>\n",
       "      <td>1</td>\n",
       "      <td>1</td>\n",
       "      <td>0</td>\n",
       "      <td>7</td>\n",
       "      <td>0.61955</td>\n",
       "    </tr>\n",
       "    <tr>\n",
       "      <th>1</th>\n",
       "      <td>1</td>\n",
       "      <td>1</td>\n",
       "      <td>1</td>\n",
       "      <td>1</td>\n",
       "      <td>1</td>\n",
       "      <td>1</td>\n",
       "      <td>0</td>\n",
       "      <td>0</td>\n",
       "      <td>6</td>\n",
       "      <td>0.61955</td>\n",
       "    </tr>\n",
       "    <tr>\n",
       "      <th>2</th>\n",
       "      <td>1</td>\n",
       "      <td>0</td>\n",
       "      <td>0</td>\n",
       "      <td>1</td>\n",
       "      <td>1</td>\n",
       "      <td>1</td>\n",
       "      <td>1</td>\n",
       "      <td>0</td>\n",
       "      <td>5</td>\n",
       "      <td>0.61955</td>\n",
       "    </tr>\n",
       "    <tr>\n",
       "      <th>3</th>\n",
       "      <td>0</td>\n",
       "      <td>1</td>\n",
       "      <td>1</td>\n",
       "      <td>1</td>\n",
       "      <td>1</td>\n",
       "      <td>1</td>\n",
       "      <td>1</td>\n",
       "      <td>1</td>\n",
       "      <td>7</td>\n",
       "      <td>0.61955</td>\n",
       "    </tr>\n",
       "    <tr>\n",
       "      <th>4</th>\n",
       "      <td>1</td>\n",
       "      <td>1</td>\n",
       "      <td>1</td>\n",
       "      <td>1</td>\n",
       "      <td>1</td>\n",
       "      <td>1</td>\n",
       "      <td>1</td>\n",
       "      <td>0</td>\n",
       "      <td>7</td>\n",
       "      <td>0.61955</td>\n",
       "    </tr>\n",
       "  </tbody>\n",
       "</table>\n",
       "</div>"
      ],
      "text/plain": [
       "   WORRIED  HEALTHY  FEWFOOD  SKIPPED  ATELESS  RANOUT  HUNGRY  WHLDAY  \\\n",
       "0        1        1        1        1        1       1       1       0   \n",
       "1        1        1        1        1        1       1       0       0   \n",
       "2        1        0        0        1        1       1       1       0   \n",
       "3        0        1        1        1        1       1       1       1   \n",
       "4        1        1        1        1        1       1       1       0   \n",
       "\n",
       "   fies_score  hhweightmics  \n",
       "0           7       0.61955  \n",
       "1           6       0.61955  \n",
       "2           5       0.61955  \n",
       "3           7       0.61955  \n",
       "4           7       0.61955  "
      ]
     },
     "execution_count": 3,
     "metadata": {},
     "output_type": "execute_result"
    }
   ],
   "source": [
    "### Saving the FIES data and corresponding weights\n",
    "\n",
    "# select fies columns\"\n",
    "fies_cols = [col for col in df.columns if re.search(r'^(fe)\\d+$', col)]\n",
    "fies_data = df.loc[:, fies_cols]\n",
    "\n",
    "\n",
    "### Calculate raw scores (number of yes for each individual to the 8 questions)\n",
    "fies_data = fies_data.assign(fies_score = fies_data[fies_cols].sum(axis=\"columns\"))\n",
    "\n",
    "\n",
    "### Number of items (questions) of the FIES\n",
    "k = len(fies_data)\n",
    "print(\"Number of items (questions) in the FIES:\", k)\n",
    "\n",
    "# Saving the FIES data and corresponding weights\n",
    "fies_data_wt = df[\"hhweightmics\"]\n",
    "\n",
    "# Dictionary mapping Food Insecurity Experience Scale (FIES) item codes to their descriptive names\n",
    "fies_dict = {\n",
    "    \"fe1\": \"WORRIED\",\n",
    "    \"fe2\": \"HEALTHY\",\n",
    "    \"fe3\": \"FEWFOOD\",\n",
    "    \"fe4\": \"SKIPPED\",\n",
    "    \"fe5\": \"ATELESS\",\n",
    "    \"fe6\": \"RANOUT\",\n",
    "    \"fe7\": \"HUNGRY\",\n",
    "    \"fe8\": \"WHLDAY\",\n",
    "}\n",
    "\n",
    "# Rename columns\n",
    "fies_data = fies_data.rename(columns=fies_dict)\n",
    "fies_data = pd.concat([fies_data, fies_data_wt], axis=1)\n",
    "\n",
    "# Save the output to a csv file\n",
    "fies_data.to_csv(\"../processed_data/fies_rasch_urban.csv\", index=False)\n",
    "print(fies_data.shape)\n",
    "fies_data.head()\n",
    "\n"
   ]
  },
  {
   "cell_type": "code",
   "execution_count": 4,
   "id": "83c5ce0b-906d-4348-8502-e36fc285ccbd",
   "metadata": {},
   "outputs": [
    {
     "data": {
      "text/plain": [
       "147"
      ]
     },
     "execution_count": 4,
     "metadata": {},
     "output_type": "execute_result"
    }
   ],
   "source": [
    "10827-10680\n"
   ]
  },
  {
   "cell_type": "code",
   "execution_count": 4,
   "id": "bee7019a-e445-4095-a505-d168c1f30046",
   "metadata": {},
   "outputs": [
    {
     "data": {
      "text/plain": [
       "WORRIED         0\n",
       "HEALTHY         0\n",
       "FEWFOOD         0\n",
       "SKIPPED         0\n",
       "ATELESS         0\n",
       "RANOUT          0\n",
       "HUNGRY          0\n",
       "WHLDAY          0\n",
       "fies_score      0\n",
       "hhweightmics    0\n",
       "dtype: int64"
      ]
     },
     "execution_count": 4,
     "metadata": {},
     "output_type": "execute_result"
    }
   ],
   "source": [
    "fies_data.isna().sum()"
   ]
  },
  {
   "cell_type": "markdown",
   "id": "3eb9bfbe",
   "metadata": {},
   "source": [
    "### Set up Jupyter to write R code"
   ]
  },
  {
   "cell_type": "code",
   "execution_count": 4,
   "id": "00af3208",
   "metadata": {},
   "outputs": [],
   "source": [
    "## Import the function for importing R packages in Python\n",
    "from rpy2.robjects.packages import importr\n",
    "from rpy2.robjects import pandas2ri\n",
    "import rpy2.robjects as ro\n",
    "\n",
    "# Load the rpy2.ipython extension to use R magic commands in Jupyter notebooks\n",
    "%load_ext rpy2.ipython\n",
    "pandas2ri.activate()"
   ]
  },
  {
   "cell_type": "code",
   "execution_count": 5,
   "id": "e7ec91c0",
   "metadata": {},
   "outputs": [
    {
     "name": "stdout",
     "output_type": "stream",
     "text": [
      "── Attaching core tidyverse packages ──────────────────────── tidyverse 2.0.0 ──\n",
      "✔ dplyr     1.1.4     ✔ readr     2.1.3\n",
      "✔ forcats   1.0.0     ✔ stringr   1.5.1\n",
      "✔ ggplot2   3.5.1     ✔ tibble    3.2.1\n",
      "✔ lubridate 1.9.3     ✔ tidyr     1.3.0\n",
      "✔ purrr     1.0.2     \n",
      "── Conflicts ────────────────────────────────────────── tidyverse_conflicts() ──\n",
      "✖ dplyr::filter() masks stats::filter()\n",
      "✖ dplyr::lag()    masks stats::lag()\n",
      "ℹ Use the conflicted package (<http://conflicted.r-lib.org/>) to force all conflicts to become errors\n"
     ]
    },
    {
     "data": {
      "text/plain": [
       "Loading required package: CDM\n",
       "Loading required package: mvtnorm\n",
       "**********************************\n",
       "** CDM 8.2-6 (2022-08-25 15:43:23)       \n",
       "** Cognitive Diagnostic Models  **\n",
       "**********************************\n",
       "\n",
       "* TAM 4.1-4 (2022-08-28 16:03:54)\n",
       "Loading required package: RM.weights\n",
       "Loading required package: psychotools\n",
       "Loading required package: Hmisc\n",
       "\n",
       "Attaching package: ‘Hmisc’\n",
       "\n",
       "The following objects are masked from ‘package:dplyr’:\n",
       "\n",
       "    src, summarize\n",
       "\n",
       "The following objects are masked from ‘package:base’:\n",
       "\n",
       "    format.pval, units\n",
       "\n"
      ]
     },
     "metadata": {},
     "output_type": "display_data"
    }
   ],
   "source": [
    "%%R\n",
    "library(tidyverse)\n",
    "library(TAM)\n",
    "library(WrightMap)\n",
    "if(!require('RM.weights')) {\n",
    "  install.packages('RM.weights')\n",
    "  library('RM.weights')\n",
    "}"
   ]
  },
  {
   "cell_type": "markdown",
   "id": "6d97e08e",
   "metadata": {},
   "source": [
    "### Psychometric analysis\n"
   ]
  },
  {
   "cell_type": "markdown",
   "id": "0e533094",
   "metadata": {},
   "source": [
    "#### **Estimating the item parameters**\n",
    "\n",
    "The item parameter is estimated based on the overall pattern of responses given by all\n",
    "respondents. A question representing a less severe experience will have a smaller parameter value,\n",
    "whereas a question representing a more severe experience will have a larger parameter value.\n",
    "\n",
    "The relative severity of the items is determined based upon the understanding that the more severe\n",
    "an item is, the less likely respondents are to report it. "
   ]
  },
  {
   "cell_type": "code",
   "execution_count": 6,
   "id": "b5ace7b0",
   "metadata": {},
   "outputs": [
    {
     "name": "stdout",
     "output_type": "stream",
     "text": [
      "Rows: 10827 Columns: 10\n",
      "── Column specification ────────────────────────────────────────────────────────\n",
      "Delimiter: \",\"\n",
      "dbl (10): WORRIED, HEALTHY, FEWFOOD, SKIPPED, ATELESS, RANOUT, HUNGRY, WHLDA...\n",
      "\n",
      "ℹ Use `spec()` to retrieve the full column specification for this data.\n",
      "ℹ Specify the column types or set `show_col_types = FALSE` to quiet this message.\n"
     ]
    }
   ],
   "source": [
    "%%R\n",
    "\n",
    "# Read the CSV file while selecting columns using the regex pattern\n",
    "fies.ng <- read_csv(\"../processed_data/fies_rasch_urban.csv\")\n",
    "\n",
    "XX.ng <- fies.ng[,1:8]\n",
    "wt.ng <- fies.ng$hhweightmics\n",
    "rr.ng <- RM.w(XX.ng, wt.ng)\n",
    "\n",
    "\n",
    "fit.descr = tab.weight(wt = wt.ng, XX = XX.ng)\n",
    "\n",
    "# Display the item severities, standard errors, infits4 and outfits\n",
    "\n",
    "parameter_estimate <- tibble::rownames_to_column(\n",
    "  data.frame(\n",
    "    \"Item Severity\" = rr.ng$b,      # Item severity estimate\n",
    "    \"Stardard Error\" = rr.ng$se.b,  # Item standard error\n",
    "    \"Infit\" = rr.ng$infit,           # Infit\n",
    "    \"Outfit\" = rr.ng$outfit,\n",
    "    \"Weighted perc. of Yes\" = fit.descr$Perc.Yes.w,\n",
    "    \"Unweighted perc. of Yes\" = fit.descr$Perc.Yes\n",
    "  ),\n",
    "  var = \"Item\"\n",
    ")\n",
    "\n",
    "# write the parameter estimates to a CSV file\n",
    "write.csv(parameter_estimate, \"../processed_data/fies_item_parameter_statistics_urban.csv\")\n"
   ]
  },
  {
   "cell_type": "code",
   "execution_count": 7,
   "id": "fd5e730c",
   "metadata": {
    "tags": [
     "perc_wt_response"
    ]
   },
   "outputs": [
    {
     "data": {
      "text/html": [
       "<div>\n",
       "<style scoped>\n",
       "    .dataframe tbody tr th:only-of-type {\n",
       "        vertical-align: middle;\n",
       "    }\n",
       "\n",
       "    .dataframe tbody tr th {\n",
       "        vertical-align: top;\n",
       "    }\n",
       "\n",
       "    .dataframe thead th {\n",
       "        text-align: right;\n",
       "    }\n",
       "</style>\n",
       "<table border=\"1\" class=\"dataframe\">\n",
       "  <thead>\n",
       "    <tr style=\"text-align: right;\">\n",
       "      <th></th>\n",
       "      <th>Item</th>\n",
       "      <th>Item.Severity</th>\n",
       "      <th>Stardard.Error</th>\n",
       "      <th>Infit</th>\n",
       "      <th>Outfit</th>\n",
       "      <th>Weighted.perc..of.Yes</th>\n",
       "      <th>Unweighted.perc..of.Yes</th>\n",
       "    </tr>\n",
       "  </thead>\n",
       "  <tbody>\n",
       "    <tr>\n",
       "      <th>1</th>\n",
       "      <td>WORRIED</td>\n",
       "      <td>-2.195857</td>\n",
       "      <td>0.054525</td>\n",
       "      <td>1.085374</td>\n",
       "      <td>2.010066</td>\n",
       "      <td>0.76</td>\n",
       "      <td>0.76</td>\n",
       "    </tr>\n",
       "    <tr>\n",
       "      <th>2</th>\n",
       "      <td>HEALTHY</td>\n",
       "      <td>-1.254218</td>\n",
       "      <td>0.044594</td>\n",
       "      <td>1.093160</td>\n",
       "      <td>1.784592</td>\n",
       "      <td>0.72</td>\n",
       "      <td>0.72</td>\n",
       "    </tr>\n",
       "    <tr>\n",
       "      <th>3</th>\n",
       "      <td>FEWFOOD</td>\n",
       "      <td>-1.243374</td>\n",
       "      <td>0.044501</td>\n",
       "      <td>0.980599</td>\n",
       "      <td>1.657992</td>\n",
       "      <td>0.72</td>\n",
       "      <td>0.72</td>\n",
       "    </tr>\n",
       "    <tr>\n",
       "      <th>4</th>\n",
       "      <td>SKIPPED</td>\n",
       "      <td>-0.208792</td>\n",
       "      <td>0.037498</td>\n",
       "      <td>0.905025</td>\n",
       "      <td>0.828380</td>\n",
       "      <td>0.65</td>\n",
       "      <td>0.64</td>\n",
       "    </tr>\n",
       "    <tr>\n",
       "      <th>5</th>\n",
       "      <td>ATELESS</td>\n",
       "      <td>-0.777261</td>\n",
       "      <td>0.040908</td>\n",
       "      <td>0.857958</td>\n",
       "      <td>1.081861</td>\n",
       "      <td>0.69</td>\n",
       "      <td>0.69</td>\n",
       "    </tr>\n",
       "    <tr>\n",
       "      <th>6</th>\n",
       "      <td>RANOUT</td>\n",
       "      <td>0.643227</td>\n",
       "      <td>0.034604</td>\n",
       "      <td>0.883658</td>\n",
       "      <td>0.877827</td>\n",
       "      <td>0.57</td>\n",
       "      <td>0.57</td>\n",
       "    </tr>\n",
       "    <tr>\n",
       "      <th>7</th>\n",
       "      <td>HUNGRY</td>\n",
       "      <td>1.460428</td>\n",
       "      <td>0.034475</td>\n",
       "      <td>0.826726</td>\n",
       "      <td>0.866325</td>\n",
       "      <td>0.48</td>\n",
       "      <td>0.50</td>\n",
       "    </tr>\n",
       "    <tr>\n",
       "      <th>8</th>\n",
       "      <td>WHLDAY</td>\n",
       "      <td>3.574856</td>\n",
       "      <td>0.047100</td>\n",
       "      <td>1.081359</td>\n",
       "      <td>2.096552</td>\n",
       "      <td>0.26</td>\n",
       "      <td>0.29</td>\n",
       "    </tr>\n",
       "  </tbody>\n",
       "</table>\n",
       "</div>"
      ],
      "text/plain": [
       "      Item  Item.Severity  Stardard.Error     Infit    Outfit  \\\n",
       "1  WORRIED      -2.195857        0.054525  1.085374  2.010066   \n",
       "2  HEALTHY      -1.254218        0.044594  1.093160  1.784592   \n",
       "3  FEWFOOD      -1.243374        0.044501  0.980599  1.657992   \n",
       "4  SKIPPED      -0.208792        0.037498  0.905025  0.828380   \n",
       "5  ATELESS      -0.777261        0.040908  0.857958  1.081861   \n",
       "6   RANOUT       0.643227        0.034604  0.883658  0.877827   \n",
       "7   HUNGRY       1.460428        0.034475  0.826726  0.866325   \n",
       "8   WHLDAY       3.574856        0.047100  1.081359  2.096552   \n",
       "\n",
       "   Weighted.perc..of.Yes  Unweighted.perc..of.Yes  \n",
       "1                   0.76                     0.76  \n",
       "2                   0.72                     0.72  \n",
       "3                   0.72                     0.72  \n",
       "4                   0.65                     0.64  \n",
       "5                   0.69                     0.69  \n",
       "6                   0.57                     0.57  \n",
       "7                   0.48                     0.50  \n",
       "8                   0.26                     0.29  "
      ]
     },
     "execution_count": 7,
     "metadata": {},
     "output_type": "execute_result"
    }
   ],
   "source": [
    "# Output showing the item parameters and the errors associated with each of them\n",
    "pd.read_csv(\"../processed_data/fies_item_parameter_statistics_urban.csv\", index_col=0)"
   ]
  },
  {
   "cell_type": "markdown",
   "id": "5a16a1ab",
   "metadata": {},
   "source": [
    "**Observations**\n",
    "\n",
    "**The higher the severity of an item, the more severe the experience is**. The item `WHLDAY` (eating anything for a whole day because of a lack of money or other resources) has the highest item severity (3.57), representing therefore the most severe experience.\n",
    "\n",
    "\n",
    "* The item `WHLDAY` has the highest item parameter (3.57 logits) with the lowest affirmative response (26%), \n",
    "* Item `WORRIED` had the lowest item parameter (−2.19 logit) and obtained the highest affirmative response (76%).\n",
    "* `WHLDAY` has the highest severity, implies, of all the items, it received the fewest number of \"YES\" response (26%).\n"
   ]
  },
  {
   "cell_type": "markdown",
   "id": "4c957e85",
   "metadata": {},
   "source": [
    "#### **Estimating the Respondent parameters**\n",
    "\n",
    "A respondent's **raw score** is the basis for calculating the respondent parameter.\n",
    "No matter how many respondents are included in a sample, there will always be up to nine distinct\n",
    "values of respondent parameters, one for each possible raw score (0-8).\n",
    "\n",
    "> _**raw score**: The raw score is the number of affirmative responses given to the eight FIES questions - it is an\n",
    "integer number with a value between zero and 8._\n",
    "\n",
    "An essential point to understand is that every respondent who answers \"yes\" to the\n",
    "same number of questions (irrespective of which ones) will be assigned the **same\n",
    "parameter**. The specific questions affirmed are not used to determine the parameter."
   ]
  },
  {
   "cell_type": "code",
   "execution_count": 8,
   "id": "db223412",
   "metadata": {},
   "outputs": [],
   "source": [
    "\n",
    "%%R\n",
    "\n",
    "fit.descr = tab.weight(wt = wt.ng, XX = XX.ng)\n",
    "\n",
    "\n",
    "# Display the Respondent parameter, \n",
    "respondent_param_estimate <- tibble::rownames_to_column(\n",
    "  data.frame(\n",
    "    \"Respondent Severity\" = rr.ng$a,       # Respondent severity for each raw score\n",
    "    \"Stardard Error\" = rr.ng$se.a,        # Respondent measurement error for each raw score\n",
    "    \"Abs.RS distrib.\" = fit.descr$RS.abs.w,\n",
    "    \"weighted Rel.RS distrib.\" = fit.descr$RS.rel.w*100\n",
    "  ),\n",
    "  var = \"row_score\"\n",
    ")\n",
    "\n",
    "respondent_param_estimate$'row_score' <- as.integer(respondent_param_estimate$'row_score') - 1\n",
    "\n",
    "# write the parameter estimates to a CSV file\n",
    "write.csv(respondent_param_estimate, \"../processed_data/fies_respondent_params_statistics_urban.csv\", )\n"
   ]
  },
  {
   "cell_type": "code",
   "execution_count": 9,
   "id": "e81b7b68",
   "metadata": {},
   "outputs": [
    {
     "data": {
      "text/html": [
       "<div>\n",
       "<style scoped>\n",
       "    .dataframe tbody tr th:only-of-type {\n",
       "        vertical-align: middle;\n",
       "    }\n",
       "\n",
       "    .dataframe tbody tr th {\n",
       "        vertical-align: top;\n",
       "    }\n",
       "\n",
       "    .dataframe thead th {\n",
       "        text-align: right;\n",
       "    }\n",
       "</style>\n",
       "<table border=\"1\" class=\"dataframe\">\n",
       "  <thead>\n",
       "    <tr style=\"text-align: right;\">\n",
       "      <th></th>\n",
       "      <th>row_score</th>\n",
       "      <th>Respondent.Severity</th>\n",
       "      <th>Stardard.Error</th>\n",
       "      <th>Abs.RS.distrib.</th>\n",
       "      <th>weighted.Rel.RS.distrib.</th>\n",
       "    </tr>\n",
       "  </thead>\n",
       "  <tbody>\n",
       "    <tr>\n",
       "      <th>1</th>\n",
       "      <td>0</td>\n",
       "      <td>-3.553509</td>\n",
       "      <td>1.511327</td>\n",
       "      <td>3041.10</td>\n",
       "      <td>19</td>\n",
       "    </tr>\n",
       "    <tr>\n",
       "      <th>2</th>\n",
       "      <td>1</td>\n",
       "      <td>-2.717825</td>\n",
       "      <td>1.142284</td>\n",
       "      <td>508.49</td>\n",
       "      <td>3</td>\n",
       "    </tr>\n",
       "    <tr>\n",
       "      <th>3</th>\n",
       "      <td>2</td>\n",
       "      <td>-1.707028</td>\n",
       "      <td>0.918332</td>\n",
       "      <td>460.00</td>\n",
       "      <td>3</td>\n",
       "    </tr>\n",
       "    <tr>\n",
       "      <th>4</th>\n",
       "      <td>3</td>\n",
       "      <td>-0.915248</td>\n",
       "      <td>0.857817</td>\n",
       "      <td>582.35</td>\n",
       "      <td>4</td>\n",
       "    </tr>\n",
       "    <tr>\n",
       "      <th>5</th>\n",
       "      <td>4</td>\n",
       "      <td>-0.304275</td>\n",
       "      <td>0.860974</td>\n",
       "      <td>909.94</td>\n",
       "      <td>6</td>\n",
       "    </tr>\n",
       "    <tr>\n",
       "      <th>6</th>\n",
       "      <td>5</td>\n",
       "      <td>0.580177</td>\n",
       "      <td>0.923099</td>\n",
       "      <td>1761.61</td>\n",
       "      <td>11</td>\n",
       "    </tr>\n",
       "    <tr>\n",
       "      <th>7</th>\n",
       "      <td>6</td>\n",
       "      <td>1.614144</td>\n",
       "      <td>1.068513</td>\n",
       "      <td>2075.31</td>\n",
       "      <td>13</td>\n",
       "    </tr>\n",
       "    <tr>\n",
       "      <th>8</th>\n",
       "      <td>7</td>\n",
       "      <td>2.995950</td>\n",
       "      <td>1.350773</td>\n",
       "      <td>3045.10</td>\n",
       "      <td>19</td>\n",
       "    </tr>\n",
       "    <tr>\n",
       "      <th>9</th>\n",
       "      <td>8</td>\n",
       "      <td>4.113990</td>\n",
       "      <td>1.511327</td>\n",
       "      <td>3369.49</td>\n",
       "      <td>21</td>\n",
       "    </tr>\n",
       "  </tbody>\n",
       "</table>\n",
       "</div>"
      ],
      "text/plain": [
       "   row_score  Respondent.Severity  Stardard.Error  Abs.RS.distrib.  \\\n",
       "1          0            -3.553509        1.511327          3041.10   \n",
       "2          1            -2.717825        1.142284           508.49   \n",
       "3          2            -1.707028        0.918332           460.00   \n",
       "4          3            -0.915248        0.857817           582.35   \n",
       "5          4            -0.304275        0.860974           909.94   \n",
       "6          5             0.580177        0.923099          1761.61   \n",
       "7          6             1.614144        1.068513          2075.31   \n",
       "8          7             2.995950        1.350773          3045.10   \n",
       "9          8             4.113990        1.511327          3369.49   \n",
       "\n",
       "   weighted.Rel.RS.distrib.  \n",
       "1                        19  \n",
       "2                         3  \n",
       "3                         3  \n",
       "4                         4  \n",
       "5                         6  \n",
       "6                        11  \n",
       "7                        13  \n",
       "8                        19  \n",
       "9                        21  "
      ]
     },
     "execution_count": 9,
     "metadata": {},
     "output_type": "execute_result"
    }
   ],
   "source": [
    "# Display weighted distribution across raw-scores (absolute and relative)\n",
    "pd.read_csv(\"../processed_data/fies_respondent_params_statistics_urban.csv\", index_col=0)"
   ]
  },
  {
   "cell_type": "code",
   "execution_count": 10,
   "id": "c600bb11",
   "metadata": {},
   "outputs": [
    {
     "name": "stderr",
     "output_type": "stream",
     "text": [
      "R[write to console]: In addition: \n",
      "R[write to console]: Warning messages:\n",
      "\n",
      "R[write to console]: 1: \n",
      "R[write to console]: In geom_text(aes(x = 1, y = -3.7, label = \"MILD\"), color = \"white\",  :\n",
      "R[write to console]: \n",
      " \n",
      "R[write to console]:  All aesthetics have length 1, but the data has 9 rows.\n",
      "ℹ Please consider using `annotate()` or provide this layer with data containing\n",
      "  a single row.\n",
      "\n",
      "R[write to console]: 2: \n",
      "R[write to console]: In geom_text(aes(x = 7, y = 4.3, label = \"SEVERE\"), color = \"white\",  :\n",
      "R[write to console]: \n",
      " \n",
      "R[write to console]:  All aesthetics have length 1, but the data has 9 rows.\n",
      "ℹ Please consider using `annotate()` or provide this layer with data containing\n",
      "  a single row.\n",
      "\n"
     ]
    },
    {
     "data": {
      "text/plain": [
       "In addition: Warning messages:\n",
       "1: In geom_text(aes(x = 1, y = -3.7, label = \"MILD\"), color = \"white\",  :\n",
       "  All aesthetics have length 1, but the data has 9 rows.\n",
       "ℹ Please consider using `annotate()` or provide this layer with data containing\n",
       "  a single row.\n",
       "2: In geom_text(aes(x = 7, y = 4.3, label = \"SEVERE\"), color = \"white\",  :\n",
       "  All aesthetics have length 1, but the data has 9 rows.\n",
       "ℹ Please consider using `annotate()` or provide this layer with data containing\n",
       "  a single row.\n"
      ]
     },
     "metadata": {},
     "output_type": "display_data"
    },
    {
     "data": {
      "image/png": "[encoded data removed]",
      "text/plain": [
       "<IPython.core.display.Image object>"
      ]
     },
     "metadata": {},
     "output_type": "display_data"
    }
   ],
   "source": [
    "%%R\n",
    "# Install and load ggplot2 library\n",
    "# install.packages(\"ggplot2\")\n",
    "library(ggplot2)\n",
    "\n",
    "# Create the data frame with the given data\n",
    "data <- data.frame(\n",
    "  row_score = 0:8,\n",
    "  Respondent.Severity = rr.ng$a\n",
    ")\n",
    "\n",
    "# Create the plot\n",
    "plot <- ggplot(data, aes(x = row_score, y = Respondent.Severity)) +\n",
    "  geom_point(size = 4, color = \"orange\") +\n",
    "  geom_segment(aes(x = row_score, xend = row_score, y = 0, yend = Respondent.Severity), color = \"orange\") +\n",
    "  geom_text(aes(label = round(Respondent.Severity, 2)), vjust = -1.5, size = 5, color = \"black\") +\n",
    "  scale_x_continuous(breaks = 0:8, labels = 0:8, limits = c(-1, 9)) +\n",
    "  scale_y_continuous(limits = c(-4, 5)) +\n",
    "  labs(title = \"Respondent Severity by Row Score\", x = \"Row Score\", y = \"Respondent Severity\") +\n",
    "  theme_minimal() +\n",
    "  theme(\n",
    "    plot.title = element_text(hjust = 0.5, size = 20),\n",
    "    axis.title.x = element_text(size = 16),\n",
    "    axis.title.y = element_text(size = 16),\n",
    "    axis.text = element_text(size = 12)\n",
    "  ) +\n",
    "  geom_text(aes(x = 1, y = -3.7, label = \"MILD\"), color = \"white\", size = 6) +\n",
    "  geom_text(aes(x = 7, y = 4.3, label = \"SEVERE\"), color = \"white\", size = 6)\n",
    "\n",
    "# Save the plot with specific dimensions\n",
    "ggsave(\"../assets/fies_rawscore_respondent_params_plot.png\", plot, width = 16, height = 6)\n",
    "plot\n"
   ]
  },
  {
   "cell_type": "markdown",
   "id": "cff6441e",
   "metadata": {},
   "source": [
    "##### Difference between the raw score and the respondent parameter \n",
    "\n",
    "Even if expressed by numbers, the raw score only provides an ordinal measure of food insecurity:\n",
    "the difference in severity between adjacent raw scores is not constant\n",
    "\n",
    "**Raw Score**\n",
    "\n",
    "Looking at raw scores only, you can see that a respondent with a raw score of 6 is more food secure\n",
    "than someone with score of 7 and more food insecure than someone with score of 5.\n"
   ]
  },
  {
   "cell_type": "markdown",
   "id": "75d36408",
   "metadata": {},
   "source": [
    "\n",
    "<center>\n",
    "<img src=\"../assets/respondent_params_plot.png\" width=\"700\" />\n",
    "<!-- <figcaption style=\"font-size: 10px; font-style: italic;\">Fig. 1: Relative scale of severity</figcaption> -->\n",
    "</center>"
   ]
  },
  {
   "cell_type": "markdown",
   "id": "21f8ca06",
   "metadata": {},
   "source": [
    "**Respondent parameter**\n",
    "\n",
    "Using respondent parameters, we can observe that the difference in severity is smaller between raw\n",
    "scores 5 and 6 than between 6 and 7.\n",
    "\n",
    "* Parameters indicate where a person with each raw score will be located along the scale of severity.\n",
    "* Respondent **parameters** allow us to more precisely evaluate the relative differences in food\n",
    "insecurity severity along the scale, between the respondents with each raw score.\n",
    "\n",
    "**For example**\n",
    "\n",
    "Is it true that a respondent with a raw score of 4 is twice as food insecure as a respondent with a\n",
    "raw score of 2? It is not true. \n",
    "\n",
    "Raw score can only be used as an ordinal measure of food insecurity, meaning that\n",
    "we know that someone with a raw score of 4 is more food insecure than someone with a raw\n",
    "score of 2, but we do not know the exact difference in food insecurity severity between these two\n",
    "respondents. Only the respondent parameter can tell us this, as it is an interval measure of food\n",
    "insecurity.\n",
    "\n"
   ]
  },
  {
   "cell_type": "code",
   "execution_count": 11,
   "id": "852feaed",
   "metadata": {},
   "outputs": [
    {
     "data": {
      "text/html": [
       "<div>\n",
       "<style scoped>\n",
       "    .dataframe tbody tr th:only-of-type {\n",
       "        vertical-align: middle;\n",
       "    }\n",
       "\n",
       "    .dataframe tbody tr th {\n",
       "        vertical-align: top;\n",
       "    }\n",
       "\n",
       "    .dataframe thead th {\n",
       "        text-align: right;\n",
       "    }\n",
       "</style>\n",
       "<table border=\"1\" class=\"dataframe\">\n",
       "  <thead>\n",
       "    <tr style=\"text-align: right;\">\n",
       "      <th></th>\n",
       "      <th>row_score</th>\n",
       "      <th>Respondent.Severity</th>\n",
       "      <th>Stardard.Error</th>\n",
       "      <th>Abs.RS.distrib.</th>\n",
       "      <th>weighted.Rel.RS.distrib.</th>\n",
       "    </tr>\n",
       "  </thead>\n",
       "  <tbody>\n",
       "    <tr>\n",
       "      <th>1</th>\n",
       "      <td>0</td>\n",
       "      <td>-3.553509</td>\n",
       "      <td>1.511327</td>\n",
       "      <td>3041.10</td>\n",
       "      <td>19</td>\n",
       "    </tr>\n",
       "    <tr>\n",
       "      <th>2</th>\n",
       "      <td>1</td>\n",
       "      <td>-2.717825</td>\n",
       "      <td>1.142284</td>\n",
       "      <td>508.49</td>\n",
       "      <td>3</td>\n",
       "    </tr>\n",
       "    <tr>\n",
       "      <th>3</th>\n",
       "      <td>2</td>\n",
       "      <td>-1.707028</td>\n",
       "      <td>0.918332</td>\n",
       "      <td>460.00</td>\n",
       "      <td>3</td>\n",
       "    </tr>\n",
       "    <tr>\n",
       "      <th>4</th>\n",
       "      <td>3</td>\n",
       "      <td>-0.915248</td>\n",
       "      <td>0.857817</td>\n",
       "      <td>582.35</td>\n",
       "      <td>4</td>\n",
       "    </tr>\n",
       "    <tr>\n",
       "      <th>5</th>\n",
       "      <td>4</td>\n",
       "      <td>-0.304275</td>\n",
       "      <td>0.860974</td>\n",
       "      <td>909.94</td>\n",
       "      <td>6</td>\n",
       "    </tr>\n",
       "    <tr>\n",
       "      <th>6</th>\n",
       "      <td>5</td>\n",
       "      <td>0.580177</td>\n",
       "      <td>0.923099</td>\n",
       "      <td>1761.61</td>\n",
       "      <td>11</td>\n",
       "    </tr>\n",
       "    <tr>\n",
       "      <th>7</th>\n",
       "      <td>6</td>\n",
       "      <td>1.614144</td>\n",
       "      <td>1.068513</td>\n",
       "      <td>2075.31</td>\n",
       "      <td>13</td>\n",
       "    </tr>\n",
       "    <tr>\n",
       "      <th>8</th>\n",
       "      <td>7</td>\n",
       "      <td>2.995950</td>\n",
       "      <td>1.350773</td>\n",
       "      <td>3045.10</td>\n",
       "      <td>19</td>\n",
       "    </tr>\n",
       "    <tr>\n",
       "      <th>9</th>\n",
       "      <td>8</td>\n",
       "      <td>4.113990</td>\n",
       "      <td>1.511327</td>\n",
       "      <td>3369.49</td>\n",
       "      <td>21</td>\n",
       "    </tr>\n",
       "  </tbody>\n",
       "</table>\n",
       "</div>"
      ],
      "text/plain": [
       "   row_score  Respondent.Severity  Stardard.Error  Abs.RS.distrib.  \\\n",
       "1          0            -3.553509        1.511327          3041.10   \n",
       "2          1            -2.717825        1.142284           508.49   \n",
       "3          2            -1.707028        0.918332           460.00   \n",
       "4          3            -0.915248        0.857817           582.35   \n",
       "5          4            -0.304275        0.860974           909.94   \n",
       "6          5             0.580177        0.923099          1761.61   \n",
       "7          6             1.614144        1.068513          2075.31   \n",
       "8          7             2.995950        1.350773          3045.10   \n",
       "9          8             4.113990        1.511327          3369.49   \n",
       "\n",
       "   weighted.Rel.RS.distrib.  \n",
       "1                        19  \n",
       "2                         3  \n",
       "3                         3  \n",
       "4                         4  \n",
       "5                         6  \n",
       "6                        11  \n",
       "7                        13  \n",
       "8                        19  \n",
       "9                        21  "
      ]
     },
     "execution_count": 11,
     "metadata": {},
     "output_type": "execute_result"
    }
   ],
   "source": [
    "# Display respondent parameter output\n",
    "pd.read_csv(\"../processed_data/fies_respondent_params_statistics_urban.csv\", index_col=0)\n"
   ]
  },
  {
   "cell_type": "markdown",
   "id": "b1b78378-4aef-4aa2-8b03-34f8aa43e1d7",
   "metadata": {},
   "source": [
    "#### Distribution of raw score"
   ]
  },
  {
   "cell_type": "code",
   "execution_count": 12,
   "id": "a41ba8e0-a6f2-480a-a060-bcc898ba1519",
   "metadata": {},
   "outputs": [
    {
     "data": {
      "text/html": [
       "<div>\n",
       "<style scoped>\n",
       "    .dataframe tbody tr th:only-of-type {\n",
       "        vertical-align: middle;\n",
       "    }\n",
       "\n",
       "    .dataframe tbody tr th {\n",
       "        vertical-align: top;\n",
       "    }\n",
       "\n",
       "    .dataframe thead th {\n",
       "        text-align: right;\n",
       "    }\n",
       "</style>\n",
       "<table border=\"1\" class=\"dataframe\">\n",
       "  <thead>\n",
       "    <tr style=\"text-align: right;\">\n",
       "      <th></th>\n",
       "      <th>fies_score</th>\n",
       "      <th>count</th>\n",
       "    </tr>\n",
       "  </thead>\n",
       "  <tbody>\n",
       "    <tr>\n",
       "      <th>0</th>\n",
       "      <td>8</td>\n",
       "      <td>2476</td>\n",
       "    </tr>\n",
       "    <tr>\n",
       "      <th>1</th>\n",
       "      <td>0</td>\n",
       "      <td>2066</td>\n",
       "    </tr>\n",
       "    <tr>\n",
       "      <th>2</th>\n",
       "      <td>7</td>\n",
       "      <td>2007</td>\n",
       "    </tr>\n",
       "    <tr>\n",
       "      <th>3</th>\n",
       "      <td>6</td>\n",
       "      <td>1362</td>\n",
       "    </tr>\n",
       "    <tr>\n",
       "      <th>4</th>\n",
       "      <td>5</td>\n",
       "      <td>1185</td>\n",
       "    </tr>\n",
       "    <tr>\n",
       "      <th>5</th>\n",
       "      <td>4</td>\n",
       "      <td>611</td>\n",
       "    </tr>\n",
       "    <tr>\n",
       "      <th>6</th>\n",
       "      <td>3</td>\n",
       "      <td>443</td>\n",
       "    </tr>\n",
       "    <tr>\n",
       "      <th>7</th>\n",
       "      <td>2</td>\n",
       "      <td>340</td>\n",
       "    </tr>\n",
       "    <tr>\n",
       "      <th>8</th>\n",
       "      <td>1</td>\n",
       "      <td>337</td>\n",
       "    </tr>\n",
       "  </tbody>\n",
       "</table>\n",
       "</div>"
      ],
      "text/plain": [
       "   fies_score  count\n",
       "0           8   2476\n",
       "1           0   2066\n",
       "2           7   2007\n",
       "3           6   1362\n",
       "4           5   1185\n",
       "5           4    611\n",
       "6           3    443\n",
       "7           2    340\n",
       "8           1    337"
      ]
     },
     "execution_count": 12,
     "metadata": {},
     "output_type": "execute_result"
    }
   ],
   "source": [
    "row_score_df = fies_data[\"fies_score\"].value_counts().to_frame().reset_index()\n",
    "row_score_df"
   ]
  },
  {
   "cell_type": "code",
   "execution_count": 13,
   "id": "52957cba-70bd-4690-88eb-6e6aabf1392a",
   "metadata": {},
   "outputs": [
    {
     "data": {
      "image/png": "[encoded data removed]",
      "text/plain": [
       "<Figure size 640x480 with 1 Axes>"
      ]
     },
     "metadata": {},
     "output_type": "display_data"
    }
   ],
   "source": [
    "import matplotlib.pyplot as plt\n",
    "\n",
    "row_score = row_score_df[\"fies_score\"]\n",
    "count = row_score_df[\"count\"]\n",
    "# Create a color list to highlight the 0 and 8 scores\n",
    "colors = ['#FF5733' if x in [0, 8] else '#FDB515' for x in row_score_df[\"fies_score\"]]\n",
    "\n",
    "# Plot\n",
    "fig, ax = plt.subplots()\n",
    "\n",
    "bars = ax.bar(row_score, count, color=colors)\n",
    "\n",
    "# Add text annotations\n",
    "for bar in bars:\n",
    "    yval = bar.get_height()\n",
    "    ax.text(bar.get_x() + bar.get_width()/2, yval + 10, int(yval), ha='center', va='bottom')\n",
    "\n",
    "\n",
    "\n",
    "# Labels and title\n",
    "ax.set_xlabel('Raw Score')\n",
    "ax.set_ylabel('Number of cases')\n",
    "ax.set_title(f'{count.sum()} Number of cases')\n",
    "\n",
    "# Show the plot\n",
    "plt.show()\n"
   ]
  },
  {
   "cell_type": "markdown",
   "id": "582f7099",
   "metadata": {},
   "source": [
    "### Statistical Validation: Assessing data quality\n",
    "\n",
    "The statistical validation processs is a fundamental screening tool for assessing data quality and for evaluating wheter the a given measure of food insecurity has a solid enough statistical basis for its intended policy and reseach use.\n",
    "\n",
    "* Determine how well the **FIES** works in the Nigeria.\n",
    "* Identify problematic items where greater attention to translation and/or survey administration may\n",
    "be required\n",
    "* Identify outliers, or respondents with highly unexpected response patterns\n",
    "* Determine whether the **FIES** does perform differently when administered to different language\n",
    "groups or culturally distinct subpopulations\n",
    "\n",
    "#### Interpreting Rasch Model\n",
    "The Rasch model allows us to produce four results that are useful to test the quality of data\n",
    "collected. They will help you to identify: \n",
    "\n",
    "1. Infit, \n",
    "2. Outfit, \n",
    "3. Residual correlation matrix and \n",
    "4. Model reliability"
   ]
  },
  {
   "cell_type": "markdown",
   "id": "c7ed6199",
   "metadata": {},
   "source": [
    "#### 1.0 Infit Statistics\n",
    "\n",
    "Items that did not perform well in a particular population\n",
    "\n",
    "* **LOW (Below 0.7)**:Indication of redundancy.\n",
    "* **0.7 – 1.3**: An adequate fit to the Rasch model is indicated by infit and outfit statistics of 0.7 – 1.3 for each\n",
    "item. Test of assumption of equal discrimination. \n",
    "* **HIGH (Above 1.3)**: These are items with unexpected response patterns. An item with infit larger than 1.3 is considered to be performing poorly, and should be examined to decide whether to drop it from the scale for the current analysis. "
   ]
  },
  {
   "cell_type": "code",
   "execution_count": 14,
   "id": "f8ce144b",
   "metadata": {},
   "outputs": [
    {
     "data": {
      "image/png": "[encoded data removed]",
      "text/plain": [
       "<IPython.core.display.Image object>"
      ]
     },
     "metadata": {},
     "output_type": "display_data"
    }
   ],
   "source": [
    "%%R\n",
    "# Infit\n",
    "infit <- rr.ng$infit\n",
    "\n",
    "\n",
    "upper_bound <- rep(x = 1.2, times =8) # this repeats 1.33 fifteen times\n",
    "lower_bound <- rep(x = .70, times = 8) \n",
    "\n",
    "# running fitgraph\n",
    "fitgraph(fitEst = infit, fitLB = lower_bound, fitUB = upper_bound, itemLabels = names(XX.ng))"
   ]
  },
  {
   "cell_type": "markdown",
   "id": "ac90031c",
   "metadata": {},
   "source": [
    "**Inference**\n",
    "\n",
    "In spite of the wide range of cultures and languages in which the FIES-SM was administered\n",
    "and the attendant challenges of translation, the fit of all the items to the measurement model was remarkably good. \n",
    "\n",
    "* _Infit_ statistics for each were between 0.8 and 1.2.\n",
    "* The highest mean infit (1.15) was for the `HEALTHY` item. The highest infits for 3 of the eight items exceed 1.0.\n",
    "* The lowest mean infits were for `HUNGRY` but did not eat (0.87) and `Ate less than should`"
   ]
  },
  {
   "cell_type": "markdown",
   "id": "693fa420",
   "metadata": {},
   "source": [
    "#### 2.0 - Outfit \n",
    "\n",
    "While the principle statistic to focus on is **infit**, interpretation of the outfit statistic is also\n",
    "worthwhile. Outfit statistics have a similar interpretation to the infit statistics, but are sensitive to\n",
    "the presence of even just a few cases with highly unexpected response patterns, and are therefore\n",
    "useful to flag the presence of outliers"
   ]
  },
  {
   "cell_type": "code",
   "execution_count": 15,
   "id": "ac865cdc",
   "metadata": {},
   "outputs": [
    {
     "data": {
      "image/png": "[encoded data removed]",
      "text/plain": [
       "<IPython.core.display.Image object>"
      ]
     },
     "metadata": {},
     "output_type": "display_data"
    }
   ],
   "source": [
    "%%R\n",
    "# # what about outfit?\n",
    "outfit <- rr.ng$outfit\n",
    "\n",
    "\n",
    "upper_bound <- rep(x = 2.0, times =8) # this repeats 1.33 fifteen times\n",
    "lower_bound <- rep(x = .70, times = 8) \n",
    "\n",
    "fitgraph(fitEst = outfit, fitLB = lower_bound, fitUB = upper_bound, itemLabels = names(XX.ng))"
   ]
  },
  {
   "cell_type": "markdown",
   "id": "84630e40",
   "metadata": {},
   "source": [
    "**Inference**\n",
    "\n",
    "\n",
    "An outfit of >2 is considered \"high\"\n",
    "* **WORRIED and WHLDAY** items show the highest mean outfit of 2.01 and 2.09 respectively.\n",
    "* Overall, the outfit statistics computed for the 2021 application of the FIES with the **MISC** do not indicate substantial model misfit or distortion of severity estimates for respondents to warrant any change in the estimation procedure"
   ]
  },
  {
   "cell_type": "markdown",
   "id": "90fdc111",
   "metadata": {},
   "source": [
    "#### 3.0 Residual correlation matrix \n",
    "\n",
    "The Rasch model assumption that all correlations among items should result from\n",
    "their common association with the latent trait is assessed by comparing residual correlations among items, after having eliminated the correlation that exists because the items contribute to measure the same latent trait. \n",
    "\n",
    "A residual correlation between a pair of items is considered high if it is >|0.4|"
   ]
  },
  {
   "cell_type": "code",
   "execution_count": 16,
   "id": "61ab78ae",
   "metadata": {},
   "outputs": [
    {
     "data": {
      "text/plain": [
       "corrplot 0.92 loaded\n"
      ]
     },
     "metadata": {},
     "output_type": "display_data"
    },
    {
     "data": {
      "image/png": "[encoded data removed]",
      "text/plain": [
       "<IPython.core.display.Image object>"
      ]
     },
     "metadata": {},
     "output_type": "display_data"
    }
   ],
   "source": [
    "%%R\n",
    "library(corrplot)\n",
    "#  Residual correlation matrix \n",
    "\n",
    "# Set the threshold value for highlighting\n",
    "threshold <- 0.4\n",
    "\n",
    "cor_matrix <- rr.ng$res.corr\n",
    "\n",
    "# Define colors for highlighting\n",
    "highlight_color <- ifelse(abs(cor_matrix) > threshold, \"red\", \"white\")\n",
    "\n",
    "# Plot the correlation matrix with highlighted values\n",
    "corrplot(cor_matrix, method = \"number\", addgrid.col = highlight_color, type=\"upper\")"
   ]
  },
  {
   "cell_type": "markdown",
   "id": "2ab6d966",
   "metadata": {},
   "source": [
    "**Inference**\n",
    "\n",
    "Residual correlations were not found to be excessive(>|0.4|) for any pairs of items.\n",
    "\n",
    "* Residual correlation between all pair of items is less than |0.4|\n",
    "* Each item is seems to capture a different aspect of food insecurity, there are no redundant questions that would tend to weaken the ability to measure food insecurity accurately."
   ]
  },
  {
   "cell_type": "markdown",
   "id": "6b6b68af",
   "metadata": {},
   "source": [
    "#### 4.0 Rasch Reliability \n",
    "Rasch reliability provides information about the discriminatory power of the overall scale,\n",
    "measuring the proportion of variability in the data that is explained by the Rasch model. "
   ]
  },
  {
   "cell_type": "code",
   "execution_count": 17,
   "id": "b5bd66fa",
   "metadata": {},
   "outputs": [
    {
     "name": "stdout",
     "output_type": "stream",
     "text": [
      "[1] 0.756446\n"
     ]
    }
   ],
   "source": [
    "%%R\n",
    "# Racsh model reliability analysis\n",
    "rr.ng$reliab\n",
    "\n",
    "# Rasch reliability based on equal proportion of cases in each\n",
    "# non-extreme raw score (more comparable across datasets)\n",
    "rr.ng$reliab.fl"
   ]
  },
  {
   "cell_type": "markdown",
   "id": "be139b9c",
   "metadata": {},
   "source": [
    "**Inference**\n",
    "\n",
    "Mean Rasch reliability (flat), that is calculated given equal weight to each non-extreme raw score than than weighting by the proportion of cases in each raw score as in the standard statistic. The 'flat' statistics is more comparable acorss countries because it not sensitive to to the distribution of cases across raw scores, which may differ by country.\n",
    "\n",
    "* The Rasch reliability value of 0.75 is greater than 0.7, considered acceptable. This level of reliability comprising of eight items reflect reasonable **good model fit**."
   ]
  },
  {
   "cell_type": "markdown",
   "id": "252a818b",
   "metadata": {},
   "source": [
    "#### Calculate Insecurity prevalence \n",
    "\n",
    "This relative distribution can be used to calculate the food insecurity prevalence rates\n",
    "at different levels. "
   ]
  },
  {
   "cell_type": "code",
   "execution_count": 31,
   "id": "dfe0abff",
   "metadata": {},
   "outputs": [
    {
     "name": "stdout",
     "output_type": "stream",
     "text": [
      "     RS Prev\n",
      "[1,]  1 0.81\n",
      "[2,]  2 0.78\n",
      "[3,]  3 0.75\n",
      "[4,]  4 0.71\n",
      "[5,]  5 0.65\n",
      "[6,]  6 0.54\n",
      "[7,]  7 0.41\n",
      "[8,]  8 0.22\n"
     ]
    }
   ],
   "source": [
    "%%R\n",
    "\n",
    "# First, one minus the cumulative distribution across all levels of raw score is calculated:\n",
    "\n",
    "rv.ng=rowSums(XX.ng)\n",
    "cbind(\"RS\"=1:9,\"Prev\"=1-\n",
    "cumsum(tab.weight(as.factor(rv.ng), wt.ng,\n",
    "XX.ng)$RS.rel.w))[-9,]"
   ]
  },
  {
   "cell_type": "markdown",
   "id": "11bd7ffe",
   "metadata": {},
   "source": [
    "Setting a threshold of, for example, 4 to classify “moderate or severe” food\n",
    "insecure, and of 7 to classify “severe” food insecure subjects (or households), will lead\n",
    "to the following prevalence rates:"
   ]
  },
  {
   "cell_type": "code",
   "execution_count": 19,
   "id": "bed5957a",
   "metadata": {},
   "outputs": [
    {
     "name": "stdout",
     "output_type": "stream",
     "text": [
      "     Threshold Levels           Prev  \n",
      "[1,] \"4\"       \"Mod. or severe\" \"0.71\"\n",
      "[2,] \"7\"       \"Severe\"         \"0.41\"\n"
     ]
    }
   ],
   "source": [
    "%%R\n",
    "\n",
    "cbind(\"Threshold\"=c(4,7),\"Levels\"=c(\"Mod. or severe\",\n",
    "\"Severe\"),\n",
    "Prev=1-cumsum(tab.weight(as.factor(rv.ng), wt.ng,\n",
    "XX.ng)$RS.rel.w)[c(4,7)])"
   ]
  },
  {
   "cell_type": "markdown",
   "id": "5d5f566a",
   "metadata": {},
   "source": [
    "**Prevalence rates inference**\n",
    "\n",
    "Prevalence Rate for \"Moderate or Severe\" Food Insecurity:\n",
    "Threshold of 4: A score of 4 or higher is used to classify subjects or households as \"moderate or severe\" food insecure.\n",
    "71% of the surveyed population has a food insecurity score of 4 or higher."
   ]
  },
  {
   "cell_type": "markdown",
   "id": "66dd9b0d",
   "metadata": {},
   "source": [
    "#### The probabilistic classification (or probabilistic assignment)\n",
    "\n",
    "Performed by setting **thresholds** ( -0.25 and 1.83.) in terms of latent trait. The scale for each country is adjusted to the\n",
    "global standard metric in order to derive comparable food insecurity prevalence rates.\n",
    "The advantage of using this approach is that, after a procedure of equating, it can be used to calculate comparable\n",
    "prevalence rates across countries. \n",
    "\n",
    "\n",
    "**_threshold_**\n",
    "\n",
    "The lower threshold is specified at the level of severity associated with the item **“Ate less than should”** in the global reference scale (at about -0.3 units), while the higher threshold is specified at the severity level of the item **“Did not eat for a whole day”** (a value of about 2.0 on the global reference scale)\n",
    "\n",
    "These threshold were specified by [VOH](https://openknowledge.fao.org/server/api/core/bitstreams/823b2fcd-bc52-4371-a31d-ea2aa74e63d5/content) with the objective of providing useful and meaningful prevalence statistics for monitoring food security over time in countries ranging from highly food secure to highly food insecure\n",
    "\n",
    "_Page [18] FAO. 2016. Methods for estimating comparable rates of food insecurity experienced by adults throughout the world. Rome, FAO._"
   ]
  },
  {
   "cell_type": "code",
   "execution_count": 38,
   "id": "9e474777",
   "metadata": {},
   "outputs": [
    {
     "name": "stdout",
     "output_type": "stream",
     "text": [
      "[1] 66.58959\n",
      "[1] 41.49495\n"
     ]
    }
   ],
   "source": [
    "%%R\n",
    "\n",
    "sthresh = c(-0.31, 1.88)\n",
    "pp.ng = prob.assign(rr.ng, sthres = sthresh)$sprob\n",
    "\n",
    "# # The probability of being beyond -0.25 on the latent trait in country 1 is\n",
    "print(pp.ng[1]*100)\n",
    "\n",
    "# # while the probability of being beyond 1.81 on the latent trait in country 1 is\n",
    "print(pp.ng[2]*100)\n",
    "\n",
    "\n"
   ]
  },
  {
   "cell_type": "markdown",
   "id": "880bad56",
   "metadata": {},
   "source": [
    "## Summary\n",
    "\n",
    "* The Rasch model reliabiliy of 0.75 percent is greater than 0.71 percent which is considered accepted for an 8 item FIES scale\n",
    "* **WORRIED and WHLDAY** items show the highest mean outfit of 2.01 and 2.09 respectively. Overall, the outfit statistics computed for the 2021 application of the FIES with the **MISC** do not indicate substantial model misfit or distortion of severity estimates for respondents to warrant any change in the estimation procedure\n",
    "\n",
    "\n",
    "### Overall Prevalence of FI according to the sixth-round MISC survey in Nigeria shows:\n",
    "\n",
    "**Based on rawscore threshold:**\n",
    "\n",
    "* 71% Prevalence Rate for \"Moderate or Severe\" Food Insecurity: Indicates a widespread issue where a significant majority of the population is struggling with food insecurity at a moderate or severe level.\n",
    "* 41% Prevalence Rate for \"Severe\" Food Insecurity: Highlights a critical concern where a substantial portion of the population is facing severe food insecurity, necessitating urgent attention and intervention to address the more extreme challenges they are facing.\n",
    "\n",
    "**Probabilistic classification**\n",
    "By setting the thresholds in terms of latent trait:\n",
    "\n",
    "* The resulting proportion of the sample population experiencing **moderate or severe FI** (FImod+sev) is 66.04%. \n",
    "* The proportion of the population experiencing **severe FI** (FIsev) is 42.37 %.\n",
    "\n"
   ]
  },
  {
   "cell_type": "markdown",
   "id": "cf64479f-714f-4187-a347-efc3aa31af25",
   "metadata": {},
   "source": [
    "<hr>\n",
    "<div>\n",
    "    <a href=\"./1_hh_mics6_data_cleaning.ipynb\">\n",
    "        <button>&#8592; Data Cleaning Notebook</button>\n",
    "    </a>\n",
    "    <a href=\"./3_hh_mics6_eda.ipynb\">\n",
    "        <button style=\"float: right;\">EDA Notebook &#8594;</button>\n",
    "    </a>\n",
    "</div>\n",
    "<hr>"
   ]
  },
  {
   "cell_type": "code",
   "execution_count": null,
   "id": "b9aaadbf",
   "metadata": {},
   "outputs": [],
   "source": []
  }
 ],
 "metadata": {
  "kernelspec": {
   "display_name": "Python 3 (ipykernel)",
   "language": "python",
   "name": "python3"
  },
  "language_info": {
   "codemirror_mode": {
    "name": "ipython",
    "version": 3
   },
   "file_extension": ".py",
   "mimetype": "text/x-python",
   "name": "python",
   "nbconvert_exporter": "python",
   "pygments_lexer": "ipython3",
   "version": "3.12.2"
  }
 },
 "nbformat": 4,
 "nbformat_minor": 5
}
