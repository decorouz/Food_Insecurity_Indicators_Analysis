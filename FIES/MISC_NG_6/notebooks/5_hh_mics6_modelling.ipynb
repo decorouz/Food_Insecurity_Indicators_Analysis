{
 "cells": [
  {
   "cell_type": "markdown",
   "id": "aa88bf3c-8e75-4810-a7e3-f26c06162c8c",
   "metadata": {},
   "source": [
    "# Modelling\n",
    "\n",
    "We continue the analysing of data from Round 6 Multiple Indicator Cluster Surveys programme(MICS) focus on the urban area.\n",
    "\n",
    "Our response variable is a binary indicator of whether a household is Moderate or Severe FI. In this notebook, we consider multilevel models to allow for and to explore between-community(clusters)\n",
    "variance in Moderate or Severe. \n",
    "\n",
    "The data have a two-level hierarchical structure with 10,680 household at level 1, nested within 587 communities(clusters) at level 2. Since our focus is on Urban area, communities is refered to as neighborhood or clusters as defined in the survey design.\n",
    "\n",
    "We consider a range of predictors. At level 1. We used community level poverty/wealth index by aggregating household-level variables\n",
    "\n",
    "\n",
    "We conducted a preliminary check for multi-collinearity before constructing our multilevel models."
   ]
  },
  {
   "cell_type": "code",
   "execution_count": 1,
   "id": "e77fd435-973b-4abf-8119-bfb183e2f42b",
   "metadata": {},
   "outputs": [],
   "source": [
    "# Import the neccessary packages\n",
    "import pandas as pd\n",
    "import numpy as np\n",
    "import matplotlib.pyplot as plt\n",
    "import seaborn as sns\n",
    "\n",
    "import statsmodels.formula.api as smf\n",
    "import statsmodels.api as sm\n",
    "\n",
    "pd.set_option('display.max_columns', 500)\n",
    "pd.set_option('display.max_row', 500)"
   ]
  },
  {
   "cell_type": "code",
   "execution_count": 2,
   "id": "fe3253e7-7453-4a08-ba7b-ad5865292de6",
   "metadata": {},
   "outputs": [
    {
     "data": {
      "text/plain": [
       "(10680, 37)"
      ]
     },
     "execution_count": 2,
     "metadata": {},
     "output_type": "execute_result"
    }
   ],
   "source": [
    "df = pd.read_csv(\"../processed_data/df2.csv\")\n",
    "\n",
    "df.shape"
   ]
  },
  {
   "cell_type": "markdown",
   "id": "47c5a128-ebd0-4639-b6c3-4e9848b01abb",
   "metadata": {},
   "source": [
    "## Model building strategy: Multilevel Logistic Regression Estimate (Multinominal Dependent variable)\n",
    "\n",
    "<!-- To account for the categorical nature of our primary outcome variable `MSI`, which comprises\n",
    "three levels displaying an intrinsic **ordinal hierarchy**, and that individual-level data is nested\n",
    "within higher-level categories (i.e. clusters), we fitted a series of two-level random intercept\n",
    "models to estimate the impact of **individual- and community-level** factors on food insecurity.\n",
    "\n",
    "\n",
    "We employed a generalized linear mixed model with a multinomial distribution and the **CLO-\n",
    "GIT** link function to compute the cumulative odds for each category of food insecurity.\n",
    "This approach enabled us to account for the violation of the independence assumption and\n",
    "avoid inflation of Type 1 errors. We used Statsmodel mixed effects logistic regression with maximum likelihood\n",
    "with Laplace approximation (method = LAPLACE) and the CONTAIN method (DDFM = CONTAIN) to estimate the fixed effects as odds ratios (ORs) with 95% confidence\n",
    "intervals (CIs) for the multilevel logistic regression estimates. \n",
    " -->\n",
    "The models fitted include;\n",
    "\n",
    "* Null model: Model containing no predictors\n",
    "* Model I: Model containing only individual-level predictors\n",
    "* Model II: Model containing only community-level predictors\n",
    "* Model III: Model containing both individual- and community-level predictors.\n"
   ]
  },
  {
   "cell_type": "code",
   "execution_count": 3,
   "id": "1b52396f-1e29-4048-9b86-6c0510dc361e",
   "metadata": {},
   "outputs": [],
   "source": [
    "# Prepare the output variables\n",
    "fi_mapping = {\n",
    "    \"0-3\": 1,\n",
    "    \"4-6\": 2,\n",
    "    \"7-8\": 3,\n",
    "}\n",
    "\n",
    "# Apply the mapping\n",
    "df[\"fies_0_3_7\"] = df[\"fies_0_3_7\"].map(fi_mapping)\n",
    "df.to_csv(\"../processed_data/df_r.csv\", index=False)"
   ]
  },
  {
   "cell_type": "code",
   "execution_count": 4,
   "id": "2ebe0f6a-e097-473b-a606-ce0aff8a7f9e",
   "metadata": {},
   "outputs": [],
   "source": [
    "## Import the function for importing R packages in Python\n",
    "from rpy2.robjects.packages import importr\n",
    "from rpy2.robjects import pandas2ri\n",
    "import rpy2.robjects as ro\n",
    "\n",
    "# Load the rpy2.ipython extension to use R magic commands in Jupyter notebooks\n",
    "%load_ext rpy2.ipython\n",
    "pandas2ri.activate()"
   ]
  },
  {
   "cell_type": "code",
   "execution_count": 5,
   "id": "ba3b5743-1e6d-4884-84d7-1776b066ca62",
   "metadata": {},
   "outputs": [
    {
     "name": "stdout",
     "output_type": "stream",
     "text": [
      "── Attaching core tidyverse packages ──────────────────────── tidyverse 2.0.0 ──\n",
      "✔ dplyr     1.1.4     ✔ readr     2.1.5\n",
      "✔ forcats   1.0.0     ✔ stringr   1.5.1\n",
      "✔ ggplot2   3.5.1     ✔ tibble    3.2.1\n",
      "✔ lubridate 1.9.3     ✔ tidyr     1.3.1\n",
      "✔ purrr     1.0.2     \n",
      "── Conflicts ────────────────────────────────────────── tidyverse_conflicts() ──\n",
      "✖ dplyr::filter() masks stats::filter()\n",
      "✖ dplyr::lag()    masks stats::lag()\n",
      "ℹ Use the conflicted package (<http://conflicted.r-lib.org/>) to force all conflicts to become errors\n"
     ]
    },
    {
     "data": {
      "text/plain": [
       "Loading required package: Matrix\n",
       "\n",
       "Attaching package: ‘Matrix’\n",
       "\n",
       "The following objects are masked from ‘package:tidyr’:\n",
       "\n",
       "    expand, pack, unpack\n",
       "\n",
       "Loading required package: carData\n",
       "\n",
       "Attaching package: ‘car’\n",
       "\n",
       "The following object is masked from ‘package:dplyr’:\n",
       "\n",
       "    recode\n",
       "\n",
       "The following object is masked from ‘package:purrr’:\n",
       "\n",
       "    some\n",
       "\n"
      ]
     },
     "metadata": {},
     "output_type": "display_data"
    }
   ],
   "source": [
    "%%R\n",
    "library(tidyverse)\n",
    "library(gtsummary)\n",
    "library(dplyr)\n",
    "library(lme4)\n",
    "library(jtools)\n",
    "library(car)"
   ]
  },
  {
   "cell_type": "code",
   "execution_count": 6,
   "id": "3c52e02e-fab1-4d12-bcc2-6a45a91fb561",
   "metadata": {},
   "outputs": [
    {
     "data": {
      "text/html": [
       "<div>\n",
       "<style scoped>\n",
       "    .dataframe tbody tr th:only-of-type {\n",
       "        vertical-align: middle;\n",
       "    }\n",
       "\n",
       "    .dataframe tbody tr th {\n",
       "        vertical-align: top;\n",
       "    }\n",
       "\n",
       "    .dataframe thead th {\n",
       "        text-align: right;\n",
       "    }\n",
       "</style>\n",
       "<table border=\"1\" class=\"dataframe\">\n",
       "  <thead>\n",
       "    <tr style=\"text-align: right;\">\n",
       "      <th></th>\n",
       "      <th>hh1</th>\n",
       "      <th>zone</th>\n",
       "      <th>hhsex</th>\n",
       "      <th>hh_age_cat</th>\n",
       "      <th>hh_siz_cat</th>\n",
       "      <th>helevel</th>\n",
       "      <th>hh_own_dwelling</th>\n",
       "      <th>urban_wi_quintile_mics</th>\n",
       "      <th>hh_agricultural_land</th>\n",
       "      <th>hh_own_animal</th>\n",
       "      <th>hh_ag_land_size_cat</th>\n",
       "      <th>num_child_under5_cat</th>\n",
       "      <th>num_child_5_17_cat</th>\n",
       "      <th>WORRIED</th>\n",
       "      <th>HEALTHY</th>\n",
       "      <th>FEWFOOD</th>\n",
       "      <th>SKIPPED</th>\n",
       "      <th>ATELESS</th>\n",
       "      <th>RANOUT</th>\n",
       "      <th>HUNGRY</th>\n",
       "      <th>WHLDAY</th>\n",
       "      <th>fies_score</th>\n",
       "      <th>FI_Food_Insecure</th>\n",
       "      <th>SFI</th>\n",
       "      <th>MSI</th>\n",
       "      <th>FS</th>\n",
       "      <th>fies_0_3_7</th>\n",
       "      <th>prob_mod_sev</th>\n",
       "      <th>prob_sev</th>\n",
       "      <th>num_of_women_15_49_cat</th>\n",
       "      <th>num_of_men_15_49_cat</th>\n",
       "      <th>num_of_adults_cat</th>\n",
       "      <th>num_of_children_cat</th>\n",
       "      <th>num_of_men_attended_sch_cat</th>\n",
       "      <th>num_of_women_attended_sch_cat</th>\n",
       "      <th>hhweightmics</th>\n",
       "      <th>cluster_wi_category</th>\n",
       "    </tr>\n",
       "  </thead>\n",
       "  <tbody>\n",
       "    <tr>\n",
       "      <th>0</th>\n",
       "      <td>1.0</td>\n",
       "      <td>South East</td>\n",
       "      <td>Female</td>\n",
       "      <td>&gt;45</td>\n",
       "      <td>&lt;5</td>\n",
       "      <td>Primary</td>\n",
       "      <td>RENT</td>\n",
       "      <td>Middle</td>\n",
       "      <td>NO</td>\n",
       "      <td>NO</td>\n",
       "      <td>0 hectare</td>\n",
       "      <td>No</td>\n",
       "      <td>1</td>\n",
       "      <td>1</td>\n",
       "      <td>1</td>\n",
       "      <td>1</td>\n",
       "      <td>1</td>\n",
       "      <td>1</td>\n",
       "      <td>1</td>\n",
       "      <td>1</td>\n",
       "      <td>0</td>\n",
       "      <td>7</td>\n",
       "      <td>1</td>\n",
       "      <td>1</td>\n",
       "      <td>1</td>\n",
       "      <td>0</td>\n",
       "      <td>3</td>\n",
       "      <td>0.995</td>\n",
       "      <td>0.390</td>\n",
       "      <td>2+</td>\n",
       "      <td>0</td>\n",
       "      <td>2+</td>\n",
       "      <td>1</td>\n",
       "      <td>0</td>\n",
       "      <td>2+</td>\n",
       "      <td>0.61955</td>\n",
       "      <td>High</td>\n",
       "    </tr>\n",
       "    <tr>\n",
       "      <th>1</th>\n",
       "      <td>1.0</td>\n",
       "      <td>South East</td>\n",
       "      <td>Female</td>\n",
       "      <td>36-45</td>\n",
       "      <td>&lt;5</td>\n",
       "      <td>Senior secondary</td>\n",
       "      <td>RENT</td>\n",
       "      <td>Second</td>\n",
       "      <td>NO</td>\n",
       "      <td>NO</td>\n",
       "      <td>0 hectare</td>\n",
       "      <td>No</td>\n",
       "      <td>1</td>\n",
       "      <td>1</td>\n",
       "      <td>1</td>\n",
       "      <td>1</td>\n",
       "      <td>1</td>\n",
       "      <td>1</td>\n",
       "      <td>1</td>\n",
       "      <td>0</td>\n",
       "      <td>0</td>\n",
       "      <td>6</td>\n",
       "      <td>1</td>\n",
       "      <td>0</td>\n",
       "      <td>1</td>\n",
       "      <td>0</td>\n",
       "      <td>2</td>\n",
       "      <td>0.971</td>\n",
       "      <td>0.043</td>\n",
       "      <td>2+</td>\n",
       "      <td>0</td>\n",
       "      <td>2+</td>\n",
       "      <td>1</td>\n",
       "      <td>0</td>\n",
       "      <td>2+</td>\n",
       "      <td>0.61955</td>\n",
       "      <td>High</td>\n",
       "    </tr>\n",
       "    <tr>\n",
       "      <th>2</th>\n",
       "      <td>1.0</td>\n",
       "      <td>South East</td>\n",
       "      <td>Male</td>\n",
       "      <td>36-45</td>\n",
       "      <td>&lt;5</td>\n",
       "      <td>Senior secondary</td>\n",
       "      <td>OWN</td>\n",
       "      <td>Middle</td>\n",
       "      <td>NO</td>\n",
       "      <td>YES</td>\n",
       "      <td>0 hectare</td>\n",
       "      <td>Yes</td>\n",
       "      <td>1</td>\n",
       "      <td>1</td>\n",
       "      <td>0</td>\n",
       "      <td>0</td>\n",
       "      <td>1</td>\n",
       "      <td>1</td>\n",
       "      <td>1</td>\n",
       "      <td>1</td>\n",
       "      <td>0</td>\n",
       "      <td>5</td>\n",
       "      <td>1</td>\n",
       "      <td>0</td>\n",
       "      <td>1</td>\n",
       "      <td>0</td>\n",
       "      <td>2</td>\n",
       "      <td>0.875</td>\n",
       "      <td>0.002</td>\n",
       "      <td>1</td>\n",
       "      <td>0</td>\n",
       "      <td>1</td>\n",
       "      <td>2+</td>\n",
       "      <td>0</td>\n",
       "      <td>1</td>\n",
       "      <td>0.61955</td>\n",
       "      <td>High</td>\n",
       "    </tr>\n",
       "    <tr>\n",
       "      <th>3</th>\n",
       "      <td>1.0</td>\n",
       "      <td>South East</td>\n",
       "      <td>Male</td>\n",
       "      <td>&gt;45</td>\n",
       "      <td>&lt;5</td>\n",
       "      <td>No Education</td>\n",
       "      <td>OWN</td>\n",
       "      <td>Poorest</td>\n",
       "      <td>YES</td>\n",
       "      <td>YES</td>\n",
       "      <td>1-9 hectares</td>\n",
       "      <td>No</td>\n",
       "      <td>0</td>\n",
       "      <td>0</td>\n",
       "      <td>1</td>\n",
       "      <td>1</td>\n",
       "      <td>1</td>\n",
       "      <td>1</td>\n",
       "      <td>1</td>\n",
       "      <td>1</td>\n",
       "      <td>1</td>\n",
       "      <td>7</td>\n",
       "      <td>1</td>\n",
       "      <td>1</td>\n",
       "      <td>1</td>\n",
       "      <td>0</td>\n",
       "      <td>3</td>\n",
       "      <td>0.995</td>\n",
       "      <td>0.390</td>\n",
       "      <td>1</td>\n",
       "      <td>1</td>\n",
       "      <td>2+</td>\n",
       "      <td>0</td>\n",
       "      <td>1</td>\n",
       "      <td>1</td>\n",
       "      <td>0.61955</td>\n",
       "      <td>High</td>\n",
       "    </tr>\n",
       "    <tr>\n",
       "      <th>4</th>\n",
       "      <td>1.0</td>\n",
       "      <td>South East</td>\n",
       "      <td>Male</td>\n",
       "      <td>&gt;45</td>\n",
       "      <td>&lt;5</td>\n",
       "      <td>Primary</td>\n",
       "      <td>RENT</td>\n",
       "      <td>Middle</td>\n",
       "      <td>NO</td>\n",
       "      <td>NO</td>\n",
       "      <td>0 hectare</td>\n",
       "      <td>No</td>\n",
       "      <td>1</td>\n",
       "      <td>1</td>\n",
       "      <td>1</td>\n",
       "      <td>1</td>\n",
       "      <td>1</td>\n",
       "      <td>1</td>\n",
       "      <td>1</td>\n",
       "      <td>1</td>\n",
       "      <td>0</td>\n",
       "      <td>7</td>\n",
       "      <td>1</td>\n",
       "      <td>1</td>\n",
       "      <td>1</td>\n",
       "      <td>0</td>\n",
       "      <td>3</td>\n",
       "      <td>0.995</td>\n",
       "      <td>0.390</td>\n",
       "      <td>1</td>\n",
       "      <td>0</td>\n",
       "      <td>1</td>\n",
       "      <td>1</td>\n",
       "      <td>0</td>\n",
       "      <td>1</td>\n",
       "      <td>0.61955</td>\n",
       "      <td>High</td>\n",
       "    </tr>\n",
       "  </tbody>\n",
       "</table>\n",
       "</div>"
      ],
      "text/plain": [
       "   hh1        zone   hhsex hh_age_cat hh_siz_cat           helevel  \\\n",
       "0  1.0  South East  Female        >45         <5           Primary   \n",
       "1  1.0  South East  Female      36-45         <5  Senior secondary   \n",
       "2  1.0  South East    Male      36-45         <5  Senior secondary   \n",
       "3  1.0  South East    Male        >45         <5      No Education   \n",
       "4  1.0  South East    Male        >45         <5           Primary   \n",
       "\n",
       "  hh_own_dwelling urban_wi_quintile_mics hh_agricultural_land hh_own_animal  \\\n",
       "0            RENT                 Middle                   NO            NO   \n",
       "1            RENT                 Second                   NO            NO   \n",
       "2             OWN                 Middle                   NO           YES   \n",
       "3             OWN                Poorest                  YES           YES   \n",
       "4            RENT                 Middle                   NO            NO   \n",
       "\n",
       "  hh_ag_land_size_cat num_child_under5_cat num_child_5_17_cat  WORRIED  \\\n",
       "0           0 hectare                   No                  1        1   \n",
       "1           0 hectare                   No                  1        1   \n",
       "2           0 hectare                  Yes                  1        1   \n",
       "3        1-9 hectares                   No                  0        0   \n",
       "4           0 hectare                   No                  1        1   \n",
       "\n",
       "   HEALTHY  FEWFOOD  SKIPPED  ATELESS  RANOUT  HUNGRY  WHLDAY  fies_score  \\\n",
       "0        1        1        1        1       1       1       0           7   \n",
       "1        1        1        1        1       1       0       0           6   \n",
       "2        0        0        1        1       1       1       0           5   \n",
       "3        1        1        1        1       1       1       1           7   \n",
       "4        1        1        1        1       1       1       0           7   \n",
       "\n",
       "   FI_Food_Insecure  SFI  MSI  FS  fies_0_3_7  prob_mod_sev  prob_sev  \\\n",
       "0                 1    1    1   0           3         0.995     0.390   \n",
       "1                 1    0    1   0           2         0.971     0.043   \n",
       "2                 1    0    1   0           2         0.875     0.002   \n",
       "3                 1    1    1   0           3         0.995     0.390   \n",
       "4                 1    1    1   0           3         0.995     0.390   \n",
       "\n",
       "  num_of_women_15_49_cat num_of_men_15_49_cat num_of_adults_cat  \\\n",
       "0                     2+                    0                2+   \n",
       "1                     2+                    0                2+   \n",
       "2                      1                    0                 1   \n",
       "3                      1                    1                2+   \n",
       "4                      1                    0                 1   \n",
       "\n",
       "  num_of_children_cat num_of_men_attended_sch_cat  \\\n",
       "0                   1                           0   \n",
       "1                   1                           0   \n",
       "2                  2+                           0   \n",
       "3                   0                           1   \n",
       "4                   1                           0   \n",
       "\n",
       "  num_of_women_attended_sch_cat  hhweightmics cluster_wi_category  \n",
       "0                            2+       0.61955                High  \n",
       "1                            2+       0.61955                High  \n",
       "2                             1       0.61955                High  \n",
       "3                             1       0.61955                High  \n",
       "4                             1       0.61955                High  "
      ]
     },
     "execution_count": 6,
     "metadata": {},
     "output_type": "execute_result"
    }
   ],
   "source": [
    "df.head()"
   ]
  },
  {
   "cell_type": "markdown",
   "id": "9039ae3f-ef0d-4b4d-a23f-502b59c13e9c",
   "metadata": {},
   "source": [
    "#### Creating a community-level\n",
    "The first step is to create the aggregated dataset using the community identifier,`hh1`.\n",
    "To calculate the number of household in each community we need to calculate a\n",
    "variable `nhousehold` coded 1 for all observations."
   ]
  },
  {
   "cell_type": "code",
   "execution_count": 7,
   "id": "6af8c736-6de1-4f07-b1fe-4d4cba9dd4d8",
   "metadata": {},
   "outputs": [
    {
     "name": "stdout",
     "output_type": "stream",
     "text": [
      "Rows: 10680 Columns: 37\n",
      "── Column specification ────────────────────────────────────────────────────────\n",
      "Delimiter: \",\"\n",
      "chr (19): zone, hhsex, hh_age_cat, hh_siz_cat, helevel, hh_own_dwelling, urb...\n",
      "dbl (18): hh1, WORRIED, HEALTHY, FEWFOOD, SKIPPED, ATELESS, RANOUT, HUNGRY, ...\n",
      "\n",
      "ℹ Use `spec()` to retrieve the full column specification for this data.\n",
      "ℹ Specify the column types or set `show_col_types = FALSE` to quiet this message.\n"
     ]
    }
   ],
   "source": [
    "%%R\n",
    "# Read in the data\n",
    "data <- read_csv(\"../processed_data/df_r.csv\")\n",
    "\n",
    "data$nhousehold <- rep(1, dim(data)[1])\n",
    "\n",
    "mydata_agg <- aggregate(cbind(data$nhousehold), by = list(data$hh1), FUN = mean, na.rm =TRUE)\n",
    "\n",
    "# aggregate(cbind(data$nhousehold), by = list(data$hh1), FUN = sum, na.rm = TRUE)"
   ]
  },
  {
   "cell_type": "code",
   "execution_count": 8,
   "id": "60a1a4d4-2271-44f9-af79-8bce3a0e8190",
   "metadata": {},
   "outputs": [
    {
     "name": "stdout",
     "output_type": "stream",
     "text": [
      "Rows: 10680 Columns: 37\n",
      "── Column specification ────────────────────────────────────────────────────────\n",
      "Delimiter: \",\"\n",
      "chr (19): zone, hhsex, hh_age_cat, hh_siz_cat, helevel, hh_own_dwelling, urb...\n",
      "dbl (18): hh1, WORRIED, HEALTHY, FEWFOOD, SKIPPED, ATELESS, RANOUT, HUNGRY, ...\n",
      "\n",
      "ℹ Use `spec()` to retrieve the full column specification for this data.\n",
      "ℹ Specify the column types or set `show_col_types = FALSE` to quiet this message.\n"
     ]
    }
   ],
   "source": [
    "%%R\n",
    "# Read in the data\n",
    "data <- read_csv(\"../processed_data/df_r.csv\")\n",
    "\n",
    "\n",
    "                             \n",
    "\n",
    "data$fies_0_3_7 <- factor(data$fies_0_3_7)\n",
    "\n",
    "\n",
    "# Relevel some variables\n",
    "data$helevel <- factor(data$helevel, ordered = FALSE)\n",
    "data$helevel <- relevel(data$helevel, ref = \"No Education\")\n",
    "\n",
    "data$urban_wi_quintile_mics <- factor(data$urban_wi_quintile_mics, levels = c(\"Poorest\",\"Second\",\"Middle\", \"Fourth\",\"Richest\" ), ordered = FALSE)\n",
    "data$urban_wi_quintile_mics <- relevel(data$urban_wi_quintile_mics, ref = \"Poorest\")\n",
    "\n",
    "data$cluster_wi_category <- factor(data$cluster_wi_category, levels = c(\"Low\", \"Middle\", \"High\"), ordered = FALSE)\n",
    "data$cluster_wi_category <- relevel(data$cluster_wi_category, ref=\"Low\")\n",
    "\n",
    "\n",
    "# Convert character and cluster column to factor\n",
    "data <- data %>%\n",
    "  mutate(across(where(is.character), as.factor))\n",
    "\n",
    "data <- data %>%\n",
    "  mutate(across(c(\"SFI\",\"FI_Food_Insecure\", \"MSI\", \"FS\", \"hh1\" ), as.factor))"
   ]
  },
  {
   "cell_type": "markdown",
   "id": "3e06f3cc-e921-419c-8273-9b34aa90b9f1",
   "metadata": {},
   "source": [
    "**Important Methodology**\n",
    "\n",
    "The estimation procedure optimizes a function of the log likelihood\n",
    "using penalized iteratively re-weighted least squares. The log-likelihood is\n",
    "evaluated using the **Laplacian approximation [ref](http://www.stat.columbia.edu/~cook/movabletype/archives/2010/09/r_vs_stata_or_d.html)**. This approximation method may\n",
    "lead to unsatisfactory estimates....\n",
    "\n",
    "\n",
    "In the glmer help file, it is noted that by specifying the option `nAGQ=n`, with n greater than 1,\n",
    "changes the approximation method to adaptive **Gauss-Hermite approximation**, with a greater value\n",
    "of n leading to more accurate evaluation of the log-likelihood. \n",
    "http://www.stat.columbia.edu/~cook/movabletype/archives/2010/09/r_vs_stata_or_d.html."
   ]
  },
  {
   "cell_type": "markdown",
   "id": "87026af0-31de-41a8-b98a-8758e143c4fe",
   "metadata": {},
   "source": [
    "## Specifying and estimating a two-level model\n",
    "\n",
    "We will begin by fitting a null or empty two-level model, that is a model with only an intercept and community effects.\n",
    "\n",
    "\n",
    "$$\\log\\left(\\frac{\\pi_{ij}}{1 - \\pi_{ij}}\\right) = \\beta_j +  u_{oj}$$\n",
    "\n",
    "\n",
    "The intercept $\\beta_0$ is shared by all communities(clusters) while the random effect $u_{oj}$ is\n",
    "specific to community $j$. The random effect is assumed to follow a normal\n",
    "distribution with variance $\\sigma^2_{u0}$\n"
   ]
  },
  {
   "cell_type": "markdown",
   "id": "41c0554e-8e3b-4502-8912-47d6850830f2",
   "metadata": {},
   "source": [
    "R’s main command for fitting multilevel models for binary and other discrete response variables is the glmer command \n",
    "which is part of an additional lme4 library[4](https://www.cmm.bris.ac.uk/lemma/mod/lesson/view.php?id=587&pageid=968#_ftn4). "
   ]
  },
  {
   "cell_type": "markdown",
   "id": "139a06c4-130e-4897-a485-766f3af5400a",
   "metadata": {},
   "source": [
    "\n",
    "\n"
   ]
  },
  {
   "cell_type": "markdown",
   "id": "0b4aec95-9275-4e75-9a29-a4ea3e53ffb1",
   "metadata": {},
   "source": [
    "To fit the above model using the `glmer` command and to create a model object fit, we type:"
   ]
  },
  {
   "cell_type": "code",
   "execution_count": 9,
   "id": "5bab21e7-46b8-4bec-84bd-3ac77394823e",
   "metadata": {},
   "outputs": [
    {
     "name": "stdout",
     "output_type": "stream",
     "text": [
      "Generalized linear mixed model fit by maximum likelihood (Laplace\n",
      "  Approximation) [glmerMod]\n",
      " Family: binomial  ( logit )\n",
      "Formula: MSI ~ (1 | hh1)\n",
      "   Data: data\n",
      "Weights: hhweightmics\n",
      "\n",
      "     AIC      BIC   logLik deviance df.resid \n",
      " 16937.7  16952.3  -8466.9  16933.7    10678 \n",
      "\n",
      "Scaled residuals: \n",
      "    Min      1Q  Median      3Q     Max \n",
      "-7.5626 -0.8030  0.4242  0.6575  3.2633 \n",
      "\n",
      "Random effects:\n",
      " Groups Name        Variance Std.Dev.\n",
      " hh1    (Intercept) 0.5104   0.7144  \n",
      "Number of obs: 10680, groups:  hh1, 575\n",
      "\n",
      "Fixed effects:\n",
      "            Estimate Std. Error z value Pr(>|z|)    \n",
      "(Intercept)  0.99462    0.03993   24.91   <2e-16 ***\n",
      "---\n",
      "Signif. codes:  0 ‘***’ 0.001 ‘**’ 0.01 ‘*’ 0.05 ‘.’ 0.1 ‘ ’ 1\n"
     ]
    },
    {
     "data": {
      "text/plain": [
       "In addition: Warning message:\n",
       "In eval(family$initialize, rho) : non-integer #successes in a binomial glm!\n"
      ]
     },
     "metadata": {},
     "output_type": "display_data"
    }
   ],
   "source": [
    "%%R\n",
    "#make this example reproducible\n",
    "set.seed(7)\n",
    "\n",
    "fit <- glmer(MSI ~ (1|hh1),\n",
    "             family = binomial(\"logit\"),\n",
    "             data = data,\n",
    "             # nAGQ=25,\n",
    "             weights = hhweightmics,\n",
    "               )\n",
    "summary(fit)"
   ]
  },
  {
   "cell_type": "code",
   "execution_count": 28,
   "id": "b6de6beb-3822-4314-b357-3fb7dea46d18",
   "metadata": {},
   "outputs": [
    {
     "data": {
      "text/plain": [
       "0.13430165245763603"
      ]
     },
     "execution_count": 28,
     "metadata": {},
     "output_type": "execute_result"
    }
   ],
   "source": [
    "#VPC\n",
    "\n",
    "0.5104/(0.5104 + 3.29)"
   ]
  },
  {
   "cell_type": "code",
   "execution_count": 10,
   "id": "3e77bf0c-885f-45f8-9c96-49000f22a41a",
   "metadata": {},
   "outputs": [
    {
     "name": "stdout",
     "output_type": "stream",
     "text": [
      "NULL\n"
     ]
    }
   ],
   "source": [
    "%%R\n",
    "# summ(fit)"
   ]
  },
  {
   "cell_type": "markdown",
   "id": "e21fe1fb-dd78-4e6b-becf-bcc1985232ad",
   "metadata": {},
   "source": [
    "### Interpretation of the null two-level model\n",
    "\n",
    "From the model estimates (using Laplacian approximation), we can say that the log-odds of being moderately or severely food insecure in an ‘average’ community (one with $u_{0j}$ = 0)\n",
    "is estimated as $\\beta_0$ = 0.99. The intercept for community 𝑗 is 0.99 + $\\beta_{0j}$, where the variance of $u_{0j}$ is estimated as  $\\sigma^2_{u0}$ = 0.5104.\n",
    "\n",
    "The likelihood ratio statistic for testing the null hypothesis that $\\sigma^2_{u0}$ = 0 can be calculated by comparing the two-level model, \n",
    "with the corresponding single-level model without the level 2 random effects."
   ]
  },
  {
   "cell_type": "code",
   "execution_count": 11,
   "id": "98c1fc88-e5f1-4dc7-aad9-f44c7b110ef0",
   "metadata": {},
   "outputs": [
    {
     "name": "stdout",
     "output_type": "stream",
     "text": [
      "'log Lik.' -848.7937 (df=1)\n"
     ]
    },
    {
     "data": {
      "text/plain": [
       "In addition: Warning message:\n",
       "In eval(family$initialize) : non-integer #successes in a binomial glm!\n"
      ]
     },
     "metadata": {},
     "output_type": "display_data"
    }
   ],
   "source": [
    "%%R\n",
    "fita <- glm(MSI ~ 1, data = data, weights =hhweightmics,  family = binomial(\"logit\"))\n",
    "logLik(fita)-logLik(fit)"
   ]
  },
  {
   "cell_type": "markdown",
   "id": "f01374e7-0fc0-4c19-807a-f9a89216daf7",
   "metadata": {},
   "source": [
    "The test statistic is 1697.5874 (-2*(-848.7937)) with 1 degree of freedom, so there is strong evidence that the between-community variance is non-zero."
   ]
  },
  {
   "cell_type": "code",
   "execution_count": 12,
   "id": "249791ef-0e88-4913-b181-8c1d24537ecf",
   "metadata": {},
   "outputs": [
    {
     "data": {
      "text/plain": [
       "1697.5874"
      ]
     },
     "execution_count": 12,
     "metadata": {},
     "output_type": "execute_result"
    }
   ],
   "source": [
    "-2*(-848.7937)"
   ]
  },
  {
   "cell_type": "code",
   "execution_count": 13,
   "id": "f9dd39db-fc7b-482f-9ae3-c87f00900d41",
   "metadata": {},
   "outputs": [
    {
     "name": "stdout",
     "output_type": "stream",
     "text": [
      "Data: data\n",
      "Models:\n",
      "fita: MSI ~ 1\n",
      "fit: MSI ~ (1 | hh1)\n",
      "     npar   AIC   BIC  logLik deviance  Chisq Df Pr(>Chisq)    \n",
      "fita    1 18633 18641 -9315.6    18631                         \n",
      "fit     2 16938 16952 -8466.9    16934 1697.6  1  < 2.2e-16 ***\n",
      "---\n",
      "Signif. codes:  0 ‘***’ 0.001 ‘**’ 0.01 ‘*’ 0.05 ‘.’ 0.1 ‘ ’ 1\n"
     ]
    }
   ],
   "source": [
    "%%R\n",
    "anova(fit, fita, test=\"Chisq\")"
   ]
  },
  {
   "cell_type": "markdown",
   "id": "f3326e69-c02f-45c9-8e5a-645b45692b72",
   "metadata": {},
   "source": [
    "We will now examine estimates of the community effects or residuals, $\\hat{u}_{0j}$,\n",
    "obtained from the null model. Next, we will calculate the residuals and produce a\n",
    "‘caterpillar plot’ with the community effects shown in rank order together with\n",
    "95% confidence intervals we can us"
   ]
  },
  {
   "cell_type": "code",
   "execution_count": 14,
   "id": "05ef962b-58c6-4e21-b86b-cd9c258e0e45",
   "metadata": {},
   "outputs": [
    {
     "data": {
      "text/plain": [
       "In addition: Warning message:\n",
       "In ranef.merMod(fit, postVar = TRUE) :\n",
       "  ‘postVar’ is deprecated: please use ‘condVar’ instead\n"
      ]
     },
     "metadata": {},
     "output_type": "display_data"
    },
    {
     "data": {
      "image/png": "[encoded data removed]",
      "text/plain": [
       "<IPython.core.display.Image object>"
      ]
     },
     "metadata": {},
     "output_type": "display_data"
    }
   ],
   "source": [
    "%%R\n",
    "u0 <- ranef(fit, postVar = TRUE)\n",
    "u0se <- sqrt(attr(u0[[1]], \"postVar\")[1, , ])\n",
    "commid <- as.numeric(rownames(u0[[1]]))\n",
    "u0tab <- cbind(\"commid\" = commid, \"u0\" = u0[[1]], \"u0se\" = u0se)\n",
    "colnames(u0tab)[2] <- \"u0\"\n",
    "u0tab <- u0tab[order(u0tab$u0), ]\n",
    "u0tab <- cbind(u0tab, c(1:dim(u0tab)[1]))\n",
    "u0tab <- u0tab[order(u0tab$commid), ]\n",
    "colnames(u0tab)[4] <- \"u0rank\" \n",
    "\n",
    "plot(u0tab$u0rank, u0tab$u0, type = \"n\", xlab = \"u_rank\", ylab = \"conditional\n",
    "modes of r.e. for comm_id:_cons\", ylim = c(-4, 4)) \n",
    "\n",
    "segments(u0tab$u0rank, u0tab$u0 - 1.96*u0tab$u0se, u0tab$u0rank, u0tab$u0 +\n",
    "           1.96*u0tab$u0se)\n",
    "           \n",
    "points(u0tab$u0rank, u0tab$u0, col = \"blue\")\n",
    "\n",
    "abline(h = 0, col = \"red\")"
   ]
  },
  {
   "cell_type": "code",
   "execution_count": null,
   "id": "4ef4d484-40ee-4bef-9cf1-a00044e1157d",
   "metadata": {},
   "outputs": [],
   "source": []
  },
  {
   "cell_type": "markdown",
   "id": "2aa4d92c-e290-45b9-b1f4-cff573f95b5e",
   "metadata": {},
   "source": [
    "The plot shows the estimated residuals for all 575 communities (clusters) in the sample (urban area). For\n",
    "a substantial number of communities, the 95% confidence interval does not overlap\n",
    "the horizontal line at zero, indicating that Moderate or Severe FI in these\n",
    "communities is significantly above average (above the zero line) or below average\n",
    "(below the zero line). "
   ]
  },
  {
   "cell_type": "markdown",
   "id": "aba8addc-d00e-44c5-9bea-ea020d6ce0c7",
   "metadata": {},
   "source": [
    "### Adding an explantory variable\n",
    "\n",
    "Next we will include household head age as an explanatory variable in the model.\n",
    "\n",
    "\n",
    "$$\\log\\left(\\frac{\\pi_{ij}}{1 - \\pi_{ij}}\\right) = \\beta_0 + \\beta_1hhage_{ij} +  u_{oj}$$\n",
    "\n"
   ]
  },
  {
   "cell_type": "code",
   "execution_count": 15,
   "id": "0d215dc1-d2fc-4c1e-87c1-2382e87535f7",
   "metadata": {},
   "outputs": [
    {
     "name": "stdout",
     "output_type": "stream",
     "text": [
      "Generalized linear mixed model fit by maximum likelihood (Laplace\n",
      "  Approximation) [glmerMod]\n",
      " Family: binomial  ( logit )\n",
      "Formula: MSI ~ hh_age_cat + (1 | hh1)\n",
      "   Data: data\n",
      "Weights: hhweightmics\n",
      "\n",
      "     AIC      BIC   logLik deviance df.resid \n",
      " 16921.9  16958.3  -8456.0  16911.9    10675 \n",
      "\n",
      "Scaled residuals: \n",
      "    Min      1Q  Median      3Q     Max \n",
      "-8.0301 -0.8047  0.4209  0.6532  3.0830 \n",
      "\n",
      "Random effects:\n",
      " Groups Name        Variance Std.Dev.\n",
      " hh1    (Intercept) 0.5097   0.714   \n",
      "Number of obs: 10680, groups:  hh1, 575\n",
      "\n",
      "Fixed effects:\n",
      "                Estimate Std. Error z value Pr(>|z|)    \n",
      "(Intercept)      1.15196    0.10269  11.217   <2e-16 ***\n",
      "hh_age_cat26-35 -0.14596    0.10736  -1.359   0.1740    \n",
      "hh_age_cat36-45 -0.03701    0.10393  -0.356   0.7217    \n",
      "hh_age_cat>45   -0.23862    0.10110  -2.360   0.0183 *  \n",
      "---\n",
      "Signif. codes:  0 ‘***’ 0.001 ‘**’ 0.01 ‘*’ 0.05 ‘.’ 0.1 ‘ ’ 1\n",
      "\n",
      "Correlation of Fixed Effects:\n",
      "            (Intr) h__26- h__36-\n",
      "hh_g_c26-35 -0.845              \n",
      "hh_g_c36-45 -0.877  0.840       \n",
      "hh_ag_ct>45 -0.906  0.862  0.899\n"
     ]
    },
    {
     "data": {
      "text/plain": [
       "In addition: Warning message:\n",
       "In eval(family$initialize, rho) : non-integer #successes in a binomial glm!\n"
      ]
     },
     "metadata": {},
     "output_type": "display_data"
    }
   ],
   "source": [
    "%%R\n",
    "fit2 <- glmer(formula = MSI ~ hh_age_cat + (1|hh1),\n",
    "             family = binomial(\"logit\"),\n",
    "             data = data,\n",
    "             # nAGQ=25,\n",
    "             weights = hhweightmics,\n",
    "               )\n",
    "summary(fit2)"
   ]
  },
  {
   "cell_type": "markdown",
   "id": "275c5ee8-8569-4e95-8c02-4e7e1b4374dd",
   "metadata": {},
   "source": [
    "Note that there is little change in the estimate odd of the between-cluster variance, suggesting that the distribution of household head age is different across community (clusters).\n",
    "\n",
    "\n",
    "The equation of the average fitted regression line, expressin the relationship between the log-odds being Moderate or Severe FI and household head age, is: \n",
    "\n",
    "\n",
    "$$\\log\\left(\\frac{\\pi_{ij}}{1 - \\pi_{ij}}\\right) = 1.15196 - 0.14596hhageYoung_{ij} -0.03701hhageMiddle_{ij} -0.23862hhageOld_{ij}$$"
   ]
  },
  {
   "cell_type": "markdown",
   "id": "2d2b4178-cc1d-4de5-b3ec-299fecaf3295",
   "metadata": {},
   "source": [
    "The fitted line for a given community(cluster) will differ from the average line in its\n",
    "intercept, by an amount $\\hat{u}{j}$ for community $j$. A plot of the predicted community\n",
    "lines will therefore show a set of parallel lines. To produce this plot, we first need\n",
    "to calculate the predicted log-odds of Moderate or Severe FI for each household based on\n",
    "household head age at area and community of residence. \n",
    "\n",
    "To do this we compute the predicted probability of Moderate or Severe FI for each household using the `fitted`\n",
    "command. "
   ]
  },
  {
   "cell_type": "code",
   "execution_count": 16,
   "id": "99f9ca52-8547-404e-bdec-d19c01836730",
   "metadata": {},
   "outputs": [
    {
     "data": {
      "text/plain": [
       "Loading required package: stats4\n",
       "Loading required package: splines\n",
       "\n",
       "Attaching package: ‘VGAM’\n",
       "\n",
       "The following object is masked from ‘package:car’:\n",
       "\n",
       "    logit\n",
       "\n"
      ]
     },
     "metadata": {},
     "output_type": "display_data"
    }
   ],
   "source": [
    "%%R\n",
    "library(VGAM) "
   ]
  },
  {
   "cell_type": "code",
   "execution_count": 17,
   "id": "a51ad04f-d080-4fef-a291-77c6456bf0cb",
   "metadata": {},
   "outputs": [],
   "source": [
    "%%R\n",
    "predprob <- fitted(fit2)\n",
    "predlogit <- logitlink(predprob)"
   ]
  },
  {
   "cell_type": "code",
   "execution_count": 18,
   "id": "b2f226fc-c341-4ea9-b126-07426ff686f0",
   "metadata": {},
   "outputs": [],
   "source": [
    "%%R\n",
    "datapred <- unique(data.frame(cbind(predlogit = predlogit, comm = data$hh1, \n",
    "hh_age_cat = data$hh_age_cat)))"
   ]
  },
  {
   "cell_type": "code",
   "execution_count": 19,
   "id": "1b22d8eb-5b52-4e1c-864c-302344eb6598",
   "metadata": {},
   "outputs": [
    {
     "data": {
      "text/plain": [
       "hh_age_cat\n",
       ">45      5375\n",
       "36-45    2948\n",
       "26-35    1896\n",
       "16-25     461\n",
       "Name: count, dtype: int64"
      ]
     },
     "execution_count": 19,
     "metadata": {},
     "output_type": "execute_result"
    }
   ],
   "source": [
    "df.hh_age_cat.value_counts()"
   ]
  },
  {
   "cell_type": "code",
   "execution_count": 20,
   "id": "757ace09-5209-4f8a-b704-6b570f1f9df0",
   "metadata": {},
   "outputs": [
    {
     "data": {
      "image/png": "[encoded data removed]",
      "text/plain": [
       "<IPython.core.display.Image object>"
      ]
     },
     "metadata": {},
     "output_type": "display_data"
    }
   ],
   "source": [
    "%%R\n",
    "library(lattice)\n",
    "\n",
    "xyplot(predlogit ~ hh_age_cat, data = datapred, groups = comm, type =  c(\"p\", \"l\",\n",
    "\"g\"), col = \"blue\")"
   ]
  },
  {
   "cell_type": "markdown",
   "id": "8edc9d1c-4dc2-4839-b8e7-6790fbd5557b",
   "metadata": {},
   "source": [
    "For a household head aged 16-25, the log-odds of being moderately or severely food insecure ranges from about -0.3 to 3.0 depending on which community they lives in. This translates to a range in probabilities of exp(-0.3)/[1+ exp(-0.3)] = 0.43 , to exp(3.0)/[1+ exp(3.0)] = 0.95, so there are strong community effects"
   ]
  },
  {
   "cell_type": "code",
   "execution_count": 21,
   "id": "39742132-ae33-40ad-bf6f-d634243d1175",
   "metadata": {},
   "outputs": [
    {
     "data": {
      "text/plain": [
       "0.425557483188341"
      ]
     },
     "execution_count": 21,
     "metadata": {},
     "output_type": "execute_result"
    }
   ],
   "source": [
    "import math\n",
    "math.exp(-0.3)/(1+ math.exp(-0.3))"
   ]
  },
  {
   "cell_type": "code",
   "execution_count": 22,
   "id": "8d4742b6-77fd-4354-8d17-275b82ae5d0d",
   "metadata": {},
   "outputs": [
    {
     "data": {
      "text/plain": [
       "0.9525741268224333"
      ]
     },
     "execution_count": 22,
     "metadata": {},
     "output_type": "execute_result"
    }
   ],
   "source": [
    "math.exp(3.0)/(1+ math.exp(3.0))"
   ]
  },
  {
   "cell_type": "markdown",
   "id": "e9d37346-9f42-44be-8286-f897395b6651",
   "metadata": {},
   "source": [
    "### Model I: Model containing only individual/household-level predictors"
   ]
  },
  {
   "cell_type": "code",
   "execution_count": 23,
   "id": "af5a8c9f-6b1b-4a79-8b38-eb6deaa769d1",
   "metadata": {},
   "outputs": [
    {
     "data": {
      "text/plain": [
       "In addition: Warning messages:\n",
       "1: In eval(family$initialize, rho) :\n",
       "  non-integer #successes in a binomial glm!\n",
       "2: In checkConv(attr(opt, \"derivs\"), opt$par, ctrl = control$checkConv,  :\n",
       "  Model failed to converge with max|grad| = 0.185146 (tol = 0.002, component 1)\n"
      ]
     },
     "metadata": {},
     "output_type": "display_data"
    }
   ],
   "source": [
    "%%R\n",
    "#make this example reproducible\n",
    "set.seed(7)\n",
    "\n",
    "model1 <- glmer(formula = MSI ~ hhsex + hh_age_cat + hh_siz_cat  + \n",
    "    helevel + hh_own_dwelling + urban_wi_quintile_mics + hh_agricultural_land + \n",
    "    hh_own_animal + num_child_under5_cat +\n",
    "    (1|hh1),\n",
    "    family = binomial,\n",
    "    data = data,\n",
    "    # nAGQ=25,\n",
    "    weights = hhweightmics,\n",
    "    \n",
    ")"
   ]
  },
  {
   "cell_type": "code",
   "execution_count": 24,
   "id": "f2fef18c-3c92-4aad-b2b6-beb79ccde0bc",
   "metadata": {},
   "outputs": [
    {
     "name": "stdout",
     "output_type": "stream",
     "text": [
      "Generalized linear mixed model fit by maximum likelihood (Laplace\n",
      "  Approximation) [glmerMod]\n",
      " Family: binomial  ( logit )\n",
      "Formula: MSI ~ hhsex + hh_age_cat + hh_siz_cat + helevel + hh_own_dwelling +  \n",
      "    urban_wi_quintile_mics + hh_agricultural_land + hh_own_animal +  \n",
      "    num_child_under5_cat + (1 | hh1)\n",
      "   Data: data\n",
      "Weights: hhweightmics\n",
      "\n",
      "     AIC      BIC   logLik deviance df.resid \n",
      " 15479.6  15625.1  -7719.8  15439.6    10660 \n",
      "\n",
      "Scaled residuals: \n",
      "    Min      1Q  Median      3Q     Max \n",
      "-9.6029 -0.6014  0.3386  0.6049  5.3276 \n",
      "\n",
      "Random effects:\n",
      " Groups Name        Variance Std.Dev.\n",
      " hh1    (Intercept) 0.6293   0.7933  \n",
      "Number of obs: 10680, groups:  hh1, 575\n",
      "\n",
      "Fixed effects:\n",
      "                              Estimate Std. Error z value Pr(>|z|)    \n",
      "(Intercept)                    1.51587    0.15453   9.810  < 2e-16 ***\n",
      "hhsexMale                      0.02891    0.05531   0.523 0.601192    \n",
      "hh_age_cat26-35                0.21673    0.11302   1.918 0.055152 .  \n",
      "hh_age_cat36-45                0.39744    0.11129   3.571 0.000355 ***\n",
      "hh_age_cat>45                  0.21521    0.11079   1.943 0.052071 .  \n",
      "hh_siz_cat>5                   0.31649    0.05229   6.053 1.42e-09 ***\n",
      "helevelHigher/tertiary         0.14937    0.08327   1.794 0.072856 .  \n",
      "helevelJunior secondary        0.41468    0.12160   3.410 0.000649 ***\n",
      "helevelPrimary                 0.46598    0.08168   5.705 1.16e-08 ***\n",
      "helevelSenior secondary        0.33648    0.07936   4.240 2.24e-05 ***\n",
      "hh_own_dwellingOWN            -0.31899    0.09433  -3.382 0.000721 ***\n",
      "hh_own_dwellingRENT            0.10794    0.09235   1.169 0.242484    \n",
      "urban_wi_quintile_micsSecond  -0.24417    0.08333  -2.930 0.003387 ** \n",
      "urban_wi_quintile_micsMiddle  -0.63957    0.08592  -7.443 9.81e-14 ***\n",
      "urban_wi_quintile_micsFourth  -1.27598    0.08906 -14.327  < 2e-16 ***\n",
      "urban_wi_quintile_micsRichest -2.43085    0.09802 -24.799  < 2e-16 ***\n",
      "hh_agricultural_landYES       -0.11988    0.05377  -2.230 0.025780 *  \n",
      "hh_own_animalYES              -0.25426    0.06062  -4.194 2.74e-05 ***\n",
      "num_child_under5_catYes       -0.22272    0.06427  -3.465 0.000530 ***\n",
      "---\n",
      "Signif. codes:  0 ‘***’ 0.001 ‘**’ 0.01 ‘*’ 0.05 ‘.’ 0.1 ‘ ’ 1\n",
      "optimizer (Nelder_Mead) convergence code: 0 (OK)\n",
      "Model failed to converge with max|grad| = 0.185146 (tol = 0.002, component 1)\n",
      "\n"
     ]
    },
    {
     "data": {
      "text/plain": [
       "\n",
       "Correlation matrix not shown by default, as p = 19 > 12.\n",
       "Use print(object, correlation=TRUE)  or\n",
       "    vcov(object)        if you need it\n",
       "\n"
      ]
     },
     "metadata": {},
     "output_type": "display_data"
    }
   ],
   "source": [
    "%%R\n",
    "summary(model1)"
   ]
  },
  {
   "cell_type": "markdown",
   "id": "45f900bf-7a1e-4a46-ae84-734467b2b7bf",
   "metadata": {},
   "source": [
    "### Variance partition coefficient\n",
    "\n",
    "The variance partition coefficient (VPC) is calculated as \n",
    "$$ \\sqrt{\\frac{\\sigma^2_u}{\\sigma^2_u + \\sigma^2_e}} $$\n"
   ]
  },
  {
   "cell_type": "code",
   "execution_count": 31,
   "id": "9b78652a-4a36-466b-8cfa-cae1da5e8a14",
   "metadata": {},
   "outputs": [
    {
     "data": {
      "text/plain": [
       "0.16056438649758886"
      ]
     },
     "execution_count": 31,
     "metadata": {},
     "output_type": "execute_result"
    }
   ],
   "source": [
    "# VPC\n",
    "0.6293/(0.6293 + 3.29)"
   ]
  },
  {
   "cell_type": "markdown",
   "id": "cf6da3cf-8064-412a-966d-46518b4dfd3c",
   "metadata": {},
   "source": [
    "The variance partition coefficient (VPC) is calculated as 0.6293/(0.6293 + 3.29) = 0.16. Thus 16% of the residual variation in the propensity moderate or severe (y*) is attributable to unobserved community characteristics. "
   ]
  },
  {
   "cell_type": "code",
   "execution_count": 26,
   "id": "efd5b26f-c165-4bb3-b0f1-8b39a483fe8c",
   "metadata": {},
   "outputs": [
    {
     "name": "stdout",
     "output_type": "stream",
     "text": [
      "MODEL INFO:\n",
      "Observations: 10680\n",
      "Dependent Variable: MSI\n",
      "Type: Mixed effects generalized linear regression\n",
      "Error Distribution: binomial\n",
      "Link function: logit \n",
      "\n",
      "MODEL FIT:\n",
      "AIC = 15479.60, BIC = 15625.12\n",
      "Pseudo-R² (fixed effects) = 0.16\n",
      "Pseudo-R² (total) = 0.30 \n",
      "\n",
      "FIXED EFFECTS:\n",
      "----------------------------------------------------------------------\n",
      "                                      exp(Est.)   S.E.   z val.      p\n",
      "----------------------------------- ----------- ------ -------- ------\n",
      "(Intercept)                                4.55   0.15     9.81   0.00\n",
      "hhsexMale                                  1.03   0.06     0.52   0.60\n",
      "hh_age_cat26-35                            1.24   0.11     1.92   0.06\n",
      "hh_age_cat36-45                            1.49   0.11     3.57   0.00\n",
      "hh_age_cat>45                              1.24   0.11     1.94   0.05\n",
      "hh_siz_cat>5                               1.37   0.05     6.05   0.00\n",
      "helevelHigher/tertiary                     1.16   0.08     1.79   0.07\n",
      "helevelJunior secondary                    1.51   0.12     3.41   0.00\n",
      "helevelPrimary                             1.59   0.08     5.71   0.00\n",
      "helevelSenior secondary                    1.40   0.08     4.24   0.00\n",
      "hh_own_dwellingOWN                         0.73   0.09    -3.38   0.00\n",
      "hh_own_dwellingRENT                        1.11   0.09     1.17   0.24\n",
      "urban_wi_quintile_micsSecond               0.78   0.08    -2.93   0.00\n",
      "urban_wi_quintile_micsMiddle               0.53   0.09    -7.44   0.00\n",
      "urban_wi_quintile_micsFourth               0.28   0.09   -14.33   0.00\n",
      "urban_wi_quintile_micsRichest              0.09   0.10   -24.80   0.00\n",
      "hh_agricultural_landYES                    0.89   0.05    -2.23   0.03\n",
      "hh_own_animalYES                           0.78   0.06    -4.19   0.00\n",
      "num_child_under5_catYes                    0.80   0.06    -3.47   0.00\n",
      "----------------------------------------------------------------------\n",
      "\n",
      "RANDOM EFFECTS:\n",
      "---------------------------------\n",
      " Group    Parameter    Std. Dev. \n",
      "------- ------------- -----------\n",
      "  hh1    (Intercept)     0.79    \n",
      "---------------------------------\n",
      "\n",
      "Grouping variables:\n",
      "-------------------------\n",
      " Group   # groups   ICC  \n",
      "------- ---------- ------\n",
      "  hh1      575      0.16 \n",
      "-------------------------\n"
     ]
    },
    {
     "data": {
      "text/plain": [
       "Registered S3 methods overwritten by 'broom':\n",
       "  method            from  \n",
       "  tidy.glht         jtools\n",
       "  tidy.summary.glht jtools\n"
      ]
     },
     "metadata": {},
     "output_type": "display_data"
    }
   ],
   "source": [
    "%%R\n",
    "\n",
    "summ(model1, exp=T)\n"
   ]
  },
  {
   "cell_type": "code",
   "execution_count": 29,
   "id": "b42076d9-040f-4eb2-9319-6771f4ffdcff",
   "metadata": {},
   "outputs": [],
   "source": [
    "%%R\n",
    "library(gtsummary)\n",
    "#Create the summary table\n",
    "summary_table <- tbl_regression(model1,\n",
    "                                 exponentiate = TRUE,   # Convert coefficients to odds ratios\n",
    "                                 conf.level = 0.95)   \n",
    "print(summary_table)"
   ]
  },
  {
   "cell_type": "markdown",
   "id": "93cfe4f0-1492-4106-8209-a861217b7d63",
   "metadata": {},
   "source": [
    "### Model II: Model containing only Community-level predictors"
   ]
  },
  {
   "cell_type": "code",
   "execution_count": 30,
   "id": "14a60545-4968-49cd-a05d-df1a6e11dfb7",
   "metadata": {},
   "outputs": [
    {
     "data": {
      "text/plain": [
       "In addition: Warning messages:\n",
       "1: In eval(family$initialize, rho) :\n",
       "  non-integer #successes in a binomial glm!\n",
       "2: In checkConv(attr(opt, \"derivs\"), opt$par, ctrl = control$checkConv,  :\n",
       "  Model failed to converge with max|grad| = 0.00586904 (tol = 0.002, component 1)\n"
      ]
     },
     "metadata": {},
     "output_type": "display_data"
    }
   ],
   "source": [
    "%%R\n",
    "set.seed(7)\n",
    "model2 <- glmer(formula = MSI ~ zone+cluster_wi_category+(1|hh1),\n",
    "    family = binomial,\n",
    "    data = data,\n",
    "    # nAGQ=25,\n",
    "    weights = hhweightmics,\n",
    ")"
   ]
  },
  {
   "cell_type": "code",
   "execution_count": 72,
   "id": "18910051-61be-4b51-8f03-b5d843939f8b",
   "metadata": {},
   "outputs": [
    {
     "name": "stdout",
     "output_type": "stream",
     "text": [
      "Generalized linear mixed model fit by maximum likelihood (Laplace\n",
      "  Approximation) [glmerMod]\n",
      " Family: binomial  ( logit )\n",
      "Formula: MSI ~ zone + cluster_wi_category + (1 | hh1)\n",
      "   Data: data\n",
      "Weights: hhweightmics\n",
      "\n",
      "     AIC      BIC   logLik deviance df.resid \n",
      " 16885.3  16950.8  -8433.6  16867.3    10671 \n",
      "\n",
      "Scaled residuals: \n",
      "    Min      1Q  Median      3Q     Max \n",
      "-7.6829 -0.8159  0.4132  0.6593  3.2033 \n",
      "\n",
      "Random effects:\n",
      " Groups Name        Variance Std.Dev.\n",
      " hh1    (Intercept) 0.4238   0.651   \n",
      "Number of obs: 10680, groups:  hh1, 575\n",
      "\n",
      "Fixed effects:\n",
      "                          Estimate Std. Error z value Pr(>|z|)    \n",
      "(Intercept)                 1.5128     0.2953   5.123 3.00e-07 ***\n",
      "zoneNorth East             -0.7623     0.1699  -4.488 7.21e-06 ***\n",
      "zoneNorth West             -0.4826     0.1450  -3.329 0.000871 ***\n",
      "zoneSouth East              0.2287     0.1665   1.374 0.169591    \n",
      "zoneSouth South            -0.3318     0.1431  -2.318 0.020434 *  \n",
      "zoneSouth West             -0.5656     0.1156  -4.893 9.93e-07 ***\n",
      "cluster_wi_categoryMiddle   0.2684     0.2889   0.929 0.352880    \n",
      "cluster_wi_categoryHigh    -0.2277     0.2807  -0.811 0.417271    \n",
      "---\n",
      "Signif. codes:  0 ‘***’ 0.001 ‘**’ 0.01 ‘*’ 0.05 ‘.’ 0.1 ‘ ’ 1\n",
      "\n",
      "Correlation of Fixed Effects:\n",
      "            (Intr) znNrtE znNrtW znSthE znSthS znSthW cls__M\n",
      "zoneNrthEst -0.256                                          \n",
      "zoneNrthWst -0.356  0.431                                   \n",
      "zoneSothEst -0.189  0.353  0.414                            \n",
      "zoneSothSth -0.219  0.407  0.479  0.427                     \n",
      "zoneSothWst -0.306  0.521  0.607  0.524  0.608              \n",
      "clstr_w_ctM -0.896  0.006  0.096 -0.008 -0.003 -0.001       \n",
      "clstr_w_ctH -0.939  0.066  0.132 -0.018 -0.023  0.013  0.937\n",
      "optimizer (Nelder_Mead) convergence code: 0 (OK)\n",
      "Model failed to converge with max|grad| = 0.00586904 (tol = 0.002, component 1)\n",
      "\n"
     ]
    }
   ],
   "source": [
    "%%R\n",
    "summary(model2)"
   ]
  },
  {
   "cell_type": "code",
   "execution_count": 32,
   "id": "5166910b-3823-4b0e-82b1-bdd0c92e995d",
   "metadata": {},
   "outputs": [
    {
     "data": {
      "text/plain": [
       "0.11411492272066348"
      ]
     },
     "execution_count": 32,
     "metadata": {},
     "output_type": "execute_result"
    }
   ],
   "source": [
    "# VPC \n",
    "0.4238/(0.4238 + 3.29)"
   ]
  },
  {
   "cell_type": "code",
   "execution_count": 73,
   "id": "288132c5-e142-4c57-bbe7-c603b2133d44",
   "metadata": {
    "scrolled": true
   },
   "outputs": [
    {
     "name": "stdout",
     "output_type": "stream",
     "text": [
      "MODEL INFO:\n",
      "Observations: 10680\n",
      "Dependent Variable: MSI\n",
      "Type: Mixed effects generalized linear regression\n",
      "Error Distribution: binomial\n",
      "Link function: logit \n",
      "\n",
      "MODEL FIT:\n",
      "AIC = 16885.30, BIC = 16950.78\n",
      "Pseudo-R² (fixed effects) = 0.03\n",
      "Pseudo-R² (total) = 0.14 \n",
      "\n",
      "FIXED EFFECTS:\n",
      "--------------------------------------------------------------\n",
      "                                   Est.   S.E.   z val.      p\n",
      "------------------------------- ------- ------ -------- ------\n",
      "(Intercept)                        1.51   0.30     5.12   0.00\n",
      "zoneNorth East                    -0.76   0.17    -4.49   0.00\n",
      "zoneNorth West                    -0.48   0.14    -3.33   0.00\n",
      "zoneSouth East                     0.23   0.17     1.37   0.17\n",
      "zoneSouth South                   -0.33   0.14    -2.32   0.02\n",
      "zoneSouth West                    -0.57   0.12    -4.89   0.00\n",
      "cluster_wi_categoryMiddle          0.27   0.29     0.93   0.35\n",
      "cluster_wi_categoryHigh           -0.23   0.28    -0.81   0.42\n",
      "--------------------------------------------------------------\n",
      "\n",
      "RANDOM EFFECTS:\n",
      "---------------------------------\n",
      " Group    Parameter    Std. Dev. \n",
      "------- ------------- -----------\n",
      "  hh1    (Intercept)     0.65    \n",
      "---------------------------------\n",
      "\n",
      "Grouping variables:\n",
      "-------------------------\n",
      " Group   # groups   ICC  \n",
      "------- ---------- ------\n",
      "  hh1      575      0.11 \n",
      "-------------------------\n"
     ]
    }
   ],
   "source": [
    "%%R\n",
    "summ(model2)"
   ]
  },
  {
   "cell_type": "code",
   "execution_count": 74,
   "id": "20549230-5a63-40df-801c-f519bd779ee6",
   "metadata": {},
   "outputs": [],
   "source": [
    "%%R\n",
    "\n",
    "#Create the summary table\n",
    "summary_table2 <- tbl_regression(model2,\n",
    "                                 exponentiate = TRUE,   # Convert coefficients to odds ratios\n",
    "                                 conf.level = 0.95)   \n",
    "print(summary_table2)"
   ]
  },
  {
   "cell_type": "markdown",
   "id": "eff8ce5e-c17a-41db-bc5d-3ac8088764ac",
   "metadata": {},
   "source": [
    "### Model III: Combination of Community-level predictors and individual/household-level predictors\n"
   ]
  },
  {
   "cell_type": "code",
   "execution_count": 33,
   "id": "a087f7e1-3fee-43e8-9154-c080d3bbae8c",
   "metadata": {},
   "outputs": [
    {
     "data": {
      "text/plain": [
       "In addition: Warning messages:\n",
       "1: In eval(family$initialize, rho) :\n",
       "  non-integer #successes in a binomial glm!\n",
       "2: In checkConv(attr(opt, \"derivs\"), opt$par, ctrl = control$checkConv,  :\n",
       "  Model failed to converge with max|grad| = 0.0336328 (tol = 0.002, component 1)\n"
      ]
     },
     "metadata": {},
     "output_type": "display_data"
    }
   ],
   "source": [
    "%%R\n",
    "model3 <- glmer(formula = MSI ~ hhsex + hh_age_cat + hh_siz_cat  + \n",
    "            helevel + hh_own_dwelling + urban_wi_quintile_mics + \n",
    "            hh_agricultural_land + hh_own_animal + num_child_under5_cat+ \n",
    "            zone+cluster_wi_category+\n",
    "            (1|hh1),\n",
    "            family = binomial(\"logit\"),\n",
    "            # nAGQ=25,\n",
    "            data = data,\n",
    "            weights = hhweightmics,\n",
    ")\n"
   ]
  },
  {
   "cell_type": "code",
   "execution_count": 34,
   "id": "4297e947-9c7e-41cf-a83a-c418b0f16698",
   "metadata": {},
   "outputs": [
    {
     "name": "stdout",
     "output_type": "stream",
     "text": [
      "Generalized linear mixed model fit by maximum likelihood (Laplace\n",
      "  Approximation) [glmerMod]\n",
      " Family: binomial  ( logit )\n",
      "Formula: MSI ~ hhsex + hh_age_cat + hh_siz_cat + helevel + hh_own_dwelling +  \n",
      "    urban_wi_quintile_mics + hh_agricultural_land + hh_own_animal +  \n",
      "    num_child_under5_cat + zone + cluster_wi_category + (1 |      hh1)\n",
      "   Data: data\n",
      "Weights: hhweightmics\n",
      "\n",
      "     AIC      BIC   logLik deviance df.resid \n",
      " 15415.6  15612.1  -7680.8  15361.6    10653 \n",
      "\n",
      "Scaled residuals: \n",
      "    Min      1Q  Median      3Q     Max \n",
      "-9.8509 -0.6015  0.3450  0.6080  5.2866 \n",
      "\n",
      "Random effects:\n",
      " Groups Name        Variance Std.Dev.\n",
      " hh1    (Intercept) 0.5165   0.7187  \n",
      "Number of obs: 10680, groups:  hh1, 575\n",
      "\n",
      "Fixed effects:\n",
      "                              Estimate Std. Error z value Pr(>|z|)    \n",
      "(Intercept)                    1.69534    0.34628   4.896 9.79e-07 ***\n",
      "hhsexMale                      0.04962    0.05553   0.894 0.371575    \n",
      "hh_age_cat26-35                0.23201    0.11290   2.055 0.039881 *  \n",
      "hh_age_cat36-45                0.40215    0.11117   3.617 0.000297 ***\n",
      "hh_age_cat>45                  0.21564    0.11073   1.947 0.051484 .  \n",
      "hh_siz_cat>5                   0.31885    0.05288   6.030 1.64e-09 ***\n",
      "helevelHigher/tertiary         0.12120    0.08330   1.455 0.145677    \n",
      "helevelJunior secondary        0.38247    0.12208   3.133 0.001730 ** \n",
      "helevelPrimary                 0.42834    0.08225   5.208 1.91e-07 ***\n",
      "helevelSenior secondary        0.30739    0.07984   3.850 0.000118 ***\n",
      "hh_own_dwellingOWN            -0.31618    0.09419  -3.357 0.000789 ***\n",
      "hh_own_dwellingRENT            0.08246    0.09205   0.896 0.370357    \n",
      "urban_wi_quintile_micsSecond  -0.30271    0.08587  -3.525 0.000423 ***\n",
      "urban_wi_quintile_micsMiddle  -0.71812    0.08999  -7.980 1.47e-15 ***\n",
      "urban_wi_quintile_micsFourth  -1.36492    0.09390 -14.536  < 2e-16 ***\n",
      "urban_wi_quintile_micsRichest -2.53604    0.10311 -24.595  < 2e-16 ***\n",
      "hh_agricultural_landYES       -0.12056    0.05433  -2.219 0.026475 *  \n",
      "hh_own_animalYES              -0.22705    0.06069  -3.741 0.000183 ***\n",
      "num_child_under5_catYes       -0.20695    0.06449  -3.209 0.001331 ** \n",
      "zoneNorth East                -0.99445    0.18337  -5.423 5.86e-08 ***\n",
      "zoneNorth West                -0.62061    0.15845  -3.917 8.97e-05 ***\n",
      "zoneSouth East                 0.40066    0.18343   2.184 0.028946 *  \n",
      "zoneSouth South               -0.23259    0.15699  -1.482 0.138467    \n",
      "zoneSouth West                -0.59626    0.12649  -4.714 2.43e-06 ***\n",
      "cluster_wi_categoryMiddle      0.16373    0.30890   0.530 0.596075    \n",
      "cluster_wi_categoryHigh        0.34283    0.30783   1.114 0.265398    \n",
      "---\n",
      "Signif. codes:  0 ‘***’ 0.001 ‘**’ 0.01 ‘*’ 0.05 ‘.’ 0.1 ‘ ’ 1\n",
      "optimizer (Nelder_Mead) convergence code: 0 (OK)\n",
      "Model failed to converge with max|grad| = 0.0336328 (tol = 0.002, component 1)\n",
      "\n"
     ]
    },
    {
     "data": {
      "text/plain": [
       "\n",
       "Correlation matrix not shown by default, as p = 26 > 12.\n",
       "Use print(object, correlation=TRUE)  or\n",
       "    vcov(object)        if you need it\n",
       "\n"
      ]
     },
     "metadata": {},
     "output_type": "display_data"
    }
   ],
   "source": [
    "%%R\n",
    "summary(model3)"
   ]
  },
  {
   "cell_type": "code",
   "execution_count": 37,
   "id": "1a7adf69-0d5b-488c-8756-7d96351c5d7a",
   "metadata": {},
   "outputs": [
    {
     "data": {
      "text/plain": [
       "0.13568895310652831"
      ]
     },
     "execution_count": 37,
     "metadata": {},
     "output_type": "execute_result"
    }
   ],
   "source": [
    "# VPC \n",
    "0.5165/(0.5165 + 3.29)"
   ]
  },
  {
   "cell_type": "code",
   "execution_count": 77,
   "id": "2cd4970a-6a21-4b9d-abb6-f58008dda854",
   "metadata": {},
   "outputs": [
    {
     "name": "stdout",
     "output_type": "stream",
     "text": [
      "MODEL INFO:\n",
      "Observations: 10680\n",
      "Dependent Variable: MSI\n",
      "Type: Mixed effects generalized linear regression\n",
      "Error Distribution: binomial\n",
      "Link function: logit \n",
      "\n",
      "MODEL FIT:\n",
      "AIC = 15415.62, BIC = 15612.07\n",
      "Pseudo-R² (fixed effects) = 0.18\n",
      "Pseudo-R² (total) = 0.29 \n",
      "\n",
      "FIXED EFFECTS:\n",
      "------------------------------------------------------------------\n",
      "                                       Est.   S.E.   z val.      p\n",
      "----------------------------------- ------- ------ -------- ------\n",
      "(Intercept)                            1.70   0.35     4.90   0.00\n",
      "hhsexMale                              0.05   0.06     0.89   0.37\n",
      "hh_age_cat26-35                        0.23   0.11     2.05   0.04\n",
      "hh_age_cat36-45                        0.40   0.11     3.62   0.00\n",
      "hh_age_cat>45                          0.22   0.11     1.95   0.05\n",
      "hh_siz_cat>5                           0.32   0.05     6.03   0.00\n",
      "helevelHigher/tertiary                 0.12   0.08     1.45   0.15\n",
      "helevelJunior secondary                0.38   0.12     3.13   0.00\n",
      "helevelPrimary                         0.43   0.08     5.21   0.00\n",
      "helevelSenior secondary                0.31   0.08     3.85   0.00\n",
      "hh_own_dwellingOWN                    -0.32   0.09    -3.36   0.00\n",
      "hh_own_dwellingRENT                    0.08   0.09     0.90   0.37\n",
      "urban_wi_quintile_micsSecond          -0.30   0.09    -3.53   0.00\n",
      "urban_wi_quintile_micsMiddle          -0.72   0.09    -7.98   0.00\n",
      "urban_wi_quintile_micsFourth          -1.36   0.09   -14.54   0.00\n",
      "urban_wi_quintile_micsRichest         -2.54   0.10   -24.59   0.00\n",
      "hh_agricultural_landYES               -0.12   0.05    -2.22   0.03\n",
      "hh_own_animalYES                      -0.23   0.06    -3.74   0.00\n",
      "num_child_under5_catYes               -0.21   0.06    -3.21   0.00\n",
      "zoneNorth East                        -0.99   0.18    -5.42   0.00\n",
      "zoneNorth West                        -0.62   0.16    -3.92   0.00\n",
      "zoneSouth East                         0.40   0.18     2.18   0.03\n",
      "zoneSouth South                       -0.23   0.16    -1.48   0.14\n",
      "zoneSouth West                        -0.60   0.13    -4.71   0.00\n",
      "cluster_wi_categoryMiddle              0.16   0.31     0.53   0.60\n",
      "cluster_wi_categoryHigh                0.34   0.31     1.11   0.27\n",
      "------------------------------------------------------------------\n",
      "\n",
      "RANDOM EFFECTS:\n",
      "---------------------------------\n",
      " Group    Parameter    Std. Dev. \n",
      "------- ------------- -----------\n",
      "  hh1    (Intercept)     0.72    \n",
      "---------------------------------\n",
      "\n",
      "Grouping variables:\n",
      "-------------------------\n",
      " Group   # groups   ICC  \n",
      "------- ---------- ------\n",
      "  hh1      575      0.14 \n",
      "-------------------------\n"
     ]
    }
   ],
   "source": [
    "%%R\n",
    "summ(model3)"
   ]
  },
  {
   "cell_type": "code",
   "execution_count": 78,
   "id": "aa5d978d-eb60-444c-920c-1e5809f4c975",
   "metadata": {},
   "outputs": [],
   "source": [
    "%%R\n",
    "\n",
    "#Create the summary table\n",
    "summary_table3 <- tbl_regression(model3,\n",
    "                                 exponentiate = TRUE,   # Convert coefficients to odds ratios\n",
    "                                 conf.level = 0.95)   \n",
    "print(summary_table3)"
   ]
  },
  {
   "cell_type": "markdown",
   "id": "3cd864b6-c092-4127-be09-bd81bce87453",
   "metadata": {},
   "source": [
    "### Compare the Models"
   ]
  },
  {
   "cell_type": "code",
   "execution_count": 79,
   "id": "0abf4bc5-a3b0-43d6-b71b-ed7de478716b",
   "metadata": {},
   "outputs": [
    {
     "name": "stdout",
     "output_type": "stream",
     "text": [
      "Data: data\n",
      "Models:\n",
      "model1: MSI ~ hhsex + hh_age_cat + hh_siz_cat + helevel + hh_own_dwelling + urban_wi_quintile_mics + hh_agricultural_land + hh_own_animal + num_child_under5_cat + (1 | hh1)\n",
      "model3: MSI ~ hhsex + hh_age_cat + hh_siz_cat + helevel + hh_own_dwelling + urban_wi_quintile_mics + hh_agricultural_land + hh_own_animal + num_child_under5_cat + zone + cluster_wi_category + (1 | hh1)\n",
      "       npar   AIC   BIC  logLik deviance  Chisq Df Pr(>Chisq)    \n",
      "model1   20 15480 15625 -7719.8    15440                         \n",
      "model3   27 15416 15612 -7680.8    15362 77.983  7  3.549e-14 ***\n",
      "---\n",
      "Signif. codes:  0 ‘***’ 0.001 ‘**’ 0.01 ‘*’ 0.05 ‘.’ 0.1 ‘ ’ 1\n"
     ]
    }
   ],
   "source": [
    "%%R\n",
    "#compare the full model with that model that excludes `SEX`\n",
    "anova(model1, model3, test=\"Chisq\")"
   ]
  },
  {
   "cell_type": "code",
   "execution_count": null,
   "id": "f5126385-9090-4cb7-be60-2fcea15f4da2",
   "metadata": {},
   "outputs": [],
   "source": []
  }
 ],
 "metadata": {
  "kernelspec": {
   "display_name": "Python 3 (ipykernel)",
   "language": "python",
   "name": "python3"
  },
  "language_info": {
   "codemirror_mode": {
    "name": "ipython",
    "version": 3
   },
   "file_extension": ".py",
   "mimetype": "text/x-python",
   "name": "python",
   "nbconvert_exporter": "python",
   "pygments_lexer": "ipython3",
   "version": "3.12.2"
  }
 },
 "nbformat": 4,
 "nbformat_minor": 5
}
