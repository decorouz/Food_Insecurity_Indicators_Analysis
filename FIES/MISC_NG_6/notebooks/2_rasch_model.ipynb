{
 "cells": [
  {
   "cell_type": "markdown",
   "id": "10231498-7bd1-46c3-bc81-a8c7d51ddd02",
   "metadata": {},
   "source": [
    "# Rasch Model"
   ]
  },
  {
   "cell_type": "code",
   "execution_count": null,
   "id": "f68417ac-2cbb-4018-a3ae-90c52e705819",
   "metadata": {},
   "outputs": [],
   "source": []
  }
 ],
 "metadata": {
  "kernelspec": {
   "display_name": "Python 3 (ipykernel)",
   "language": "python",
   "name": "python3"
  },
  "language_info": {
   "codemirror_mode": {
    "name": "ipython",
    "version": 3
   },
   "file_extension": ".py",
   "mimetype": "text/x-python",
   "name": "python",
   "nbconvert_exporter": "python",
   "pygments_lexer": "ipython3",
   "version": "3.12.2"
  }
 },
 "nbformat": 4,
 "nbformat_minor": 5
}
