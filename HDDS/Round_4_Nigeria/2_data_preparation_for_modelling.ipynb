{
 "cells": [
  {
   "cell_type": "markdown",
   "id": "cd5fffcb-54df-42e2-b743-36fbcdf77286",
   "metadata": {},
   "source": [
    "# Modelling\n",
    "## Determinants of household dietary diversity (HDDS) in 5 northern state of nigeria"
   ]
  },
  {
   "cell_type": "markdown",
   "id": "ef34240c-94a5-4edc-9b1e-4db9ba495f51",
   "metadata": {},
   "source": [
    "<br>"
   ]
  },
  {
   "cell_type": "markdown",
   "id": "86490462-7def-4667-acf9-3e6032c6128e",
   "metadata": {},
   "source": [
    "## Definition of variables and working hypotheses\n",
    "\n",
    "\n",
    "The dietary diversity tool has been proposed and used by FAO to\n",
    "measure and assess food groups consumed during a defined reference\n",
    "period and universally\n",
    "\n",
    "### Methods of data analysis\n",
    "Frequency distribution, mean, percentage distribution and\n",
    "standard deviations were employed. `Chi-square` analysis was\n",
    "employed for comparing groups such as sex of household head, \n",
    "marital status, education, agricultural activities,\n",
    "shocks(selected shocks), difficulties(selected difficulties),\n",
    "and one-way ANOVA for comparing groups like household size, \n",
    "and land-holding size.\n",
    "\n",
    "**Independent Variables**\n",
    "\n",
    "* HH Gender\n",
    "* HH Education\n",
    "* Marital Status\n",
    "* Agricultural Activity\n",
    "* Shocks\n",
    "* household size\n",
    "* landsize\n",
    "\n",
    "**One-way ANOVA**\n",
    "The one-way ANOVA test showed\n",
    "significant difference between `HDD` categories in terms of household size, income and land holding size.\n",
    "\n",
    "[Ordinal logistic regression](https://cscu.cornell.edu/wp-content/uploads/91_ordlogistic.pdf) model was\n",
    "used to determine the relationship between the dependent variables and a set of explanatory variables\n",
    "\n",
    "**TABLES**\n",
    "* Comparison of household dietary diversity categories (continuous explanatory variables) `|Low (N %) |Medium (N % ) |High (N %) |Total (N %)`\n",
    "* Comparison of household dietary diversity categories (dummy explanatory variables `|Low (N %) |Medium (N % ) |High (N %) |Total (N %)`\n",
    "* Distribution of respondents by level of household dietary diversity `HDDS| Frequency| % | Range |Mean |SD | Max | Min`\n",
    "*  Food groups of households Food Groups `|Low (N %) |Medium (N % ) |High (N %) |Total (N %)`\n",
    "\n",
    "* Parameter estimates of ordinal logistic regression`|Variables| Estimate |Standard error |Wald |P-value |Odds ratio`\n"
   ]
  },
  {
   "cell_type": "markdown",
   "id": "87047156-0dcf-442f-931b-d0b314a4b3d7",
   "metadata": {},
   "source": [
    "## Prevalence and predictors of food insecurity among household in 5 northern states in Nigeria\n",
    "\n",
    "**Different Model to try**\n",
    "\n",
    "* logistic regression,\n",
    "* probit regression, or Tobit regression with raw score as dependent variable.\n",
    "* linear probability (OLS with a 0/1 dependent variable)\n",
    "* Three level linear model"
   ]
  },
  {
   "cell_type": "markdown",
   "id": "3bbb8320-c39a-4871-97d1-8a4f181e484f",
   "metadata": {},
   "source": [
    "## Import Libraries and Data"
   ]
  },
  {
   "cell_type": "code",
   "execution_count": 1,
   "id": "0164de7f-896a-45a6-823b-ac896c732740",
   "metadata": {},
   "outputs": [],
   "source": [
    "## Import\n",
    "import pandas as pd\n",
    "import numpy as np\n",
    "import matplotlib.pyplot as plt\n",
    "import seaborn as sns\n",
    "\n",
    "# import statsmodels as sm\n",
    "import statsmodels.api as sm\n",
    "import statsmodels.formula.api as smf\n",
    "from patsy import dmatrices\n",
    "\n",
    "pd.set_option('display.max_columns', 500)\n",
    "pd.set_option('display.max_row', 500)"
   ]
  },
  {
   "cell_type": "code",
   "execution_count": 2,
   "id": "74abbcef-28cb-4644-aa5e-a6b3989dc2a5",
   "metadata": {},
   "outputs": [],
   "source": [
    "# Import the data into a DataFrame\n",
    "\n",
    "df_original = pd.read_csv(\"../../data/DIEM_NG/diem_hdds_round_4.csv\")"
   ]
  },
  {
   "cell_type": "markdown",
   "id": "f35e40a6-e295-4788-a289-93f3ac5f4eee",
   "metadata": {},
   "source": [
    "**Design matrices (endog & exog)**\n",
    "\n",
    "To fit most of the models covered in `statsmodel`, you will need to create two design matrices.\n",
    "- The first is a matrix of endogenous variable(s) (i.e. dependent, response, regressand, etc.).\n",
    "- The second is a matrix of exogenous variable(s) (i.e. independent, predictor, regressor, etc.).\n"
   ]
  },
  {
   "cell_type": "markdown",
   "id": "0ab7cc6f-9dbc-45de-8e06-b5f0f602a967",
   "metadata": {},
   "source": [
    "## Data exploration, data cleaning and model preparation\n",
    "\n",
    "**Dependent Variable**\n",
    "\n",
    "Household Dietary Diversity (`HDD`) Status \n",
    "\n",
    "Households are classified as having **low dietary diversity** if they consume less than **3 food groups**, \n",
    "**medium dietary diversity** if they consume **3 or 4 food groups** and \n",
    "**high dietary diversity** if they consume **5 or more food groups**.\n",
    "\n",
    "\n",
    "* Low HDDS = 0 (if the dietary diversity score of households is less than four)\n",
    "* Medium HDDS = 1 (if four to six)\n",
    "* High HDDS = 2 (if more than six)."
   ]
  },
  {
   "cell_type": "markdown",
   "id": "f64f60ae-9b66-456d-a350-bbc3db191690",
   "metadata": {},
   "source": [
    "### Explore the data\n",
    "\n",
    "Check the data type of each column. Note that logistic regression models expect numeric data. "
   ]
  },
  {
   "cell_type": "markdown",
   "id": "e534d274-a723-4ee2-8385-b01a21f447b7",
   "metadata": {},
   "source": [
    "### Dependent Variable `HDDS`"
   ]
  },
  {
   "cell_type": "code",
   "execution_count": 3,
   "id": "c586c0c5-2e30-414e-b407-cbebf972ee3c",
   "metadata": {},
   "outputs": [
    {
     "data": {
      "text/plain": [
       "(1414, 226)"
      ]
     },
     "execution_count": 3,
     "metadata": {},
     "output_type": "execute_result"
    }
   ],
   "source": [
    "df_original.shape"
   ]
  },
  {
   "cell_type": "code",
   "execution_count": 4,
   "id": "045451ee-5f72-4770-84c7-b99ef57d8ef3",
   "metadata": {},
   "outputs": [],
   "source": [
    "# Rename the vales of the from dummy to string\n",
    "col_dict = {1 : \"Low\",\n",
    "           2: \"Medium\",\n",
    "           3: \"High\"}\n",
    "\n",
    "df_original[\"hdds_class\"] = df_original.hdds_class.astype(\"category\").cat.rename_categories(col_dict)"
   ]
  },
  {
   "cell_type": "code",
   "execution_count": 5,
   "id": "9fab2728-d604-49b1-a8b6-066c8e3f42c0",
   "metadata": {},
   "outputs": [],
   "source": [
    "# Create the dependent variables using the FAO suggestions\n",
    "\n",
    "\n",
    "# Severely FI vs Others\n",
    "df_original.loc[:, \"FI_0_6\"] = np.where(df_original[\"fiesrawscore\"] > 6, 1, 0)"
   ]
  },
  {
   "cell_type": "code",
   "execution_count": 6,
   "id": "d4da81d3-f279-4414-9ac4-cabb277ccb2d",
   "metadata": {},
   "outputs": [
    {
     "data": {
      "text/html": [
       "<div>\n",
       "<style scoped>\n",
       "    .dataframe tbody tr th:only-of-type {\n",
       "        vertical-align: middle;\n",
       "    }\n",
       "\n",
       "    .dataframe tbody tr th {\n",
       "        vertical-align: top;\n",
       "    }\n",
       "\n",
       "    .dataframe thead th {\n",
       "        text-align: right;\n",
       "    }\n",
       "</style>\n",
       "<table border=\"1\" class=\"dataframe\">\n",
       "  <thead>\n",
       "    <tr style=\"text-align: right;\">\n",
       "      <th></th>\n",
       "      <th>fiesrawscore</th>\n",
       "      <th>fies_cat</th>\n",
       "    </tr>\n",
       "  </thead>\n",
       "  <tbody>\n",
       "    <tr>\n",
       "      <th>0</th>\n",
       "      <td>0.0</td>\n",
       "      <td>Secure</td>\n",
       "    </tr>\n",
       "    <tr>\n",
       "      <th>1</th>\n",
       "      <td>1.0</td>\n",
       "      <td>mild to moderate</td>\n",
       "    </tr>\n",
       "    <tr>\n",
       "      <th>2</th>\n",
       "      <td>3.0</td>\n",
       "      <td>mild to moderate</td>\n",
       "    </tr>\n",
       "    <tr>\n",
       "      <th>3</th>\n",
       "      <td>0.0</td>\n",
       "      <td>Secure</td>\n",
       "    </tr>\n",
       "    <tr>\n",
       "      <th>4</th>\n",
       "      <td>4.0</td>\n",
       "      <td>mild to moderate</td>\n",
       "    </tr>\n",
       "    <tr>\n",
       "      <th>...</th>\n",
       "      <td>...</td>\n",
       "      <td>...</td>\n",
       "    </tr>\n",
       "    <tr>\n",
       "      <th>1409</th>\n",
       "      <td>2.0</td>\n",
       "      <td>mild to moderate</td>\n",
       "    </tr>\n",
       "    <tr>\n",
       "      <th>1410</th>\n",
       "      <td>5.0</td>\n",
       "      <td>mild to moderate</td>\n",
       "    </tr>\n",
       "    <tr>\n",
       "      <th>1411</th>\n",
       "      <td>2.0</td>\n",
       "      <td>mild to moderate</td>\n",
       "    </tr>\n",
       "    <tr>\n",
       "      <th>1412</th>\n",
       "      <td>6.0</td>\n",
       "      <td>mild to moderate</td>\n",
       "    </tr>\n",
       "    <tr>\n",
       "      <th>1413</th>\n",
       "      <td>0.0</td>\n",
       "      <td>Secure</td>\n",
       "    </tr>\n",
       "  </tbody>\n",
       "</table>\n",
       "<p>1414 rows × 2 columns</p>\n",
       "</div>"
      ],
      "text/plain": [
       "      fiesrawscore          fies_cat\n",
       "0              0.0            Secure\n",
       "1              1.0  mild to moderate\n",
       "2              3.0  mild to moderate\n",
       "3              0.0            Secure\n",
       "4              4.0  mild to moderate\n",
       "...            ...               ...\n",
       "1409           2.0  mild to moderate\n",
       "1410           5.0  mild to moderate\n",
       "1411           2.0  mild to moderate\n",
       "1412           6.0  mild to moderate\n",
       "1413           0.0            Secure\n",
       "\n",
       "[1414 rows x 2 columns]"
      ]
     },
     "execution_count": 6,
     "metadata": {},
     "output_type": "execute_result"
    }
   ],
   "source": [
    "\n",
    "# Create categorical variable with specified bins\n",
    "bins = [-float('inf'), 0, 6, float('inf')]\n",
    "labels = ['Secure', 'mild to moderate', 'Severe']\n",
    "\n",
    "df_original['fies_cat'] = pd.cut(df_original['fiesrawscore'], bins=bins, labels=labels)\n",
    "\n",
    "df_original[[\"fiesrawscore\", \"fies_cat\"]]"
   ]
  },
  {
   "cell_type": "markdown",
   "id": "348952da-0a0d-4a86-94a5-fbc7466fd094",
   "metadata": {},
   "source": [
    "### Predictor Variables:\n",
    "\n",
    "Subset the columns of interest"
   ]
  },
  {
   "cell_type": "code",
   "execution_count": 7,
   "id": "65943b70-8eac-42d4-9d44-f22ed8b1fab1",
   "metadata": {},
   "outputs": [],
   "source": [
    "#### Subset the columns of interest for modelling\n",
    "col_of_interest = [\n",
    "    \"state\",\n",
    "    \"hh_agricactivity\",\n",
    "    \"hh_gender\",\n",
    "    \"hh_education\",\n",
    "    \"hh_size\",\n",
    "    \"tot_income\",\n",
    "    \"income_main_amount\",\n",
    "    \"income_sec_amount\",\n",
    "    \"hh_age\",\n",
    "    \"crp_landsize_ha\",\n",
    "\n",
    "    \"shock_climate\",\n",
    "    \"shock_drought\",\n",
    "    \"shock_flood\",\n",
    "    \"shock_plantdisease\",\n",
    "    \"shock_pestoutbreak\",\n",
    "    \"shock_animaldisease\",\n",
    "    \"shock_violenceinsecconf\",\n",
    "    \"shock_higherfoodprices\",\n",
    "    \"shock_higherfuelprices\",\n",
    "    \"hdds_cereals\",\n",
    "    \"hdds_rootstubers\",\n",
    "    \"hdds_vegetables\",\n",
    "    \"hdds_fruits\",\n",
    "    \"hdds_meat\",\n",
    "    \"hdds_eggs\",\n",
    "    \"hdds_fish\",\n",
    "    \"hdds_legumes\",\n",
    "    \"hdds_milkdairy\",\n",
    "    \"hdds_oils\",\n",
    "    \"hdds_sugar\",\n",
    "    \"hdds_condiments\",\n",
    "    \"hdds_score\",\n",
    "    \"hdds_class\",\n",
    "    \"fcs_staple_days\",\n",
    "    \"fcs_pulses_days\",\n",
    "    \"fcs_vegetables_days\",\n",
    "    \"fcs_fruit_days\",\n",
    "    \"fcs_meat_fish_days\",\n",
    "    \"fcs_dairy_days\",\n",
    "    \"fcs_sugar_days\",\n",
    "    \"fcs_oil_days\",\n",
    "    \"fcs_condiments_days\",\n",
    "    \"fcg\",\n",
    "    \"FI_0_6\",\n",
    "    \"fies_cat\",\n",
    "    \"weight_final\",\n",
    "    # \"hh_maritalstat_clean\",\n",
    "    # \"resp_islsproducer\",\n",
    "    # \"resp_iscropproducer\",\n",
    "    # \"crp_main\",\n",
    "    # \"crp_salesprice\",\n",
    "    # \"wealth_quintile\",\n",
    "    # \"hh_wealth_water\",\n",
    "    # \"hh_wealth_toilet\",\n",
    "    # \"hh_wealth_light\",\n",
    "    # \"income_comp_clean\",\n",
    "    # \"income_more_than_one\",\n",
    "    # \"income_main_cat\",\n",
    "    # \"income_main_gender\",\n",
    "    # \"income_main_control\",\n",
    "    # \"need\",\n",
    "    # \"any_salediff\",\n",
    "    # \"any_proddiff\",\n",
    "    # \"any_dif\",\n",
    "    # \"crp_proddif_access_fertilize\",\n",
    "    # \"FI_0\",\n",
    "    # \"FI_0_3\",\n",
    "    # \"FI_0_6\",\n",
    "\n",
    "]\n"
   ]
  },
  {
   "cell_type": "code",
   "execution_count": 8,
   "id": "9a157fd8-063f-4ac6-bfc0-42c48f5297f4",
   "metadata": {},
   "outputs": [
    {
     "data": {
      "text/plain": [
       "Index(['fcs_staple_days', 'fcs_pulses_days', 'fcs_vegetables_days',\n",
       "       'fcs_fruit_days', 'fcs_meat_fish_days', 'fcs_dairy_days',\n",
       "       'fcs_sugar_days', 'fcs_oil_days', 'fcs_condiments_days'],\n",
       "      dtype='object')"
      ]
     },
     "execution_count": 8,
     "metadata": {},
     "output_type": "execute_result"
    }
   ],
   "source": [
    "df_original.filter(like=\"fcs\").columns\n"
   ]
  },
  {
   "cell_type": "code",
   "execution_count": 26,
   "id": "b6e61bdb-9049-4624-ae5b-e271154a8873",
   "metadata": {},
   "outputs": [
    {
     "data": {
      "text/plain": [
       "(1414, 46)"
      ]
     },
     "execution_count": 26,
     "metadata": {},
     "output_type": "execute_result"
    }
   ],
   "source": [
    "# Subset the selected columns\n",
    "hdds_df = df_original[col_of_interest]\n",
    "\n",
    "hdds_df.shape"
   ]
  },
  {
   "cell_type": "markdown",
   "id": "25f437a3-1688-41b4-9b50-56f23be2f8be",
   "metadata": {},
   "source": [
    "### Check for missing data"
   ]
  },
  {
   "cell_type": "code",
   "execution_count": 10,
   "id": "ba8f8c71-372e-46e3-a580-9aeeeace7f92",
   "metadata": {},
   "outputs": [
    {
     "data": {
      "text/plain": [
       "state                        0\n",
       "hh_agricactivity             0\n",
       "hh_gender                    0\n",
       "hh_education                 0\n",
       "hh_size                      0\n",
       "tot_income                  12\n",
       "income_main_amount           1\n",
       "income_sec_amount          945\n",
       "hh_age                       0\n",
       "crp_landsize_ha              0\n",
       "shock_climate                0\n",
       "shock_drought                0\n",
       "shock_flood                  0\n",
       "shock_plantdisease           0\n",
       "shock_pestoutbreak           0\n",
       "shock_animaldisease          0\n",
       "shock_violenceinsecconf      0\n",
       "shock_higherfoodprices       0\n",
       "shock_higherfuelprices       0\n",
       "hdds_cereals                 0\n",
       "hdds_rootstubers             0\n",
       "hdds_vegetables              0\n",
       "hdds_fruits                  0\n",
       "hdds_meat                    0\n",
       "hdds_eggs                    0\n",
       "hdds_fish                    0\n",
       "hdds_legumes                 0\n",
       "hdds_milkdairy               0\n",
       "hdds_oils                    0\n",
       "hdds_sugar                   0\n",
       "hdds_condiments              0\n",
       "hdds_score                   0\n",
       "hdds_class                   0\n",
       "fcs_staple_days              0\n",
       "fcs_pulses_days              0\n",
       "fcs_vegetables_days          0\n",
       "fcs_fruit_days               0\n",
       "fcs_meat_fish_days           0\n",
       "fcs_dairy_days               0\n",
       "fcs_sugar_days               0\n",
       "fcs_oil_days                 0\n",
       "fcs_condiments_days          0\n",
       "fcg                          0\n",
       "FI_0_6                       0\n",
       "fies_cat                     0\n",
       "weight_final                 0\n",
       "dtype: int64"
      ]
     },
     "execution_count": 10,
     "metadata": {},
     "output_type": "execute_result"
    }
   ],
   "source": [
    "hdds_df.isna().sum()"
   ]
  },
  {
   "cell_type": "markdown",
   "id": "6a7d9681-7229-4c9f-a917-bfd68550a1d2",
   "metadata": {},
   "source": [
    "**Observation**\n",
    "\n",
    "`tot_income` contain 12 missing values and `income_sec_amount` contains 945 missing values\n",
    "\n",
    "**Impact**\n",
    "\n",
    "Explore the missing record. Possible imputation can be done."
   ]
  },
  {
   "cell_type": "code",
   "execution_count": 11,
   "id": "704edf82-5e2a-42ef-a88c-4e1c31b2f12e",
   "metadata": {},
   "outputs": [
    {
     "data": {
      "text/html": [
       "<div>\n",
       "<style scoped>\n",
       "    .dataframe tbody tr th:only-of-type {\n",
       "        vertical-align: middle;\n",
       "    }\n",
       "\n",
       "    .dataframe tbody tr th {\n",
       "        vertical-align: top;\n",
       "    }\n",
       "\n",
       "    .dataframe thead th {\n",
       "        text-align: right;\n",
       "    }\n",
       "</style>\n",
       "<table border=\"1\" class=\"dataframe\">\n",
       "  <thead>\n",
       "    <tr style=\"text-align: right;\">\n",
       "      <th></th>\n",
       "      <th>state</th>\n",
       "      <th>hh_agricactivity</th>\n",
       "      <th>hh_gender</th>\n",
       "      <th>hh_education</th>\n",
       "      <th>hh_size</th>\n",
       "      <th>tot_income</th>\n",
       "      <th>income_main_amount</th>\n",
       "      <th>income_sec_amount</th>\n",
       "      <th>hh_age</th>\n",
       "      <th>crp_landsize_ha</th>\n",
       "      <th>shock_climate</th>\n",
       "      <th>shock_drought</th>\n",
       "      <th>shock_flood</th>\n",
       "      <th>shock_plantdisease</th>\n",
       "      <th>shock_pestoutbreak</th>\n",
       "      <th>shock_animaldisease</th>\n",
       "      <th>shock_violenceinsecconf</th>\n",
       "      <th>shock_higherfoodprices</th>\n",
       "      <th>shock_higherfuelprices</th>\n",
       "      <th>hdds_cereals</th>\n",
       "      <th>hdds_rootstubers</th>\n",
       "      <th>hdds_vegetables</th>\n",
       "      <th>hdds_fruits</th>\n",
       "      <th>hdds_meat</th>\n",
       "      <th>hdds_eggs</th>\n",
       "      <th>hdds_fish</th>\n",
       "      <th>hdds_legumes</th>\n",
       "      <th>hdds_milkdairy</th>\n",
       "      <th>hdds_oils</th>\n",
       "      <th>hdds_sugar</th>\n",
       "      <th>hdds_condiments</th>\n",
       "      <th>hdds_score</th>\n",
       "      <th>hdds_class</th>\n",
       "      <th>fcs_staple_days</th>\n",
       "      <th>fcs_pulses_days</th>\n",
       "      <th>fcs_vegetables_days</th>\n",
       "      <th>fcs_fruit_days</th>\n",
       "      <th>fcs_meat_fish_days</th>\n",
       "      <th>fcs_dairy_days</th>\n",
       "      <th>fcs_sugar_days</th>\n",
       "      <th>fcs_oil_days</th>\n",
       "      <th>fcs_condiments_days</th>\n",
       "      <th>fcg</th>\n",
       "      <th>FI_0_6</th>\n",
       "      <th>fies_cat</th>\n",
       "      <th>weight_final</th>\n",
       "    </tr>\n",
       "  </thead>\n",
       "  <tbody>\n",
       "    <tr>\n",
       "      <th>210</th>\n",
       "      <td>Adamawa</td>\n",
       "      <td>crop production</td>\n",
       "      <td>Male</td>\n",
       "      <td>Higher Education</td>\n",
       "      <td>8.0</td>\n",
       "      <td>NaN</td>\n",
       "      <td>630000.0</td>\n",
       "      <td>511000.0</td>\n",
       "      <td>41 to 65</td>\n",
       "      <td>0.809389</td>\n",
       "      <td>True</td>\n",
       "      <td>0.0</td>\n",
       "      <td>0.0</td>\n",
       "      <td>1.0</td>\n",
       "      <td>0.0</td>\n",
       "      <td>0.0</td>\n",
       "      <td>0.0</td>\n",
       "      <td>0.0</td>\n",
       "      <td>0.0</td>\n",
       "      <td>1.0</td>\n",
       "      <td>1.0</td>\n",
       "      <td>1.0</td>\n",
       "      <td>1.0</td>\n",
       "      <td>1.0</td>\n",
       "      <td>1.0</td>\n",
       "      <td>1.0</td>\n",
       "      <td>1.0</td>\n",
       "      <td>1.0</td>\n",
       "      <td>1.0</td>\n",
       "      <td>1.0</td>\n",
       "      <td>1.0</td>\n",
       "      <td>12.0</td>\n",
       "      <td>High</td>\n",
       "      <td>7.0</td>\n",
       "      <td>7.0</td>\n",
       "      <td>7.0</td>\n",
       "      <td>2.0</td>\n",
       "      <td>7.0</td>\n",
       "      <td>4.0</td>\n",
       "      <td>4.0</td>\n",
       "      <td>7.0</td>\n",
       "      <td>7.0</td>\n",
       "      <td>3.0</td>\n",
       "      <td>0</td>\n",
       "      <td>Secure</td>\n",
       "      <td>0.845520</td>\n",
       "    </tr>\n",
       "    <tr>\n",
       "      <th>368</th>\n",
       "      <td>Yobe</td>\n",
       "      <td>crop production</td>\n",
       "      <td>Male</td>\n",
       "      <td>Secondary Education</td>\n",
       "      <td>8.0</td>\n",
       "      <td>NaN</td>\n",
       "      <td>3000000.0</td>\n",
       "      <td>NaN</td>\n",
       "      <td>18 to 40</td>\n",
       "      <td>7.000000</td>\n",
       "      <td>False</td>\n",
       "      <td>0.0</td>\n",
       "      <td>0.0</td>\n",
       "      <td>0.0</td>\n",
       "      <td>0.0</td>\n",
       "      <td>0.0</td>\n",
       "      <td>0.0</td>\n",
       "      <td>1.0</td>\n",
       "      <td>1.0</td>\n",
       "      <td>1.0</td>\n",
       "      <td>0.0</td>\n",
       "      <td>1.0</td>\n",
       "      <td>0.0</td>\n",
       "      <td>0.0</td>\n",
       "      <td>0.0</td>\n",
       "      <td>0.0</td>\n",
       "      <td>0.0</td>\n",
       "      <td>0.0</td>\n",
       "      <td>1.0</td>\n",
       "      <td>1.0</td>\n",
       "      <td>1.0</td>\n",
       "      <td>5.0</td>\n",
       "      <td>High</td>\n",
       "      <td>4.0</td>\n",
       "      <td>1.0</td>\n",
       "      <td>7.0</td>\n",
       "      <td>0.0</td>\n",
       "      <td>2.0</td>\n",
       "      <td>0.0</td>\n",
       "      <td>3.0</td>\n",
       "      <td>7.0</td>\n",
       "      <td>7.0</td>\n",
       "      <td>2.0</td>\n",
       "      <td>1</td>\n",
       "      <td>Severe</td>\n",
       "      <td>0.771834</td>\n",
       "    </tr>\n",
       "    <tr>\n",
       "      <th>552</th>\n",
       "      <td>Borno</td>\n",
       "      <td>No</td>\n",
       "      <td>Male</td>\n",
       "      <td>Higher Education</td>\n",
       "      <td>5.0</td>\n",
       "      <td>NaN</td>\n",
       "      <td>1350000.0</td>\n",
       "      <td>NaN</td>\n",
       "      <td>41 to 65</td>\n",
       "      <td>0.000000</td>\n",
       "      <td>False</td>\n",
       "      <td>0.0</td>\n",
       "      <td>0.0</td>\n",
       "      <td>0.0</td>\n",
       "      <td>0.0</td>\n",
       "      <td>0.0</td>\n",
       "      <td>0.0</td>\n",
       "      <td>1.0</td>\n",
       "      <td>1.0</td>\n",
       "      <td>1.0</td>\n",
       "      <td>1.0</td>\n",
       "      <td>0.0</td>\n",
       "      <td>0.0</td>\n",
       "      <td>1.0</td>\n",
       "      <td>0.0</td>\n",
       "      <td>0.0</td>\n",
       "      <td>0.0</td>\n",
       "      <td>0.0</td>\n",
       "      <td>1.0</td>\n",
       "      <td>0.0</td>\n",
       "      <td>1.0</td>\n",
       "      <td>5.0</td>\n",
       "      <td>High</td>\n",
       "      <td>5.0</td>\n",
       "      <td>2.0</td>\n",
       "      <td>4.0</td>\n",
       "      <td>1.0</td>\n",
       "      <td>6.0</td>\n",
       "      <td>2.0</td>\n",
       "      <td>3.0</td>\n",
       "      <td>7.0</td>\n",
       "      <td>7.0</td>\n",
       "      <td>3.0</td>\n",
       "      <td>0</td>\n",
       "      <td>mild to moderate</td>\n",
       "      <td>1.162478</td>\n",
       "    </tr>\n",
       "    <tr>\n",
       "      <th>760</th>\n",
       "      <td>Zamfara</td>\n",
       "      <td>crop production</td>\n",
       "      <td>Male</td>\n",
       "      <td>Higher Education</td>\n",
       "      <td>6.0</td>\n",
       "      <td>NaN</td>\n",
       "      <td>950000.0</td>\n",
       "      <td>450000.0</td>\n",
       "      <td>41 to 65</td>\n",
       "      <td>3.000000</td>\n",
       "      <td>False</td>\n",
       "      <td>0.0</td>\n",
       "      <td>0.0</td>\n",
       "      <td>0.0</td>\n",
       "      <td>0.0</td>\n",
       "      <td>0.0</td>\n",
       "      <td>0.0</td>\n",
       "      <td>0.0</td>\n",
       "      <td>0.0</td>\n",
       "      <td>1.0</td>\n",
       "      <td>0.0</td>\n",
       "      <td>1.0</td>\n",
       "      <td>1.0</td>\n",
       "      <td>1.0</td>\n",
       "      <td>0.0</td>\n",
       "      <td>1.0</td>\n",
       "      <td>0.0</td>\n",
       "      <td>1.0</td>\n",
       "      <td>1.0</td>\n",
       "      <td>1.0</td>\n",
       "      <td>1.0</td>\n",
       "      <td>9.0</td>\n",
       "      <td>High</td>\n",
       "      <td>7.0</td>\n",
       "      <td>4.0</td>\n",
       "      <td>7.0</td>\n",
       "      <td>5.0</td>\n",
       "      <td>7.0</td>\n",
       "      <td>6.0</td>\n",
       "      <td>6.0</td>\n",
       "      <td>7.0</td>\n",
       "      <td>7.0</td>\n",
       "      <td>3.0</td>\n",
       "      <td>0</td>\n",
       "      <td>Secure</td>\n",
       "      <td>0.802971</td>\n",
       "    </tr>\n",
       "    <tr>\n",
       "      <th>793</th>\n",
       "      <td>Katsina</td>\n",
       "      <td>crop and livestock production</td>\n",
       "      <td>Male</td>\n",
       "      <td>Higher Education</td>\n",
       "      <td>8.0</td>\n",
       "      <td>NaN</td>\n",
       "      <td>700000.0</td>\n",
       "      <td>500000.0</td>\n",
       "      <td>18 to 40</td>\n",
       "      <td>2.000000</td>\n",
       "      <td>False</td>\n",
       "      <td>0.0</td>\n",
       "      <td>0.0</td>\n",
       "      <td>0.0</td>\n",
       "      <td>0.0</td>\n",
       "      <td>0.0</td>\n",
       "      <td>0.0</td>\n",
       "      <td>0.0</td>\n",
       "      <td>0.0</td>\n",
       "      <td>1.0</td>\n",
       "      <td>0.0</td>\n",
       "      <td>0.0</td>\n",
       "      <td>0.0</td>\n",
       "      <td>0.0</td>\n",
       "      <td>0.0</td>\n",
       "      <td>0.0</td>\n",
       "      <td>1.0</td>\n",
       "      <td>1.0</td>\n",
       "      <td>0.0</td>\n",
       "      <td>0.0</td>\n",
       "      <td>1.0</td>\n",
       "      <td>4.0</td>\n",
       "      <td>Medium</td>\n",
       "      <td>5.0</td>\n",
       "      <td>3.0</td>\n",
       "      <td>7.0</td>\n",
       "      <td>0.0</td>\n",
       "      <td>2.0</td>\n",
       "      <td>2.0</td>\n",
       "      <td>4.0</td>\n",
       "      <td>6.0</td>\n",
       "      <td>6.0</td>\n",
       "      <td>3.0</td>\n",
       "      <td>0</td>\n",
       "      <td>Secure</td>\n",
       "      <td>1.792892</td>\n",
       "    </tr>\n",
       "  </tbody>\n",
       "</table>\n",
       "</div>"
      ],
      "text/plain": [
       "       state               hh_agricactivity hh_gender         hh_education  \\\n",
       "210  Adamawa                crop production      Male     Higher Education   \n",
       "368     Yobe                crop production      Male  Secondary Education   \n",
       "552    Borno                             No      Male     Higher Education   \n",
       "760  Zamfara                crop production      Male     Higher Education   \n",
       "793  Katsina  crop and livestock production      Male     Higher Education   \n",
       "\n",
       "     hh_size  tot_income  income_main_amount  income_sec_amount    hh_age  \\\n",
       "210      8.0         NaN            630000.0           511000.0  41 to 65   \n",
       "368      8.0         NaN           3000000.0                NaN  18 to 40   \n",
       "552      5.0         NaN           1350000.0                NaN  41 to 65   \n",
       "760      6.0         NaN            950000.0           450000.0  41 to 65   \n",
       "793      8.0         NaN            700000.0           500000.0  18 to 40   \n",
       "\n",
       "     crp_landsize_ha  shock_climate  shock_drought  shock_flood  \\\n",
       "210         0.809389           True            0.0          0.0   \n",
       "368         7.000000          False            0.0          0.0   \n",
       "552         0.000000          False            0.0          0.0   \n",
       "760         3.000000          False            0.0          0.0   \n",
       "793         2.000000          False            0.0          0.0   \n",
       "\n",
       "     shock_plantdisease  shock_pestoutbreak  shock_animaldisease  \\\n",
       "210                 1.0                 0.0                  0.0   \n",
       "368                 0.0                 0.0                  0.0   \n",
       "552                 0.0                 0.0                  0.0   \n",
       "760                 0.0                 0.0                  0.0   \n",
       "793                 0.0                 0.0                  0.0   \n",
       "\n",
       "     shock_violenceinsecconf  shock_higherfoodprices  shock_higherfuelprices  \\\n",
       "210                      0.0                     0.0                     0.0   \n",
       "368                      0.0                     1.0                     1.0   \n",
       "552                      0.0                     1.0                     1.0   \n",
       "760                      0.0                     0.0                     0.0   \n",
       "793                      0.0                     0.0                     0.0   \n",
       "\n",
       "     hdds_cereals  hdds_rootstubers  hdds_vegetables  hdds_fruits  hdds_meat  \\\n",
       "210           1.0               1.0              1.0          1.0        1.0   \n",
       "368           1.0               0.0              1.0          0.0        0.0   \n",
       "552           1.0               1.0              0.0          0.0        1.0   \n",
       "760           1.0               0.0              1.0          1.0        1.0   \n",
       "793           1.0               0.0              0.0          0.0        0.0   \n",
       "\n",
       "     hdds_eggs  hdds_fish  hdds_legumes  hdds_milkdairy  hdds_oils  \\\n",
       "210        1.0        1.0           1.0             1.0        1.0   \n",
       "368        0.0        0.0           0.0             0.0        1.0   \n",
       "552        0.0        0.0           0.0             0.0        1.0   \n",
       "760        0.0        1.0           0.0             1.0        1.0   \n",
       "793        0.0        0.0           1.0             1.0        0.0   \n",
       "\n",
       "     hdds_sugar  hdds_condiments  hdds_score hdds_class  fcs_staple_days  \\\n",
       "210         1.0              1.0        12.0       High              7.0   \n",
       "368         1.0              1.0         5.0       High              4.0   \n",
       "552         0.0              1.0         5.0       High              5.0   \n",
       "760         1.0              1.0         9.0       High              7.0   \n",
       "793         0.0              1.0         4.0     Medium              5.0   \n",
       "\n",
       "     fcs_pulses_days  fcs_vegetables_days  fcs_fruit_days  fcs_meat_fish_days  \\\n",
       "210              7.0                  7.0             2.0                 7.0   \n",
       "368              1.0                  7.0             0.0                 2.0   \n",
       "552              2.0                  4.0             1.0                 6.0   \n",
       "760              4.0                  7.0             5.0                 7.0   \n",
       "793              3.0                  7.0             0.0                 2.0   \n",
       "\n",
       "     fcs_dairy_days  fcs_sugar_days  fcs_oil_days  fcs_condiments_days  fcg  \\\n",
       "210             4.0             4.0           7.0                  7.0  3.0   \n",
       "368             0.0             3.0           7.0                  7.0  2.0   \n",
       "552             2.0             3.0           7.0                  7.0  3.0   \n",
       "760             6.0             6.0           7.0                  7.0  3.0   \n",
       "793             2.0             4.0           6.0                  6.0  3.0   \n",
       "\n",
       "     FI_0_6          fies_cat  weight_final  \n",
       "210       0            Secure      0.845520  \n",
       "368       1            Severe      0.771834  \n",
       "552       0  mild to moderate      1.162478  \n",
       "760       0            Secure      0.802971  \n",
       "793       0            Secure      1.792892  "
      ]
     },
     "execution_count": 11,
     "metadata": {},
     "output_type": "execute_result"
    }
   ],
   "source": [
    "# Check the missing records\n",
    "hdds_df[hdds_df.tot_income.isna()].head()\n"
   ]
  },
  {
   "cell_type": "code",
   "execution_count": 27,
   "id": "ddfef19f-0152-41a2-9cd4-c31914141425",
   "metadata": {},
   "outputs": [
    {
     "name": "stderr",
     "output_type": "stream",
     "text": [
      "/var/folders/v2/zgr5gbws4qd_qpb553947v7h0000gn/T/ipykernel_6064/1922682308.py:6: SettingWithCopyWarning: \n",
      "A value is trying to be set on a copy of a slice from a DataFrame.\n",
      "Try using .loc[row_indexer,col_indexer] = value instead\n",
      "\n",
      "See the caveats in the documentation: https://pandas.pydata.org/pandas-docs/stable/user_guide/indexing.html#returning-a-view-versus-a-copy\n",
      "  hdds_df['income_sec_amount'] = hdds_df['income_sec_amount'].fillna(0)\n",
      "/var/folders/v2/zgr5gbws4qd_qpb553947v7h0000gn/T/ipykernel_6064/1922682308.py:9: SettingWithCopyWarning: \n",
      "A value is trying to be set on a copy of a slice from a DataFrame.\n",
      "Try using .loc[row_indexer,col_indexer] = value instead\n",
      "\n",
      "See the caveats in the documentation: https://pandas.pydata.org/pandas-docs/stable/user_guide/indexing.html#returning-a-view-versus-a-copy\n",
      "  hdds_df['tot_income'] = hdds_df['tot_income'].fillna(hdds_df['income_sec_amount'] + hdds_df['income_main_amount'])\n",
      "/var/folders/v2/zgr5gbws4qd_qpb553947v7h0000gn/T/ipykernel_6064/1922682308.py:12: SettingWithCopyWarning: \n",
      "A value is trying to be set on a copy of a slice from a DataFrame\n",
      "\n",
      "See the caveats in the documentation: https://pandas.pydata.org/pandas-docs/stable/user_guide/indexing.html#returning-a-view-versus-a-copy\n",
      "  hdds_df.drop(columns=['income_sec_amount', 'income_main_amount'], inplace=True)\n"
     ]
    },
    {
     "data": {
      "text/plain": [
       "(1414, 44)"
      ]
     },
     "execution_count": 27,
     "metadata": {},
     "output_type": "execute_result"
    }
   ],
   "source": [
    "# Fill NaN in income_sec_amount with zero\n",
    "# Fill NaN in tot_income with the sum of income_sec_amount and income_main_amount\n",
    "# drop income_sec_amount and income_main_amount\n",
    "\n",
    "# Step 1: Fill NaN in income_sec_amount with zero\n",
    "hdds_df['income_sec_amount'] = hdds_df['income_sec_amount'].fillna(0)\n",
    "\n",
    "# Step 2: Fill NaN in tot_income with the sum of income_sec_amount and income_main_amount\n",
    "hdds_df['tot_income'] = hdds_df['tot_income'].fillna(hdds_df['income_sec_amount'] + hdds_df['income_main_amount'])\n",
    "\n",
    "# Step 3: Drop income_sec_amount and income_main_amount\n",
    "hdds_df.drop(columns=['income_sec_amount', 'income_main_amount'], inplace=True)\n",
    "\n",
    "hdds_df.shape"
   ]
  },
  {
   "cell_type": "markdown",
   "id": "4d286cb4-8a27-4499-ae60-42df23bc5a30",
   "metadata": {},
   "source": [
    "### Outlier Analysis"
   ]
  },
  {
   "cell_type": "code",
   "execution_count": 53,
   "id": "52f7cd83-6470-4a04-aaf9-8f4296c3dbff",
   "metadata": {},
   "outputs": [],
   "source": [
    "def outlier_infor_iqr(df: pd.DataFrame, column: str) -> pd.DataFrame:\n",
    "    \"\"\"\n",
    "    Identifies and handles outliers in a specified column of a DataFrame using the Interquartile Range (IQR) method.\n",
    "\n",
    "    This function calculates the IQR for the values in the specified column and identifies outliers\n",
    "    as those values that fall below Q1 - 1.5 * IQR or above Q3 + 1.5 * IQR. It then replaces these\n",
    "    outliers with the median value of the column.\n",
    "\n",
    "    Parameters\n",
    "    ----------\n",
    "    df : pandas.DataFrame\n",
    "        The input DataFrame containing the data.\n",
    "    column : str\n",
    "        The name of the column in which to identify and handle outliers.\n",
    "\n",
    "    Returns\n",
    "    -------\n",
    "    pandas.DataFrame\n",
    "        A new DataFrame with outliers in the specified column replaced by the median value of the column.\n",
    "    \"\"\"\n",
    "\n",
    "    Q1 = df[column].quantile(0.25)\n",
    "    Q3 = df[column].quantile(0.75)\n",
    "    IQR = Q3 - Q1\n",
    "    lower_bound = Q1 - 1.5 * IQR\n",
    "    upper_bound = Q3 + 1.5 * IQR\n",
    "\n",
    "    # Count the number of outlier records\n",
    "    print(\"Outliers records using IQR:\")\n",
    "    print(np.sum((df.loc[:, column] < lower_bound) | (df.loc[:, column] > upper_bound)))\n",
    "\n",
    "    df1 = df.copy()\n",
    "\n",
    "    median = df[column].median()\n",
    "    df1[f\"{column}_clean_iqr\"] = np.where(\n",
    "        (df1[column] > upper_bound) | (df1[column] < lower_bound), median, df1[column]\n",
    "    )\n",
    "    return df1"
   ]
  },
  {
   "cell_type": "code",
   "execution_count": 54,
   "id": "de5b13f8-82e2-4b57-96dd-d2b6975cc4d2",
   "metadata": {},
   "outputs": [
    {
     "data": {
      "image/png": "[encoded data removed]",
      "text/plain": [
       "<Figure size 700x100 with 1 Axes>"
      ]
     },
     "metadata": {},
     "output_type": "display_data"
    }
   ],
   "source": [
    "# Check for outlier\n",
    "# Create a boxplot to visualize distribution of `crp_landsize_ha`\n",
    "\n",
    "plt.figure(figsize=(7,1))\n",
    "sns.boxplot(hdds_df[\"crp_landsize_ha\"], orient=\"h\");\n",
    "plt.title(\"Box plot of cultivated landsize in ha\");"
   ]
  },
  {
   "cell_type": "code",
   "execution_count": 55,
   "id": "ecd130b0-1d40-468e-8631-17228366e53d",
   "metadata": {},
   "outputs": [
    {
     "name": "stdout",
     "output_type": "stream",
     "text": [
      "Outliers records using IQR:\n",
      "90\n"
     ]
    },
    {
     "data": {
      "image/png": "[encoded data removed]",
      "text/plain": [
       "<Figure size 700x100 with 1 Axes>"
      ]
     },
     "metadata": {},
     "output_type": "display_data"
    }
   ],
   "source": [
    "hdds_df_no_outlier = outlier_infor_iqr(hdds_df, \"crp_landsize_ha\")\n",
    "plt.figure(figsize=(7,1))\n",
    "sns.boxplot(hdds_df_no_outlier[\"crp_landsize_ha_clean_iqr\"], orient=\"h\");\n",
    "plt.title(\"Box plot of household size\");"
   ]
  },
  {
   "cell_type": "code",
   "execution_count": 56,
   "id": "b5ce8d97-e55f-423c-864e-cc95aee8530d",
   "metadata": {},
   "outputs": [
    {
     "data": {
      "image/png": "[encoded data removed]",
      "text/plain": [
       "<Figure size 700x100 with 1 Axes>"
      ]
     },
     "metadata": {},
     "output_type": "display_data"
    }
   ],
   "source": [
    "# Create a boxplot to visualize distribution of `hh_size`\n",
    "\n",
    "plt.figure(figsize=(7,1))\n",
    "sns.boxplot(hdds_df_no_outlier[\"hh_size\"], orient=\"h\");\n",
    "plt.title(\"Box plot of household size\");"
   ]
  },
  {
   "cell_type": "code",
   "execution_count": 57,
   "id": "724dd5f6-202a-47bc-a9f3-1d7dbed86831",
   "metadata": {},
   "outputs": [
    {
     "data": {
      "text/plain": [
       "<Axes: xlabel='tot_income'>"
      ]
     },
     "execution_count": 57,
     "metadata": {},
     "output_type": "execute_result"
    },
    {
     "data": {
      "image/png": "[encoded data removed]",
      "text/plain": [
       "<Figure size 700x100 with 1 Axes>"
      ]
     },
     "metadata": {},
     "output_type": "display_data"
    }
   ],
   "source": [
    "# Income\n",
    "plt.figure(figsize=(7,1))\n",
    "sns.boxplot(hdds_df_no_outlier[\"tot_income\"], orient=\"h\")"
   ]
  },
  {
   "cell_type": "code",
   "execution_count": 58,
   "id": "d6e3d35a-36bd-4f20-9769-1ab6582e03b6",
   "metadata": {},
   "outputs": [
    {
     "name": "stdout",
     "output_type": "stream",
     "text": [
      "Outliers records using IQR:\n",
      "66\n"
     ]
    },
    {
     "data": {
      "image/png": "[encoded data removed]",
      "text/plain": [
       "<Figure size 700x100 with 1 Axes>"
      ]
     },
     "metadata": {},
     "output_type": "display_data"
    }
   ],
   "source": [
    "hdds_df_no_outlier = outlier_infor_iqr(hdds_df, \"tot_income\")\n",
    "plt.figure(figsize=(7,1))\n",
    "sns.boxplot(hdds_df_no_outlier[\"tot_income_clean_iqr\"], orient=\"h\");\n",
    "plt.title(\"Box plot of household size\");"
   ]
  },
  {
   "cell_type": "code",
   "execution_count": 59,
   "id": "2c1f2247-cd50-4c05-bd5c-5db9bd7f442a",
   "metadata": {},
   "outputs": [],
   "source": [
    "# Convert Naira to dollar (460.51 )\n",
    "hdds_df_no_outlier.loc[:, \"tot_income_dollar\"] = hdds_df_no_outlier[\"tot_income_clean_iqr\"].div(460.51) "
   ]
  },
  {
   "cell_type": "markdown",
   "id": "c8bc4d47-baf1-4c1a-93b2-5f8ce37fcb97",
   "metadata": {},
   "source": [
    "### Data Preparation"
   ]
  },
  {
   "cell_type": "code",
   "execution_count": 60,
   "id": "7e9273fa-15d4-4b2f-b319-718bc3c5a0f3",
   "metadata": {},
   "outputs": [],
   "source": [
    "# df.info()"
   ]
  },
  {
   "cell_type": "code",
   "execution_count": 61,
   "id": "2cd3e846-cdde-48fb-8da1-e6582539e868",
   "metadata": {},
   "outputs": [
    {
     "data": {
      "text/plain": [
       "(1414, 46)"
      ]
     },
     "execution_count": 61,
     "metadata": {},
     "output_type": "execute_result"
    }
   ],
   "source": [
    "hdds_df_no_outlier.shape"
   ]
  },
  {
   "cell_type": "markdown",
   "id": "8c1db86d-1c97-4713-975f-02754eb88060",
   "metadata": {},
   "source": [
    " Check the balance of the dependent variable"
   ]
  },
  {
   "cell_type": "code",
   "execution_count": 62,
   "id": "516dd2e9-984a-4462-a69c-7a1d86adf650",
   "metadata": {},
   "outputs": [
    {
     "data": {
      "text/plain": [
       "hdds_class\n",
       "High      0.730552\n",
       "Medium    0.208628\n",
       "Low       0.060820\n",
       "Name: proportion, dtype: float64"
      ]
     },
     "execution_count": 62,
     "metadata": {},
     "output_type": "execute_result"
    }
   ],
   "source": [
    "hdds_df_no_outlier[\"hdds_class\"].value_counts(normalize=True)"
   ]
  },
  {
   "cell_type": "markdown",
   "id": "a44e8055-f840-4e77-b580-175abe1d894e",
   "metadata": {},
   "source": [
    "Quick inspection of the some of the new variables"
   ]
  },
  {
   "cell_type": "markdown",
   "id": "8a9dd666-9a85-486c-a14b-5b65cbcb40c8",
   "metadata": {},
   "source": [
    "## Model Building"
   ]
  },
  {
   "cell_type": "code",
   "execution_count": 63,
   "id": "f8f70038-0d7e-4c5b-9376-96a316e419ad",
   "metadata": {},
   "outputs": [],
   "source": [
    "\n",
    "hdds_df_no_outlier.to_csv(\"../../data/DIEM_NG/hdds_round4_data.csv\", index=False)"
   ]
  },
  {
   "cell_type": "code",
   "execution_count": 64,
   "id": "5157a9f0-78f9-4efd-b88d-0deaf304973e",
   "metadata": {},
   "outputs": [
    {
     "data": {
      "text/plain": [
       "(1414, 46)"
      ]
     },
     "execution_count": 64,
     "metadata": {},
     "output_type": "execute_result"
    }
   ],
   "source": [
    "hdds_df_no_outlier.shape"
   ]
  },
  {
   "cell_type": "code",
   "execution_count": 65,
   "id": "d137ed38-589f-486c-9290-c659d7007ab3",
   "metadata": {},
   "outputs": [
    {
     "data": {
      "text/plain": [
       "state\n",
       "Borno      290\n",
       "Zamfara    286\n",
       "Adamawa    283\n",
       "Katsina    282\n",
       "Yobe       273\n",
       "Name: count, dtype: int64"
      ]
     },
     "execution_count": 65,
     "metadata": {},
     "output_type": "execute_result"
    }
   ],
   "source": [
    "hdds_df_no_outlier.state.value_counts()"
   ]
  },
  {
   "cell_type": "code",
   "execution_count": null,
   "id": "704df850-6594-4fbd-b785-908a1282bd44",
   "metadata": {},
   "outputs": [],
   "source": []
  }
 ],
 "metadata": {
  "kernelspec": {
   "display_name": "Python 3 (ipykernel)",
   "language": "python",
   "name": "python3"
  },
  "language_info": {
   "codemirror_mode": {
    "name": "ipython",
    "version": 3
   },
   "file_extension": ".py",
   "mimetype": "text/x-python",
   "name": "python",
   "nbconvert_exporter": "python",
   "pygments_lexer": "ipython3",
   "version": "3.12.2"
  }
 },
 "nbformat": 4,
 "nbformat_minor": 5
}
