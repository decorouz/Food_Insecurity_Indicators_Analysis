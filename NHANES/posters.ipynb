{
 "cells": [
  {
   "cell_type": "markdown",
   "id": "a0be47b4-3041-4c8d-bf30-4f4280fe1200",
   "metadata": {},
   "source": [
    "# Investigating the Impact of Dietary Patterns (HEI-2020) on Cardiovascular disease CVD Risk Factors in Racial/Ethnic Minorities and Socioeconomically Disadvantaged Populations Using NHANES 2021–2023\n",
    "\n",
    "## Background and Rationale\n",
    "\n",
    "**Context**: Cardiovascular disease (CVD) remains a leading cause of mortality globally, disproportionately\n",
    "affecting racial/ethnic minorities and socioeconomically disadvantaged populations. Dietary patterns,\n",
    "measured by the Healthy Eating Index 2020 (HEI-2020), are critical determinants of CVD risk.\n",
    "\n",
    "**Objective**: To evaluate the relationship between HEI-2020 scores and CVD risk factors among\n",
    "racial/ethnic minorities and low-income groups using NHANES 2021–2023 data.\n",
    "\n",
    "\n",
    "## Population Selection:\n",
    "* Include participants aged ≥18 years.\n",
    "* Define racial/ethnic minorities as non-Hispanic Black, Hispanic, and Asian participants.\n",
    "* Define socioeconomic disadvantage using the poverty income ratio (PIR) &lt;1.3.\n",
    "* Exclude individuals with incomplete data on dietary intake or CVD risk factors.\n",
    "\n",
    "\n",
    "## Dietary Assessment:\n",
    "* Calculate HEI-2020 scores using 24-hour dietary recall data.\n",
    "* Categorize HEI-2020 scores into quartiles for comparison.\n",
    "\n",
    "\n",
    "## CVD Risk Factors:\n",
    "* Assess systolic/diastolic blood pressure, total cholesterol, HDL, LDL, triglycerides, and fasting\n",
    "glucose.\n",
    "* Include obesity metrics (BMI, waist circumference).\n",
    "\n",
    "## Covariates:\n",
    "* Adjust for age, gender, acculturation, smoking status, physical activity, and comorbidities (e.g.,\n",
    "diabetes).\n",
    "\n",
    "## Data Analysis Plan\n",
    "Descriptive Statistics:\n",
    "* Summarize participant characteristics (age, gender, race/ethnicity, PIR) by HEI-2020 quartiles.\n",
    "* Report means (±SD) for continuous variables and percentages for categorical variables.\n",
    "\n",
    "## Bivariate Analysis:\n",
    "* Compare CVD risk factors across HEI-2020 quartiles using ANOVA or chi-square tests.\n",
    "\n",
    "## Multivariate Analysis:\n",
    "Primary Model: Linear regression to assess the association between HEI-2020 scores and\n",
    "continuous CVD risk factors (e.g., blood pressure, cholesterol).\n",
    "* Secondary Model: Logistic regression for binary outcomes (e.g., hypertension, dyslipidemia).\n",
    "* Include interaction terms to test for effect modification by race/ethnicity and socioeconomic\n",
    "status.\n",
    "\n",
    "## Sensitivity Analysis:\n",
    "* Stratify analyses by racial/ethnic group and socioeconomic status.\n",
    "* Exclude participants with self-reported heart disease to test robustness."
   ]
  },
  {
   "cell_type": "markdown",
   "id": "20ff6289-dbb8-47e1-a95b-0c6d3187a883",
   "metadata": {},
   "source": [
    "## Data Preprocessing\n",
    "\n",
    "We used data from the National Health and Nutrition Examination Survey (NHANES) cycles 1999–2000 through 2010–2012.\n",
    "\n",
    "_.. National Center for Health Statistics. About the National Health and Nutrition Examination Survey. http://www.cdc.gov/nchs/nhanes/about_nhanes.htm. Accessed January 2025._\n",
    "\n",
    "Data from the US Department of Agriculture Food Patterns Equivalents Database were obtained to translate NHANES 24-\n",
    "hour dietary recall data into equivalent servings of the major food groups according to the Healthy Eating Index (HEI) 2010 [2](https://github.com/jamesjiadazhan/dietaryindex)."
   ]
  },
  {
   "cell_type": "code",
   "execution_count": null,
   "id": "21fc8575-41c5-4305-8be3-682036824d29",
   "metadata": {},
   "outputs": [],
   "source": []
  },
  {
   "cell_type": "code",
   "execution_count": 3,
   "id": "723d807d-d957-4ad6-9beb-721a183dac41",
   "metadata": {},
   "outputs": [],
   "source": [
    "import pandas as pd\n",
    "import numpy as np\n",
    "import matplotlib.pyplot as plt"
   ]
  },
  {
   "cell_type": "code",
   "execution_count": 5,
   "id": "fb7fb4c0-3657-4cd2-a539-8f2946f74ea3",
   "metadata": {},
   "outputs": [
    {
     "name": "stdout",
     "output_type": "stream",
     "text": [
      "\u001b[1m\u001b[36mdata\u001b[m\u001b[m          posters.ipynb\n"
     ]
    }
   ],
   "source": [
    "!ls"
   ]
  },
  {
   "cell_type": "code",
   "execution_count": 6,
   "id": "9c3a7551-032a-42fe-bc4b-fc08eca0799e",
   "metadata": {},
   "outputs": [],
   "source": [
    "# Load the data\n",
    "from pathlib import Path\n",
    "import zipfile\n",
    "\n",
    "# Define paths using pathlib\n",
    "archive_data = Path(\"data/archive\")\n",
    "zip_file_path = Path(\"data/nhanes_data.zip\")\n",
    "\n",
    "try:\n",
    "    archive_data.mkdir(parents=True, exist_ok=True)\n",
    "\n",
    "    if not zip_file_path.exists():\n",
    "        raise FileNotFoundError(f\"Zip file not found: {zip_file_path}\")\n",
    "\n",
    "    with zipfile.ZipFile(zip_file_path, 'r') as zip_ref:\n",
    "        zip_ref.extractall(archive_data)\n",
    "except FileNotFoundError as e:\n",
    "    print(e)"
   ]
  },
  {
   "cell_type": "code",
   "execution_count": 10,
   "id": "9fcdf0ea-837c-4eae-903a-f288f53b2cd1",
   "metadata": {},
   "outputs": [],
   "source": [
    "# demographic variables\n",
    "demo_df = pd.read_sas(\"data/archive/DEMO_L.xpt\", format=\"xport\")"
   ]
  },
  {
   "cell_type": "code",
   "execution_count": 13,
   "id": "33ed1b97-5931-42c2-b5b1-4010f5b4f7ad",
   "metadata": {},
   "outputs": [],
   "source": [
    "# Plasma fasting glucose\n",
    "glu_df = pd.read_sas(\"data/archive/GLU_L.xpt\", format=\"xport\")"
   ]
  },
  {
   "cell_type": "code",
   "execution_count": 14,
   "id": "b83a8146-8f50-4e26-ba01-80e368653cdf",
   "metadata": {},
   "outputs": [],
   "source": [
    "# High density lipid project (HDL)\n",
    "hdl_df = pd.read_sas(\"data/archive/GLU_L.xpt\", format=\"xport\")"
   ]
  },
  {
   "cell_type": "code",
   "execution_count": 15,
   "id": "64acde65-2d96-4987-96ca-2c11bbd0e5f9",
   "metadata": {},
   "outputs": [],
   "source": [
    "# Insuline\n",
    "ins_df = pd.read_sas(\"data/archive/INS_L.xpt\", format=\"xport\")"
   ]
  },
  {
   "cell_type": "code",
   "execution_count": 16,
   "id": "f3031ab3-1fe9-4bbf-9c8f-ac9d74bd66e8",
   "metadata": {},
   "outputs": [],
   "source": [
    "# Dietary interview\n",
    "dr1iff_df = pd.read_sas(\"data/archive/DR1IFF_L.xpt\", format=\"xport\")"
   ]
  },
  {
   "cell_type": "code",
   "execution_count": null,
   "id": "5386c228-8dba-4143-98df-f906aa43bf4c",
   "metadata": {},
   "outputs": [],
   "source": [
    "\n",
    "## Exploratory Data Analysis\n",
    "\n",
    "## Feature Engineering\n",
    "# https://github.com/jamesjiadazhan/dietaryindex\n",
    "\n",
    "# https://github.com/abhrastat/heiscore\n",
    "\n",
    "## Modeling and Inference\n",
    "\n",
    "## Communicate Result"
   ]
  }
 ],
 "metadata": {
  "kernelspec": {
   "display_name": "Python 3 (ipykernel)",
   "language": "python",
   "name": "python3"
  },
  "language_info": {
   "codemirror_mode": {
    "name": "ipython",
    "version": 3
   },
   "file_extension": ".py",
   "mimetype": "text/x-python",
   "name": "python",
   "nbconvert_exporter": "python",
   "pygments_lexer": "ipython3",
   "version": "3.12.2"
  }
 },
 "nbformat": 4,
 "nbformat_minor": 5
}
