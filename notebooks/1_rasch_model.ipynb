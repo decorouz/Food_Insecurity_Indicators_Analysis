{
 "cells": [
  {
   "cell_type": "markdown",
   "metadata": {},
   "source": [
    "# Using FIES data to calculate food insecurity prevalence rates\n",
    "\n",
    "This notebook presents the validation of Food Insecurity Experience Scale (FIES) data using the Rasch model and to calculate an estimate of the prevalence of food insecurity in the population."
   ]
  },
  {
   "cell_type": "markdown",
   "metadata": {},
   "source": [
    "## FIES analysis methodology (Rasch Model)\n",
    "Item Response Theory (IRT) is a methodology used to analyse responses to survey or test questions.\n",
    "The Rasch model is one of several models in IRT and is applied for the analysis of FIES data. Item response theory aims to improve the measurement accuracy and reliability of surveys and tests through analysis of response data. The item response theory (IRT) measurement model known as the `Rasch` model provides a theoretical base and a set of statistical tools to:\n",
    "\n",
    "* assess the suitability of a set of survey items for scale construction\n",
    "* create a scale from the items, and compare performance of a scale in various populations and survey contexts.\n",
    "\n",
    "The Rasch model is expressed mathematically as :\n",
    "\n",
    "\n",
    "$$Prob(x_{h,i} = 1|θ_h, β_i) =  \\frac {e^{θ_h - β_i}}{1 + e^{θ_h - β_i}}$$\n",
    "\n",
    "_where $x_{ℎ,𝑖}$ is the response given by respondent *h* to item *i*, coded as 1 for “yes” and 0 for “no”.\n",
    "The relative severity associated with each of the experiences (the parameters $β_i$\n",
    "in the formula above) can be inferred from the frequency with which they are reported by a large sample of respondents,  assuming that, all else being equal, more severe experiences are reported by fewer respondents. \n",
    "Once the severity of each experience is estimated, the severity of a respondent’s condition (the 𝜃ℎ parameter) can be computed by noting how many of the items have been affirmed._\n",
    "\n",
    "### Assumptions of the Rasch model\n",
    "The Rasch model is based upon four key assumptions:\n",
    "* Only one dimension is represented by the response data. For the FIES, this is the access dimension\n",
    "of food security\n",
    "* An individual’s responses to the eight FIES items are correlated with each other only because they are all conditioned by the severity of food insecurity of that individual.\n",
    "* The greater the severity of food insecurity experienced by a respondent, the higher the likelihood that he or she will respond affirmatively to each item\n",
    "* All items are equally strongly related to the latent trait of food insecurity and differ only in severity. ie All items discriminate equally\n"
   ]
  },
  {
   "cell_type": "markdown",
   "metadata": {},
   "source": [
    "### Import Libraries and Load the data"
   ]
  },
  {
   "cell_type": "code",
   "execution_count": 1,
   "metadata": {},
   "outputs": [],
   "source": [
    "import rpy2\n",
    "import pandas as pd\n",
    "import numpy as np"
   ]
  },
  {
   "cell_type": "code",
   "execution_count": 2,
   "metadata": {},
   "outputs": [],
   "source": [
    "from rpy2.robjects.packages import importr\n",
    "from rpy2.robjects import pandas2ri\n",
    "import rpy2.robjects as ro\n",
    "\n",
    "%load_ext rpy2.ipython\n",
    "\n",
    "utils = importr('utils')\n",
    "# utils.install_packages('anthro')\n",
    "# utils.install_packages('RM.weights')\n",
    "pandas2ri.activate()"
   ]
  },
  {
   "cell_type": "code",
   "execution_count": 3,
   "metadata": {},
   "outputs": [
    {
     "name": "stdout",
     "output_type": "stream",
     "text": [
      "── Attaching packages ─────────────────────────────────────── tidyverse 1.3.2 ──\n",
      "✔ ggplot2 3.4.0     ✔ purrr   1.0.1\n",
      "✔ tibble  3.2.1     ✔ dplyr   1.1.2\n",
      "✔ tidyr   1.3.0     ✔ stringr 1.5.0\n",
      "✔ readr   2.1.3     ✔ forcats 0.5.2\n",
      "── Conflicts ────────────────────────────────────────── tidyverse_conflicts() ──\n",
      "✖ dplyr::filter() masks stats::filter()\n",
      "✖ dplyr::lag()    masks stats::lag()\n"
     ]
    },
    {
     "data": {
      "text/plain": [
       "Loading required package: CDM\n",
       "Loading required package: mvtnorm\n",
       "**********************************\n",
       "** CDM 8.2-6 (2022-08-25 15:43:23)       \n",
       "** Cognitive Diagnostic Models  **\n",
       "**********************************\n",
       "\n",
       "* TAM 4.1-4 (2022-08-28 16:03:54)\n",
       "Loading required package: RM.weights\n",
       "Loading required package: psychotools\n",
       "Loading required package: Hmisc\n",
       "\n",
       "Attaching package: ‘Hmisc’\n",
       "\n",
       "The following objects are masked from ‘package:dplyr’:\n",
       "\n",
       "    src, summarize\n",
       "\n",
       "The following objects are masked from ‘package:base’:\n",
       "\n",
       "    format.pval, units\n",
       "\n"
      ]
     },
     "metadata": {},
     "output_type": "display_data"
    }
   ],
   "source": [
    "%%R\n",
    "library(tidyverse)\n",
    "library(TAM)\n",
    "library(WrightMap)\n",
    "if(!require('RM.weights')) {\n",
    "  install.packages('RM.weights')\n",
    "  library('RM.weights')\n",
    "}"
   ]
  },
  {
   "cell_type": "markdown",
   "metadata": {},
   "source": [
    "### Preparing the data for analysis\n",
    "\n",
    "Based on standard procedure following the FIES data analysis methodology, extreme raw scores (0 and 8) will be excluded to avoid potential bias resulting from large proportions of these raw scores. For more information checkout the VOH document [page 11-12 ](http://www.fao.org/3/a-i4830e.pdf)"
   ]
  },
  {
   "cell_type": "code",
   "execution_count": 6,
   "metadata": {},
   "outputs": [
    {
     "name": "stdout",
     "output_type": "stream",
     "text": [
      "Before removing extreme values (3438, 158)\n",
      "After removing extreme values (3438, 158)\n"
     ]
    },
    {
     "data": {
      "text/html": [
       "<div>\n",
       "<style scoped>\n",
       "    .dataframe tbody tr th:only-of-type {\n",
       "        vertical-align: middle;\n",
       "    }\n",
       "\n",
       "    .dataframe tbody tr th {\n",
       "        vertical-align: top;\n",
       "    }\n",
       "\n",
       "    .dataframe thead th {\n",
       "        text-align: right;\n",
       "    }\n",
       "</style>\n",
       "<table border=\"1\" class=\"dataframe\">\n",
       "  <thead>\n",
       "    <tr style=\"text-align: right;\">\n",
       "      <th></th>\n",
       "      <th>Worried</th>\n",
       "      <th>Healthy</th>\n",
       "      <th>Fewfood</th>\n",
       "      <th>Skipped</th>\n",
       "      <th>Ateless</th>\n",
       "      <th>Runout</th>\n",
       "      <th>Hungry</th>\n",
       "      <th>Whlday</th>\n",
       "      <th>wt</th>\n",
       "      <th>wt.person</th>\n",
       "      <th>Urban</th>\n",
       "      <th>Region</th>\n",
       "    </tr>\n",
       "  </thead>\n",
       "  <tbody>\n",
       "    <tr>\n",
       "      <th>0</th>\n",
       "      <td>1</td>\n",
       "      <td>1</td>\n",
       "      <td>1</td>\n",
       "      <td>1</td>\n",
       "      <td>1</td>\n",
       "      <td>1</td>\n",
       "      <td>1</td>\n",
       "      <td>1</td>\n",
       "      <td>0.198500</td>\n",
       "      <td>NaN</td>\n",
       "      <td>1</td>\n",
       "      <td>Zamfara</td>\n",
       "    </tr>\n",
       "    <tr>\n",
       "      <th>1</th>\n",
       "      <td>1</td>\n",
       "      <td>1</td>\n",
       "      <td>1</td>\n",
       "      <td>1</td>\n",
       "      <td>1</td>\n",
       "      <td>1</td>\n",
       "      <td>1</td>\n",
       "      <td>1</td>\n",
       "      <td>0.187787</td>\n",
       "      <td>NaN</td>\n",
       "      <td>1</td>\n",
       "      <td>Zamfara</td>\n",
       "    </tr>\n",
       "    <tr>\n",
       "      <th>2</th>\n",
       "      <td>1</td>\n",
       "      <td>1</td>\n",
       "      <td>1</td>\n",
       "      <td>1</td>\n",
       "      <td>1</td>\n",
       "      <td>1</td>\n",
       "      <td>1</td>\n",
       "      <td>1</td>\n",
       "      <td>0.187787</td>\n",
       "      <td>NaN</td>\n",
       "      <td>1</td>\n",
       "      <td>Zamfara</td>\n",
       "    </tr>\n",
       "    <tr>\n",
       "      <th>3</th>\n",
       "      <td>1</td>\n",
       "      <td>1</td>\n",
       "      <td>1</td>\n",
       "      <td>1</td>\n",
       "      <td>1</td>\n",
       "      <td>1</td>\n",
       "      <td>1</td>\n",
       "      <td>1</td>\n",
       "      <td>0.198500</td>\n",
       "      <td>NaN</td>\n",
       "      <td>1</td>\n",
       "      <td>Zamfara</td>\n",
       "    </tr>\n",
       "    <tr>\n",
       "      <th>4</th>\n",
       "      <td>1</td>\n",
       "      <td>1</td>\n",
       "      <td>1</td>\n",
       "      <td>1</td>\n",
       "      <td>1</td>\n",
       "      <td>1</td>\n",
       "      <td>1</td>\n",
       "      <td>0</td>\n",
       "      <td>0.198500</td>\n",
       "      <td>NaN</td>\n",
       "      <td>1</td>\n",
       "      <td>Zamfara</td>\n",
       "    </tr>\n",
       "  </tbody>\n",
       "</table>\n",
       "</div>"
      ],
      "text/plain": [
       "   Worried  Healthy  Fewfood  Skipped  Ateless  Runout  Hungry  Whlday  \\\n",
       "0        1        1        1        1        1       1       1       1   \n",
       "1        1        1        1        1        1       1       1       1   \n",
       "2        1        1        1        1        1       1       1       1   \n",
       "3        1        1        1        1        1       1       1       1   \n",
       "4        1        1        1        1        1       1       1       0   \n",
       "\n",
       "         wt  wt.person  Urban   Region  \n",
       "0  0.198500        NaN      1  Zamfara  \n",
       "1  0.187787        NaN      1  Zamfara  \n",
       "2  0.187787        NaN      1  Zamfara  \n",
       "3  0.198500        NaN      1  Zamfara  \n",
       "4  0.198500        NaN      1  Zamfara  "
      ]
     },
     "execution_count": 6,
     "metadata": {},
     "output_type": "execute_result"
    }
   ],
   "source": [
    "# Data Preparation for VOH app\n",
    "df = pd.read_csv(\"../data/fao_round6_ng_clean_data.csv\")\n",
    "print(\"Before removing extreme values\", df.shape)\n",
    "\n",
    "# Drop extreme values of 0 and 8 as standard procedure\n",
    "# df = df[~df.fies_rawscore.isin([0,8.0])].reset_index(drop=True)\n",
    "print(\"After removing extreme values\", df.shape)\n",
    "fies_cols = [col for col in df.columns if col.startswith(\"fies_\")]\n",
    "\n",
    "fies_rasch = df[fies_cols].drop(columns=\"fies_rawscore\").rename(columns={\n",
    "    \"fies_worried\": \"Worried\",\n",
    "    \"fies_healthy\": \"Healthy\",\n",
    "    \"fies_fewfoods\": \"Fewfood\",\n",
    "    \"fies_skipped\": \"Skipped\",\n",
    "    \"fies_ateless\": \"Ateless\",\n",
    "    \"fies_ranout\": \"Runout\",\n",
    "    \"fies_hungry\": \"Hungry\",\n",
    "    \"fies_whlday\": \"Whlday\" \n",
    "}).astype(int)\n",
    "\n",
    "fies_rasch = pd.concat([fies_rasch, df[[\"weight_final\"]]], axis=1)\n",
    "fies_rasch = fies_rasch.rename(columns={\"weight_final\": \"wt\"})\n",
    "fies_rasch[\"wt.person\"] = np.nan\n",
    "fies_rasch[\"Urban\"] = 1\n",
    "fies_rasch[\"Region\"] = df[\"state\"]\n",
    "\n",
    "\n",
    "\n",
    "# \n",
    "fies_rasch.to_csv(\"../data/fies_rasch.csv\", index=False)\n",
    "fies_rasch.head()"
   ]
  },
  {
   "cell_type": "code",
   "execution_count": 7,
   "metadata": {},
   "outputs": [
    {
     "name": "stdout",
     "output_type": "stream",
     "text": [
      "Rows: 3438 Columns: 158\n",
      "── Column specification ────────────────────────────────────────────────────────\n",
      "Delimiter: \",\"\n",
      "chr  (19): country, state, local_govt_area, hh_agricactivity, hh_gender, hh_...\n",
      "dbl (139): hh_size, hh_maritalstat, weight_final, income_main, income_main_c...\n",
      "\n",
      "ℹ Use `spec()` to retrieve the full column specification for this data.\n",
      "ℹ Specify the column types or set `show_col_types = FALSE` to quiet this message.\n",
      "[1] 3438   10\n"
     ]
    }
   ],
   "source": [
    "%%R\n",
    "\n",
    "# Define the data file path\n",
    "file_path <- \"../data/fao_round6_ng_clean_data.csv\"\n",
    "\n",
    "# Read the CSV file while selecting columns using the regex pattern\n",
    "fies.ng <- read_csv(file_path)\n",
    "\n",
    "fies.ng <- fies.ng %>%\n",
    "  select(matches(\"^(weight|fies)\"))\n",
    "\n",
    "# Convert the values to integers\n",
    "# df <- as.data.frame(lapply(df, as.integer))\n",
    "\n",
    "# # Drop values with extreme scores \n",
    "# fies.ng <- subset(fies.ng, !(fies_rawscore %in% c(0.0, 8.0)))\n",
    "\n",
    "# dim(df)\n",
    "# head(fies.ng)\n",
    "# write.csv(fies.ng, \"../data/fies_rasch_analysis.csv\", row.names = FALSE)\n",
    "dim(fies.ng)"
   ]
  },
  {
   "cell_type": "markdown",
   "metadata": {},
   "source": [
    "## FIES data analysis\n",
    "\n",
    "We used the Voices of the Hungry project’s FIES app (a free and simple analytical tool for analyzing FIES data) and Voices of the Hungry (VOH) project provides a free analytical tool `RM.weight` ([RM.weight](https://cran.r-project.org/web/packages/RM.weights/index.html)) to facilitate the Rasch analysis of FIES and produce the respondent and item parameter estimates. To facilitate the **equating** process to produce comparable estimates of the prevalence of food insecurity, we use the [Excel template](https://www.fao.org/fileadmin/user_upload/voices_of_the_hungry/docs/EPE_Example_05.xlsx) provided by the FAO.\n",
    "\n",
    "The package (RM.weight) produces estimates of item severity parameters by maximizing the likelihood function conditional on the raw score, and using, in the estimating process, only cases with non-extreme response patterns (that is, with raw score between 1 and 7).\n",
    "\n",
    "\n",
    "\n",
    "\n",
    "The analysis of FIES data involves:\n",
    "\n",
    "1. **Parameter estimation**: To calculate the level of food insecurity severity associated with each\n",
    "question and each respondent\n",
    "2. **Statistical validation**:  To assess whether, depending on the quality of the data collected, the\n",
    "measure is valid, (i.e. the data are consistent with the theoretical assumptions that inform the\n",
    "model).\n",
    "3. **Calculation of food insecurity prevalence estimates**: To calculate a measure of severity of the\n",
    "food insecurity condition experienced by each respondent, based on their answers to the eight FIES\n",
    "questions. This is then used to estimate the prevalence of food insecurity at moderate and/or severe levels in the population.\n",
    "\n",
    "Asides `RM.weight`, we shall estimate the item and respondent parameters with Voices of the Hungry Project FIES [app](https://fies.shinyapps.io/ExtendedApp/)."
   ]
  },
  {
   "cell_type": "markdown",
   "metadata": {},
   "source": [
    "### 1. Parameter Estimation"
   ]
  },
  {
   "cell_type": "code",
   "execution_count": 8,
   "metadata": {},
   "outputs": [
    {
     "name": "stdout",
     "output_type": "stream",
     "text": [
      "# A tibble: 6 × 8\n",
      "  fies_worried fies_healthy fies_fewfoods fies_skipped fies_ateless fies_ranout\n",
      "         <dbl>        <dbl>         <dbl>        <dbl>        <dbl>       <dbl>\n",
      "1            1            1             1            1            1           1\n",
      "2            1            1             1            1            1           1\n",
      "3            1            1             1            1            1           1\n",
      "4            1            1             1            1            1           1\n",
      "5            1            1             1            1            1           1\n",
      "6            1            1             1            1            1           1\n",
      "# ℹ 2 more variables: fies_hungry <dbl>, fies_whlday <dbl>\n"
     ]
    }
   ],
   "source": [
    "%%R\n",
    "# Questionare data and weights\n",
    "xx.nigeria <- fies.ng[, 2:9]\n",
    "wt.nigeria <- fies.ng$weight_final\n",
    "\n",
    "# # Fit weight Rasch model\n",
    "rr.nigeria <- RM.w(xx.nigeria, wt.nigeria)\n",
    "\n",
    "# # Fit unweighted Rasch\n",
    "rr.nigeria.nw <- RM.w(xx.nigeria)\n",
    "\n",
    "dim(fies.ng)\n",
    "head(xx.nigeria)"
   ]
  },
  {
   "cell_type": "markdown",
   "metadata": {},
   "source": [
    "#### **Item Parameters**\n",
    "\n",
    "The **item parameter** is estimated based on the overall **pattern of responses** given by all\n",
    "respondents. \n",
    "\n",
    "A question representing a **less severe experience will have a smaller parameter** value,\n",
    "whereas a question representing a **more severe** experience will have a **larger parameter** value.\n",
    "The **relative severity** of the items is determined based upon the understanding that the **more severe** an item is, the **less likely** respondents are to report it. \n",
    "\n"
   ]
  },
  {
   "cell_type": "code",
   "execution_count": 32,
   "metadata": {
    "scrolled": true
   },
   "outputs": [
    {
     "name": "stdout",
     "output_type": "stream",
     "text": [
      "           Item Item.Severity Stardard.Error     Infit Std.error.Infit\n",
      "1  fies_worried     -1.633130     0.08154181 0.8748814      0.04899975\n",
      "2  fies_healthy     -2.510971     0.09719270 1.3889476      0.06002653\n",
      "3 fies_fewfoods     -2.087817     0.08887238 0.9467257      0.05436077\n",
      "4  fies_skipped     -1.008472     0.07371808 0.7738081      0.04401447\n",
      "5  fies_ateless     -1.825444     0.08446555 0.8663274      0.05115488\n",
      "6   fies_ranout      2.556939     0.06123121 1.0570466      0.03530361\n",
      "7   fies_hungry      1.715666     0.05879363 0.9799068      0.03457424\n",
      "8   fies_whlday      4.793094     0.10166417 0.9800179      0.08173899\n",
      "     Outfit\n",
      "1 1.2618637\n",
      "2 3.1040358\n",
      "3 2.4688484\n",
      "4 0.6908875\n",
      "5 1.4249302\n",
      "6 1.2119176\n",
      "7 1.2001174\n",
      "8 3.4847764\n"
     ]
    }
   ],
   "source": [
    "%%R\n",
    "parameter_estimate <- tibble::rownames_to_column(\n",
    "  data.frame(\n",
    "    \"Item Severity\" = rr.nigeria$b,       # Item severity estimate\n",
    "    \"Stardard Error\" = rr.nigeria$se.b,   # Item standard error\n",
    "    \"Infit\" = rr.nigeria$infit,            # Infit\n",
    "    \"Std error Infit\" = rr.nigeria$se.infit,     # standard error infit\n",
    "    \"Outfit\" = rr.nigeria$outfit\n",
    "  ),\n",
    "  var = \"Item\"\n",
    ")\n",
    "\n",
    "write.csv(parameter_estimate, \"../data/fies_item_statistics.csv\")\n",
    "\n",
    "print(parameter_estimate)\n",
    "\n"
   ]
  },
  {
   "attachments": {},
   "cell_type": "markdown",
   "metadata": {},
   "source": [
    "\n",
    "<center>\n",
    "<img src=\"../assets/item_statistic.png\" width=\"500\" />\n",
    "<figcaption style=\"font-size: 10px; font-style: italic;\">Fig. 1: Estimated Item parameter  and errors using the Rasch model; created using the Voices of the Hungry project’s FIES app(https://fies.shinyapps.io/ExtendedApp/)</figcaption>\n",
    "</center>\n",
    "\n",
    "\n",
    "* `N_Yes_Compl`: refers to the number of affirmative response to this item among those whom have answered either YES or NO to each of the eight items.\n",
    "\n",
    "**Observations**\n",
    "\n",
    "**The higher the severity of an item, the more severe the experience is**. The item `fies_whlday` (eating anything for a whole day because of a lack of money or other resources) has the highest item severity, representing therefore the most severe experience \n",
    "\n",
    "* There was a range of −2.51 to 4.79 (7.3 logits) in FIES item severity parameters\n",
    "* The item `fies_whlday` has the highest parameter (4.79 logits) with the lowest affirmative response (21%), whereas the item `fies_healthy` had the lowest parameter (−2.51) and was more likely to obtain an affirmative response (92.2%).\n",
    "* `fies_whlday` has the highest severity, meaning, of all the items, it received the fewest number of \"YES\" response."
   ]
  },
  {
   "cell_type": "markdown",
   "metadata": {},
   "source": [
    "#### **Respondent/Raw score parameters**\n",
    "\n",
    "A respondent's raw score is the basis for calculating the respondent parameter.\n",
    "No matter how many respondents are included in a sample, there will always be up to nine distinct\n",
    "values of respondent parameters, one for each possible raw score (0-8)\n",
    "\n",
    "**Respondent parameters** allow us to more precisely evaluate the relative differences in food\n",
    "insecurity severity along the scale, between the respondents with each raw score."
   ]
  },
  {
   "cell_type": "code",
   "execution_count": 33,
   "metadata": {},
   "outputs": [
    {
     "name": "stdout",
     "output_type": "stream",
     "text": [
      "  Item Respondent.Severity Stardard.Error Weighted.Class\n",
      "1    1          -4.1100157      1.5008040      109.87656\n",
      "2    2          -3.2869954      1.1355454       96.97880\n",
      "3    3          -2.2684472      0.9294112       94.55714\n",
      "4    4          -1.4397560      0.9122029      145.76993\n",
      "5    5          -0.5323888      1.0121570      285.84382\n",
      "6    6           0.6930952      1.1953997      704.84955\n",
      "7    7           2.2000194      1.2496606      847.99920\n",
      "8    8           3.9762050      1.4553795      560.90324\n",
      "9    9           5.2347520      1.5008040      593.50025\n"
     ]
    }
   ],
   "source": [
    "%%R\n",
    "respondent_param_estimate <- tibble::rownames_to_column(\n",
    "  data.frame(\n",
    "    \"Respondent Severity\" = rr.nigeria$a,       # Respondent severity for each raw score\n",
    "    \"Stardard Error\" = rr.nigeria$se.a,    # Respondent measurement error for each raw score\n",
    "    \"Weighted Class\" = rr.nigeria$wt.rs \n",
    "  ),\n",
    "  var = \"Item\"\n",
    ")\n",
    "write.csv(respondent_param_estimate, \"../data/respondent_params_statistics.csv\", )\n",
    "respondent_param_estimate"
   ]
  },
  {
   "cell_type": "markdown",
   "metadata": {},
   "source": [
    "\n",
    "<center>\n",
    "<img src=\"../assets/respondent_estimate.png\" width=\"500\" />\n",
    "    <figcaption style=\"font-size: 10px; font-style: italic;\">Fig. 2: Estimated Respondent parameter  and errors using the Rasch model; created using the Voices of the Hungry project’s FIES app(https://fies.shinyapps.io/ExtendedApp/)</figcaption>\n",
    "</center>\n"
   ]
  },
  {
   "cell_type": "code",
   "execution_count": 37,
   "metadata": {},
   "outputs": [
    {
     "name": "stdout",
     "output_type": "stream",
     "text": [
      "[1] 109.88  96.98  94.56 145.77 285.84 704.85 848.00 560.90 593.50\n",
      "[1]  3  3  3  4  8 20 25 16 17\n"
     ]
    }
   ],
   "source": [
    "%%R\n",
    "### Calculate raw scores (number of yes for each individual to the 8 questions)\n",
    "rv.nigeria=rowSums(xx.nigeria)\n",
    "\n",
    "## Raw score distribution\n",
    "# Unweighted\n",
    "table(rv.nigeria)\n",
    "# Weighted\n",
    "print(tab.weight(as.factor(rv.nigeria), wt.nigeria, xx.nigeria)$RS.abs.w)\n",
    "\n",
    "# Weighted percentage distribution\n",
    "print(tab.weight(as.factor(rv.nigeria), wt.nigeria, xx.nigeria)$RS.rel.w*100)"
   ]
  },
  {
   "cell_type": "markdown",
   "metadata": {},
   "source": [
    "#### Calculate raw scores (number of yes for each household to the 8 questions)"
   ]
  },
  {
   "cell_type": "markdown",
   "metadata": {},
   "source": [
    "### 2. Statistical Validation- Accessing data quality\n",
    "\n",
    "Item and respondent parameters estimate from any dataset, does not guarantee that the data are always of acceptable quality so that they can be used to meaningfully measure food insecurity. \n",
    "The **statistical validation** process is a fundamental screening tool for assessing data\n",
    "quality and for evaluating whether a given measure of food insecurity has a solid enough statistical\n",
    "basis for its intended policy and research uses. \n",
    "\n",
    "**FIES analysis methodology**\n",
    "\n",
    "This involves applying the Rasch Model to the FIES response data and assessing whether the data\n",
    "conform to the model’s assumptions. \n",
    "\n",
    "If the data do conform to the assumptions, we can conclude that the data can be used to calculate a valid measure of food insecurity."
   ]
  },
  {
   "cell_type": "markdown",
   "metadata": {},
   "source": [
    "#### **Visualizing Item Fit**\n",
    "\n",
    "Use `WrightMap` functionality to plot item fit statistics. In the fit object, `itemfit` is a dataframe containing various fit statistics. \n",
    "\n",
    "We’ll plot `infit` with a lowerbound of .70 (in mean-square error units) and an upper bound of 1.3"
   ]
  },
  {
   "cell_type": "code",
   "execution_count": 38,
   "metadata": {},
   "outputs": [
    {
     "data": {
      "image/png": "[encoded data removed]",
      "text/plain": [
       "<IPython.core.display.Image object>"
      ]
     },
     "metadata": {},
     "output_type": "display_data"
    }
   ],
   "source": [
    "%%R\n",
    "# Infit\n",
    "infit <- rr.nigeria$infit\n",
    "\n",
    "upper_bound <- rep(x = 1.3, times =8) # this repeats 1.33 fifteen times\n",
    "lower_bound <- rep(x = .70, times = 8) \n",
    "\n",
    "# running fitgraph\n",
    "fitgraph(fitEst = infit, fitLB = lower_bound, fitUB = upper_bound, itemLabels = names(xx.nigeria))"
   ]
  },
  {
   "cell_type": "markdown",
   "metadata": {},
   "source": [
    "**Observation**\n",
    "\n",
    "* No single item have a `low infit` (below 0.7). ie no redundancy.\n",
    "* The assumption of equal discrimination of the eight items is assessed primarily by the item infit statistic. The expected values between 0.7 and 1.3 are considered to be reasonably consistent with the assumption of equal discrimination. All the items fall with the **adequate in fit** (0.7 to 1.3), except for `fies_healthy`.\n",
    "* The infit of `fies_healthy` is **above 1.3** and can be seen to be outside the acceptable range.\n",
    "* The standard error of `fies_healthy` infit statistic is 0.06. This is narrow. A wide standard error indicates a less trustworthy result, and therefore provides weaker evidence for dropping the item. By subtracting the standard error from the infit `(1.3881510-0.05997967 = 1.328)`, we finds that it is still outside the acceptable range. This strongly suggests that the item did not\n",
    "perform well in the model.\n",
    "\n",
    "* **I wonders whether it would be preferable to drop it from the scale for the analysis**? To be investigated\n"
   ]
  },
  {
   "cell_type": "code",
   "execution_count": 39,
   "metadata": {},
   "outputs": [
    {
     "data": {
      "image/png": "[encoded data removed]",
      "text/plain": [
       "<IPython.core.display.Image object>"
      ]
     },
     "metadata": {},
     "output_type": "display_data"
    }
   ],
   "source": [
    "%%R\n",
    "# # what about outfit?\n",
    "outfit <- rr.nigeria$outfit\n",
    "\n",
    "\n",
    "upper_bound <- rep(x = 2.0, times =8) # this repeats 1.33 fifteen times\n",
    "lower_bound <- rep(x = .70, times = 8) \n",
    "\n",
    "fitgraph(fitEst = outfit, fitLB = lower_bound, fitUB = upper_bound, itemLabels = names(xx.nigeria))"
   ]
  },
  {
   "cell_type": "markdown",
   "metadata": {},
   "source": [
    "* `fies_healthy`, `fies_fewfoods` and `fies_whlday` items have outfit of >2.\n",
    "* Outfit statistics have a similar interpretation to the infit statistics, but are sensitive to\n",
    "the presence of even just a few cases with highly unexpected response patterns, and are therefore\n",
    "useful to flag the presence of outliers"
   ]
  },
  {
   "cell_type": "markdown",
   "metadata": {},
   "source": [
    "#### Fit statistics - Rasch Reliability \n",
    "Rasch reliability provides information about the discriminatory power of the overall scale,\n",
    "measuring the proportion of variability in the data that is explained by the Rasch model. "
   ]
  },
  {
   "cell_type": "code",
   "execution_count": 40,
   "metadata": {},
   "outputs": [
    {
     "name": "stdout",
     "output_type": "stream",
     "text": [
      "[1] 0.7123989\n"
     ]
    }
   ],
   "source": [
    "%%R\n",
    "# Rasch reliability\n",
    "rr.nigeria$reliab"
   ]
  },
  {
   "cell_type": "markdown",
   "metadata": {},
   "source": [
    "* For an 8-item FIES scale, a Rasch reliability value above 0.7 is considered acceptable."
   ]
  },
  {
   "cell_type": "markdown",
   "metadata": {},
   "source": [
    "#### **Rasch Description**\n",
    "\n",
    "Compute the main descriptive tables (number of affirmative responses to each item,weighted and unweighted distribution across raw scores etc), weighted and unweighted, for Rasch scale items and respondents."
   ]
  },
  {
   "cell_type": "code",
   "execution_count": 41,
   "metadata": {
    "scrolled": true
   },
   "outputs": [
    {
     "name": "stdout",
     "output_type": "stream",
     "text": [
      "              Weighted perc. of Yes\n",
      "fies_worried                   0.88\n",
      "fies_healthy                   0.92\n",
      "fies_fewfoods                  0.90\n",
      "fies_skipped                   0.84\n",
      "fies_ateless                   0.89\n",
      "fies_ranout                    0.42\n",
      "fies_hungry                    0.53\n",
      "fies_whlday                    0.21\n"
     ]
    }
   ],
   "source": [
    "%%R\n",
    "# Fit Rasch descriptives\n",
    "fit.descr = tab.weight(wt = wt.nigeria, XX = xx.nigeria)\n",
    "\n",
    "# Weighted and unweighted percentage of Yes per item\n",
    "yes_per_item <- cbind(\"Weighted perc. of Yes\" = fit.descr$Perc.Yes.w)\n",
    "write.csv(yes_per_item, \"../data/fies_yes_per_item.csv\")\n",
    "yes_per_item"
   ]
  },
  {
   "cell_type": "markdown",
   "metadata": {},
   "source": [
    "* From the weighted percentage of \"YES\" responses to each item, it it observed that the high infit item `fies_whlday` was affirmed lowest (21%) of respondents. This is understandable as it is the most severe item in the scale."
   ]
  },
  {
   "cell_type": "markdown",
   "metadata": {},
   "source": [
    "#### Fit statistics - Residual correlation matrix\n",
    "\n",
    "A residual correlation between a pair of items is considered high if it is >|0.4|"
   ]
  },
  {
   "cell_type": "code",
   "execution_count": 42,
   "metadata": {},
   "outputs": [
    {
     "data": {
      "text/plain": [
       "corrplot 0.92 loaded\n"
      ]
     },
     "metadata": {},
     "output_type": "display_data"
    },
    {
     "data": {
      "image/png": "[encoded data removed]",
      "text/plain": [
       "<IPython.core.display.Image object>"
      ]
     },
     "metadata": {},
     "output_type": "display_data"
    }
   ],
   "source": [
    "%%R\n",
    "library(corrplot)\n",
    "#  Residual correlation matrix \n",
    "\n",
    "# Set the threshold value for highlighting\n",
    "threshold <- 0.4\n",
    "\n",
    "cor_matrix <- rr.nigeria$res.corr\n",
    "\n",
    "# Define colors for highlighting\n",
    "highlight_color <- ifelse(abs(cor_matrix) > threshold, \"red\", \"white\")\n",
    "\n",
    "# Plot the correlation matrix with highlighted values\n",
    "corrplot(cor_matrix, method = \"number\", addgrid.col = highlight_color, type=\"upper\")\n",
    "\n"
   ]
  },
  {
   "cell_type": "markdown",
   "metadata": {},
   "source": [
    "**Observation**\n",
    "\n",
    "* No pair of item have a correlation that is considered high (>0.4)\n",
    "* Each item is seems to capture a different aspect of food insecurity, there are no redundant questions that would tend to weaken the ability to measure food insecurity accurately."
   ]
  },
  {
   "cell_type": "markdown",
   "metadata": {},
   "source": [
    "* One of the Rasch model assumptions is that all items discriminate equally, which\n",
    "means that, ideally, all infit statistics would be 1.0. Infit values in the range of 0.7-1.3 are generally considered to meet the model assumption of equal discrimination to an acceptable degree. **Infit statistics in the range 1.3 to 1.5** identify items that can still be used for measurement, but attention to possible improvement of such item may be worthwhile.\n",
    "\n",
    "**Impact**\n",
    "\n",
    "* The misfit does not justify omitting `fies_healthy` item from the scale."
   ]
  },
  {
   "cell_type": "markdown",
   "metadata": {},
   "source": [
    "### 3. Calculation of Prevalence of Food Insecurity \n",
    "\n",
    "We will use output of the Rasch model, along with information about the distribution of the sample population across raw scores, to calculate estimates/probability of the prevalence of food insecurity that can be compared across countries (or across any application of the FIES).\n",
    "\n",
    "**FAO** has developed an [**Excel Template**]() to facilitate the calculation of comparable food insecurity prevalence estimates. \n",
    "\n",
    "<center>   \n",
    "    <p></p>\n",
    "<img src=\"../assets/prevalence_threshold_excel.png\" width=\"500\" />\n",
    " <figcaption style=\"font-size: 10px; font-style: italic;\">Fig. 3: Threshold and Prevalence of FI in Nigeria integrated household sixth-round holdhold survey in Nigeria. created using the FOA Excel template.</figcaption>\n",
    "<p></p>\n",
    "</center>\n",
    "\n",
    "<center>   \n",
    "    <p></p>\n",
    "<img src=\"../assets/prevalence_threshold_excel2.png\" width=\"500\" />\n",
    " <figcaption style=\"font-size: 10px; font-style: italic;\">Fig. 4: Item parameters of the 8 FIES items (FAO global scale 2014-2016) in Nigeria integrated household sixth-round holdhold survey in Nigeria. created using the FOA Excel template.</figcaption>\n",
    "<p></p>\n",
    "</center>\n",
    "\n",
    "\n"
   ]
  },
  {
   "cell_type": "markdown",
   "metadata": {},
   "source": [
    "#### Adjusted thresholds\n",
    "\n",
    "With the global standard item severities now adjusted to the country metric, we see our two standard thresholds are at the\n",
    "adjusted severity level of ATELESS (-0.31179) and WHLDAY (4.6952)\n",
    "\n",
    "**ATELESS `fies_ateless`** defines the boundary between\n",
    "food security and moderate food insecurity.\n",
    "\n",
    "**WHLDAY `fies_whlday`** defines the boundary between\n",
    "moderate and severe food insecurity."
   ]
  },
  {
   "cell_type": "markdown",
   "metadata": {},
   "source": [
    "#### Probabilistic assignment\n",
    "\n",
    "With the classes of food insecurity defined by the adjusted thresholds, prevalence rates can now be calculated. This begins with the probabilistic assignment of respondents to food insecurity classes, which means assigning each respondent a probability of falling into a certain class, i.e. that their true severity level is above or below the threshold, given their raw score."
   ]
  },
  {
   "cell_type": "code",
   "execution_count": 46,
   "metadata": {},
   "outputs": [
    {
     "name": "stdout",
     "output_type": "stream",
     "text": [
      "[1] 82.38703\n",
      "[1] 16.68602\n"
     ]
    }
   ],
   "source": [
    "%%R\n",
    "#Probabilistic assignment -------------------------------------\n",
    "# Pre-defined thresholds on the latent trait\n",
    "# sthresh contains two possible thresholds on the latent trait\n",
    "# to be used only within the same country \n",
    "\n",
    "sthresh = c(-0.7806, 4.6952)\n",
    "pp.country1 = prob.assign(rr.nigeria, sthres = sthresh)$sprob\n",
    "# Probability of being beyond -0.7806 on the latent trait in country 1 \n",
    "print(pp.country1[1]*100)\n",
    "# Probability of being beyond 4.6952 on the latent trait in country 1 \n",
    "print(pp.country1[2]*100)"
   ]
  },
  {
   "cell_type": "markdown",
   "metadata": {},
   "source": [
    "## Summary\n",
    "* The validation test shows that `fies_healthy` did not perform well based on the infit statistic greater outside the acceptable range. We explored dropping the item below.\n",
    "* The rasch model reliability 0.7123989\n",
    "* From the number of \"yes\" responses to each item, it it observed that the high infit item `fies_whlday` was only affirmed by 21.0% of respondents. This is understandable as it is the most severe item in the scale.\n",
    "* We use `fies_ateless` and `fies_whlday` as the thresholds between mildly and moderately food insecure, and between moderately and severely food insecure, respectively;\n",
    "* Two standard thresholds are at the adjusted severity level of `fies_ateless` (-0.31179) and `fies_whlday` (4.6952)\n",
    "\n",
    "**Overall Prevalence of FI according to sixth-round household survey in Nigeria**\n",
    "\n",
    "* The resulting proportion of the sample population experiencing **moderate or severe FI** (FImod+sev) is 82.38%. The proportion of the population experiencing **severe FI** (FIsev) is 16.68 %.\n",
    "\n",
    "**Impact**\n",
    "\n",
    "* Download file containing the probability of moderate-or-severe or severe food insecurity for a respondent with each of the nine possible raw scores\n"
   ]
  },
  {
   "cell_type": "code",
   "execution_count": null,
   "metadata": {},
   "outputs": [],
   "source": [
    "# TODO\n",
    "# * Percentage of moderate or severe RFI and Severe RFI by state. **Do a map**\n",
    "# * Relationship of FIES with shock, gender and income."
   ]
  },
  {
   "cell_type": "markdown",
   "metadata": {},
   "source": [
    "\n"
   ]
  },
  {
   "cell_type": "markdown",
   "metadata": {},
   "source": [
    "\n",
    "\n"
   ]
  },
  {
   "cell_type": "markdown",
   "metadata": {},
   "source": [
    "\n",
    "\n",
    "\n"
   ]
  },
  {
   "cell_type": "markdown",
   "metadata": {
    "jp-MarkdownHeadingCollapsed": true
   },
   "source": [
    "## FIES Analysis with `fies_healthy` dropped\n",
    "The validation test shows that `fies_healthy` did not perform well based on the infit statistic greater outside the acceptable range.\n",
    "Lets re-run the analysis by omitting `fies_healthy` item.\n"
   ]
  },
  {
   "cell_type": "code",
   "execution_count": null,
   "metadata": {},
   "outputs": [],
   "source": [
    "%%R\n",
    "# Questionare data and weights\n",
    "xx.ng_new <- subset(xx.nigeria, select = -fies_healthy)\n",
    "wt.ng_new  <- fies.ng$weight_final\n",
    "\n",
    "# # Fit weight rasch model\n",
    "rr.ng_new  <- RM.w(xx.ng_new , wt.ng_new)\n",
    "\n",
    "# Fit Rasch descriptives\n",
    "fit.descr = tab.weight(wt = wt.ng_new, XX = xx.ng_new)\n",
    "\n",
    "# # # Fit unweighted Rasch\n",
    "rr.ng_new.nw <- RM.w(xx.ng_new )\n",
    "\n",
    "item_fit_stats <- tibble::rownames_to_column(\n",
    "  data.frame(\n",
    "    \"Item Severity\" = rr.ng_new$b,              # Item severity estimate\n",
    "    \"Item Error\" = rr.ng_new$se.b,          # Item standard error\n",
    "    \"Infit\" = rr.ng_new$infit,                  # Infit\n",
    "    \"Std error Infit\" = rr.ng_new$se.infit,     # standard error infit\n",
    "    \"Outfit\" = rr.ng_new$outfit\n",
    "  ),\n",
    "  var = \"Item\"\n",
    ")\n",
    "\n",
    "resp_fit_stats <- tibble::rownames_to_column(\n",
    "  data.frame(\n",
    "    \"Respondent Severity\" = rr.ng_new$a,              # Item severity estimate\n",
    "    \"Respondent Error\" = rr.ng_new$se.a,          # Item standard error\n",
    "    \"Wtd_N\" = rr.ng_new$wt.rs\n",
    "  ),\n",
    "  var = \"Item\"\n",
    ")\n",
    "\n",
    "\n",
    "\n",
    "# # what about infit?\n",
    "infit <- rr.ng_new$infit\n",
    "\n",
    "\n",
    "upper_bound <- rep(x = 1.3, times = 7)\n",
    "lower_bound <- rep(x = .70, times = 7) \n",
    "\n",
    "infit_plot <- fitgraph(fitEst = infit, fitLB = lower_bound, fitUB = upper_bound, itemLabels = names(xx.ng_new))\n",
    "\n",
    "# What about the outfit\n",
    "outfit <- rr.ng_new$outfit\n",
    "\n",
    "\n",
    "upper_bound <- rep(x = 2.0, times =7) # this repeats 1.33 fifteen times\n",
    "lower_bound <- rep(x = .70, times = 7) \n",
    "\n",
    "outfit_plot<-fitgraph(fitEst = outfit, fitLB = lower_bound, fitUB = upper_bound, itemLabels = names(xx.ng_new))\n",
    "print(outfit_plot)\n",
    "\n",
    "#Save to csv\n",
    "# Comma as separator and dot as decimal separator\n",
    "# write.csv(item_fit_stats, \"../data/fies_item_statistics.csv\")\n",
    "\n",
    "print(sprintf(\"The model reliability is %f\", rr.ng_new$reliab))\n",
    "\n",
    "print(sprintf(\"---------Item statistics --------------\"))\n",
    "print(item_fit_stats)\n",
    "\n",
    "print(sprintf(\"---------Respondent/Raw score statistics --------------\"))\n",
    "print(resp_fit_stats)\n",
    "\n",
    "print(sprintf(\"---------Weighted Percentage --------------\"))\n",
    "print(cbind(\"Weighted perc. of Yes\" = fit.descr$Perc.Yes.w,\n",
    "\"Unweighted perc. of Yes\" = fit.descr$Perc.Yes))"
   ]
  },
  {
   "cell_type": "code",
   "execution_count": null,
   "metadata": {},
   "outputs": [],
   "source": []
  }
 ],
 "metadata": {
  "kernelspec": {
   "display_name": "Python 3 (ipykernel)",
   "language": "python",
   "name": "python3"
  },
  "language_info": {
   "codemirror_mode": {
    "name": "ipython",
    "version": 3
   },
   "file_extension": ".py",
   "mimetype": "text/x-python",
   "name": "python",
   "nbconvert_exporter": "python",
   "pygments_lexer": "ipython3",
   "version": "3.12.2"
  }
 },
 "nbformat": 4,
 "nbformat_minor": 4
}
