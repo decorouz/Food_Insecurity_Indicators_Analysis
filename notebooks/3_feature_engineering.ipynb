{
 "cells": [
  {
   "cell_type": "code",
   "execution_count": null,
   "metadata": {},
   "outputs": [],
   "source": [
    "\n",
    "# Involve in both livestock, fish, and crop production\n",
    "# Involve in either livestock , fish or crop production\n",
    "\n",
    "\n",
    "# Experience either ls, fish or crop production difficulty\n",
    "# Experiences either crop, fish or livestock sale difficulty\n",
    "\n",
    "\n",
    "# Have more than one source of income\n",
    "\n",
    "# Fies as secure and insecure: fies_cat\n",
    "\n",
    "# Income source : No income, Income from Production and sales, No Agric income\n",
    "\n"
   ]
  },
  {
   "cell_type": "code",
   "execution_count": null,
   "metadata": {},
   "outputs": [],
   "source": []
  }
 ],
 "metadata": {
  "kernelspec": {
   "display_name": "Python 3 (ipykernel)",
   "language": "python",
   "name": "python3"
  },
  "language_info": {
   "codemirror_mode": {
    "name": "ipython",
    "version": 3
   },
   "file_extension": ".py",
   "mimetype": "text/x-python",
   "name": "python",
   "nbconvert_exporter": "python",
   "pygments_lexer": "ipython3",
   "version": "3.12.2"
  }
 },
 "nbformat": 4,
 "nbformat_minor": 4
}
