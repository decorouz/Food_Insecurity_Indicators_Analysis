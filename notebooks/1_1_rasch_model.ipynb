{
 "cells": [
  {
   "cell_type": "code",
   "execution_count": 1,
   "id": "ddec3b5d-cd6e-4475-9a9f-434766f2807b",
   "metadata": {},
   "outputs": [],
   "source": [
    "import rpy2\n",
    "import pandas as pd"
   ]
  },
  {
   "cell_type": "code",
   "execution_count": 2,
   "id": "ef11b999-b41e-41ce-bff1-cdb44d2d45f4",
   "metadata": {},
   "outputs": [],
   "source": [
    "from rpy2.robjects.packages import importr\n",
    "from rpy2.robjects import pandas2ri\n",
    "import rpy2.robjects as ro\n",
    "# from pyper import R\n",
    "\n",
    "%load_ext rpy2.ipython\n",
    "\n",
    "utils = importr('utils')\n",
    "# utils.install_packages('anthro')\n",
    "# utils.install_packages('RM.weights')\n",
    "pandas2ri.activate()"
   ]
  },
  {
   "cell_type": "code",
   "execution_count": 4,
   "id": "f43bc3f1-d93a-42cf-bcae-5e6b3f9b02c9",
   "metadata": {},
   "outputs": [],
   "source": [
    "%%R\n",
    "library(tidyverse)\n",
    "library(haven)\n",
    "library(TAM)\n",
    "library(WrightMap)\n",
    "if(!require('RM.weights')) {\n",
    "  install.packages('RM.weights')\n",
    "  library('RM.weights')\n",
    "}"
   ]
  },
  {
   "cell_type": "markdown",
   "id": "ec217e53-9071-4fa1-bb05-6e5b2c919694",
   "metadata": {},
   "source": [
    "## Running the Rasch Model with Other tools"
   ]
  },
  {
   "cell_type": "code",
   "execution_count": 4,
   "id": "5fe5e486-fca4-4668-914f-830df03bcec7",
   "metadata": {},
   "outputs": [
    {
     "name": "stdout",
     "output_type": "stream",
     "text": [
      "Error in as.matrix(resp) : object 'xx.nigeria' not found\n"
     ]
    },
    {
     "ename": "RInterpreterError",
     "evalue": "Failed to parse and evaluate line '# Running the Rasch model\\nrasch_model <- tam(xx.nigeria)\\n# summary(rasch_model)\\n'.\nR error message: \"Error in as.matrix(resp) : object 'xx.nigeria' not found\"",
     "output_type": "error",
     "traceback": [
      "\u001b[0;31m---------------------------------------------------------------------------\u001b[0m",
      "\u001b[0;31mRRuntimeError\u001b[0m                             Traceback (most recent call last)",
      "File \u001b[0;32m/opt/anaconda3/envs/geo_env/lib/python3.12/site-packages/rpy2/ipython/rmagic.py:407\u001b[0m, in \u001b[0;36mRMagics.eval\u001b[0;34m(self, code)\u001b[0m\n\u001b[1;32m    406\u001b[0m     r_expr \u001b[38;5;241m=\u001b[39m ri\u001b[38;5;241m.\u001b[39mparse(code)\n\u001b[0;32m--> 407\u001b[0m     value, visible \u001b[38;5;241m=\u001b[39m \u001b[43mri\u001b[49m\u001b[38;5;241;43m.\u001b[39;49m\u001b[43mevalr_expr_with_visible\u001b[49m\u001b[43m(\u001b[49m\n\u001b[1;32m    408\u001b[0m \u001b[43m        \u001b[49m\u001b[43mr_expr\u001b[49m\n\u001b[1;32m    409\u001b[0m \u001b[43m    \u001b[49m\u001b[43m)\u001b[49m\n\u001b[1;32m    410\u001b[0m \u001b[38;5;28;01mexcept\u001b[39;00m (ri\u001b[38;5;241m.\u001b[39membedded\u001b[38;5;241m.\u001b[39mRRuntimeError, \u001b[38;5;167;01mValueError\u001b[39;00m) \u001b[38;5;28;01mas\u001b[39;00m exception:\n\u001b[1;32m    411\u001b[0m     \u001b[38;5;66;03m# Otherwise next return seems to have copy of error.\u001b[39;00m\n",
      "File \u001b[0;32m/opt/anaconda3/envs/geo_env/lib/python3.12/site-packages/rpy2/rinterface.py:192\u001b[0m, in \u001b[0;36mevalr_expr_with_visible\u001b[0;34m(expr, envir)\u001b[0m\n\u001b[1;32m    191\u001b[0m \u001b[38;5;28;01mif\u001b[39;00m error_occured[\u001b[38;5;241m0\u001b[39m]:\n\u001b[0;32m--> 192\u001b[0m     \u001b[38;5;28;01mraise\u001b[39;00m embedded\u001b[38;5;241m.\u001b[39mRRuntimeError(_rinterface\u001b[38;5;241m.\u001b[39m_geterrmessage())\n\u001b[1;32m    193\u001b[0m res \u001b[38;5;241m=\u001b[39m conversion\u001b[38;5;241m.\u001b[39m_cdata_to_rinterface(r_res)\n",
      "\u001b[0;31mRRuntimeError\u001b[0m: Error in as.matrix(resp) : object 'xx.nigeria' not found\n",
      "\nDuring handling of the above exception, another exception occurred:\n",
      "\u001b[0;31mRInterpreterError\u001b[0m                         Traceback (most recent call last)",
      "Cell \u001b[0;32mIn[4], line 1\u001b[0m\n\u001b[0;32m----> 1\u001b[0m \u001b[43mget_ipython\u001b[49m\u001b[43m(\u001b[49m\u001b[43m)\u001b[49m\u001b[38;5;241;43m.\u001b[39;49m\u001b[43mrun_cell_magic\u001b[49m\u001b[43m(\u001b[49m\u001b[38;5;124;43m'\u001b[39;49m\u001b[38;5;124;43mR\u001b[39;49m\u001b[38;5;124;43m'\u001b[39;49m\u001b[43m,\u001b[49m\u001b[43m \u001b[49m\u001b[38;5;124;43m'\u001b[39;49m\u001b[38;5;124;43m'\u001b[39;49m\u001b[43m,\u001b[49m\u001b[43m \u001b[49m\u001b[38;5;124;43m'\u001b[39;49m\u001b[38;5;124;43m# Running the Rasch model\u001b[39;49m\u001b[38;5;130;43;01m\\n\u001b[39;49;00m\u001b[38;5;124;43mrasch_model <- tam(xx.nigeria)\u001b[39;49m\u001b[38;5;130;43;01m\\n\u001b[39;49;00m\u001b[38;5;124;43m# summary(rasch_model)\u001b[39;49m\u001b[38;5;130;43;01m\\n\u001b[39;49;00m\u001b[38;5;124;43m'\u001b[39;49m\u001b[43m)\u001b[49m\n",
      "File \u001b[0;32m/opt/anaconda3/envs/geo_env/lib/python3.12/site-packages/IPython/core/interactiveshell.py:2541\u001b[0m, in \u001b[0;36mInteractiveShell.run_cell_magic\u001b[0;34m(self, magic_name, line, cell)\u001b[0m\n\u001b[1;32m   2539\u001b[0m \u001b[38;5;28;01mwith\u001b[39;00m \u001b[38;5;28mself\u001b[39m\u001b[38;5;241m.\u001b[39mbuiltin_trap:\n\u001b[1;32m   2540\u001b[0m     args \u001b[38;5;241m=\u001b[39m (magic_arg_s, cell)\n\u001b[0;32m-> 2541\u001b[0m     result \u001b[38;5;241m=\u001b[39m \u001b[43mfn\u001b[49m\u001b[43m(\u001b[49m\u001b[38;5;241;43m*\u001b[39;49m\u001b[43margs\u001b[49m\u001b[43m,\u001b[49m\u001b[43m \u001b[49m\u001b[38;5;241;43m*\u001b[39;49m\u001b[38;5;241;43m*\u001b[39;49m\u001b[43mkwargs\u001b[49m\u001b[43m)\u001b[49m\n\u001b[1;32m   2543\u001b[0m \u001b[38;5;66;03m# The code below prevents the output from being displayed\u001b[39;00m\n\u001b[1;32m   2544\u001b[0m \u001b[38;5;66;03m# when using magics with decorator @output_can_be_silenced\u001b[39;00m\n\u001b[1;32m   2545\u001b[0m \u001b[38;5;66;03m# when the last Python token in the expression is a ';'.\u001b[39;00m\n\u001b[1;32m   2546\u001b[0m \u001b[38;5;28;01mif\u001b[39;00m \u001b[38;5;28mgetattr\u001b[39m(fn, magic\u001b[38;5;241m.\u001b[39mMAGIC_OUTPUT_CAN_BE_SILENCED, \u001b[38;5;28;01mFalse\u001b[39;00m):\n",
      "File \u001b[0;32m/opt/anaconda3/envs/geo_env/lib/python3.12/site-packages/rpy2/ipython/rmagic.py:984\u001b[0m, in \u001b[0;36mRMagics.R\u001b[0;34m(self, line, cell, local_ns)\u001b[0m\n\u001b[1;32m    982\u001b[0m     \u001b[38;5;28;01mif\u001b[39;00m \u001b[38;5;129;01mnot\u001b[39;00m e\u001b[38;5;241m.\u001b[39mstdout\u001b[38;5;241m.\u001b[39mendswith(e\u001b[38;5;241m.\u001b[39merr):\n\u001b[1;32m    983\u001b[0m         \u001b[38;5;28mprint\u001b[39m(e\u001b[38;5;241m.\u001b[39merr)\n\u001b[0;32m--> 984\u001b[0m     \u001b[38;5;28;01mraise\u001b[39;00m e\n\u001b[1;32m    985\u001b[0m \u001b[38;5;28;01mfinally\u001b[39;00m:\n\u001b[1;32m    986\u001b[0m     \u001b[38;5;28;01mif\u001b[39;00m \u001b[38;5;28mself\u001b[39m\u001b[38;5;241m.\u001b[39mdevice \u001b[38;5;129;01min\u001b[39;00m DEVICES_STATIC:\n",
      "File \u001b[0;32m/opt/anaconda3/envs/geo_env/lib/python3.12/site-packages/rpy2/ipython/rmagic.py:949\u001b[0m, in \u001b[0;36mRMagics.R\u001b[0;34m(self, line, cell, local_ns)\u001b[0m\n\u001b[1;32m    947\u001b[0m         return_output \u001b[38;5;241m=\u001b[39m \u001b[38;5;28;01mFalse\u001b[39;00m\n\u001b[1;32m    948\u001b[0m \u001b[38;5;28;01melse\u001b[39;00m:\n\u001b[0;32m--> 949\u001b[0m     text_result, result, visible \u001b[38;5;241m=\u001b[39m \u001b[38;5;28;43mself\u001b[39;49m\u001b[38;5;241;43m.\u001b[39;49m\u001b[43meval\u001b[49m\u001b[43m(\u001b[49m\u001b[43mcode\u001b[49m\u001b[43m)\u001b[49m\n\u001b[1;32m    950\u001b[0m     text_output \u001b[38;5;241m+\u001b[39m\u001b[38;5;241m=\u001b[39m text_result\n\u001b[1;32m    951\u001b[0m     \u001b[38;5;28;01mif\u001b[39;00m visible:\n",
      "File \u001b[0;32m/opt/anaconda3/envs/geo_env/lib/python3.12/site-packages/rpy2/ipython/rmagic.py:413\u001b[0m, in \u001b[0;36mRMagics.eval\u001b[0;34m(self, code)\u001b[0m\n\u001b[1;32m    410\u001b[0m \u001b[38;5;28;01mexcept\u001b[39;00m (ri\u001b[38;5;241m.\u001b[39membedded\u001b[38;5;241m.\u001b[39mRRuntimeError, \u001b[38;5;167;01mValueError\u001b[39;00m) \u001b[38;5;28;01mas\u001b[39;00m exception:\n\u001b[1;32m    411\u001b[0m     \u001b[38;5;66;03m# Otherwise next return seems to have copy of error.\u001b[39;00m\n\u001b[1;32m    412\u001b[0m     warning_or_other_msg \u001b[38;5;241m=\u001b[39m \u001b[38;5;28mself\u001b[39m\u001b[38;5;241m.\u001b[39mflush()\n\u001b[0;32m--> 413\u001b[0m     \u001b[38;5;28;01mraise\u001b[39;00m RInterpreterError(code, \u001b[38;5;28mstr\u001b[39m(exception),\n\u001b[1;32m    414\u001b[0m                             warning_or_other_msg)\n\u001b[1;32m    415\u001b[0m \u001b[38;5;28;01mfinally\u001b[39;00m:\n\u001b[1;32m    416\u001b[0m     ro\u001b[38;5;241m.\u001b[39m_print_deferred_warnings()\n",
      "\u001b[0;31mRInterpreterError\u001b[0m: Failed to parse and evaluate line '# Running the Rasch model\\nrasch_model <- tam(xx.nigeria)\\n# summary(rasch_model)\\n'.\nR error message: \"Error in as.matrix(resp) : object 'xx.nigeria' not found\""
     ]
    }
   ],
   "source": [
    "%%R\n",
    "# Running the Rasch model\n",
    "rasch_model <- tam(xx.nigeria)\n",
    "# summary(rasch_model)"
   ]
  },
  {
   "cell_type": "markdown",
   "id": "59352b5c-655b-4e8d-a6ec-a15df61cabfd",
   "metadata": {},
   "source": [
    "**Observation**\n",
    "* Mean Rasch `reliability` was 0.752"
   ]
  },
  {
   "cell_type": "markdown",
   "id": "2a9a348a-0887-4051-9e78-106bb9c99c84",
   "metadata": {},
   "source": [
    "### Understanding the Rasch Model"
   ]
  },
  {
   "cell_type": "code",
   "execution_count": 15,
   "id": "b4a518ba-0f8a-4058-891d-2d9849728512",
   "metadata": {},
   "outputs": [
    {
     "name": "stdout",
     "output_type": "stream",
     "text": [
      "                       item    N          M    xsi.item  AXsi_.Cat1 B.Cat1.Dim1\n",
      "fies_worried   fies_worried 2583 0.88811460 -2.58836883 -2.58836883           1\n",
      "fies_healthy   fies_healthy 2583 0.90824623 -2.84891317 -2.84891317           1\n",
      "fies_fewfoods fies_fewfoods 2583 0.89934185 -2.72851419 -2.72851419           1\n",
      "fies_skipped   fies_skipped 2583 0.83817267 -2.07251752 -2.07251752           1\n",
      "fies_ateless   fies_ateless 2583 0.87224158 -2.40807593 -2.40807593           1\n",
      "fies_ranout     fies_ranout 2583 0.42237708  0.42277984  0.42277984           1\n",
      "fies_hungry     fies_hungry 2583 0.48625629  0.09157318  0.09157318           1\n",
      "fies_whlday     fies_whlday 2583 0.09485095  2.76609928  2.76609928           1\n"
     ]
    }
   ],
   "source": [
    "%%R\n",
    "item_prop <- rasch_model$item\n",
    "item_prop"
   ]
  },
  {
   "cell_type": "markdown",
   "id": "1a86dd55-7343-450c-8756-4ed6775872ca",
   "metadata": {},
   "source": [
    "The number of **YES** answers, or, number of people who endorse a category increases monotonically with the item severity.\n",
    "\n",
    "To see this, we can find the total number of people who endorsed the “yes” category for each `fies` item above.\n",
    "\n",
    "The table provides the proportion who endorsed the higher category in the `M` column.\n",
    "\n",
    "For instance, item Hls1 had 15.77% of people endorse the “agree” category (1= agree, 0= disagree). In the N column, we see that 317 people answered the item in total."
   ]
  },
  {
   "cell_type": "markdown",
   "id": "922005de-7735-48c5-8ddc-540e57de0fc1",
   "metadata": {},
   "source": [
    "**The correlation between total number of \"yes\" per item and the estimated item severity can be computed as follows.**"
   ]
  },
  {
   "cell_type": "code",
   "execution_count": 16,
   "id": "e98cf05c-18cc-4ae2-9107-592365298a5c",
   "metadata": {},
   "outputs": [
    {
     "name": "stdout",
     "output_type": "stream",
     "text": [
      "[1] -0.9987698\n"
     ]
    }
   ],
   "source": [
    "%%R\n",
    "# create a column in the item_prop object that has the total number of endorsements for each item\n",
    "item_prop <- mutate(item_prop, total_endorsed =N*M)\n",
    "\n",
    "cor(item_prop$xsi.item, item_prop$total_endorsed)"
   ]
  },
  {
   "cell_type": "markdown",
   "id": "6adaa8f0-180b-4d80-bfbd-10371c929cf2",
   "metadata": {},
   "source": [
    "**Observation**\n",
    "\n",
    "We see that the correlation between item severities and total endorsements per item is nearly perfect -.99. \n",
    "\n",
    "As the number of endorsements go down, the estimated severities of the item increase."
   ]
  },
  {
   "cell_type": "code",
   "execution_count": 17,
   "id": "b68dab60-5cf8-4e2c-8475-ce7621cb5685",
   "metadata": {},
   "outputs": [
    {
     "data": {
      "image/png": "[encoded data removed]",
      "text/plain": [
       "<IPython.core.display.Image object>"
      ]
     },
     "metadata": {},
     "output_type": "display_data"
    }
   ],
   "source": [
    "%%R\n",
    "ggplot(item_prop, aes(x=total_endorsed, y=xsi.item)) + \n",
    "  geom_point() +\n",
    "  ylab(\"Estimated Item Severities (logits)\") +\n",
    "  xlab(\"Total Number of Endorsements(Yes) for an item\") +\n",
    "  ggtitle(\"Relationship between estimated item severities and total endorsements\")"
   ]
  },
  {
   "cell_type": "markdown",
   "id": "942252a0-b1c5-4ac0-9673-0d110ebcf607",
   "metadata": {},
   "source": [
    "### Item Severity\n",
    "\n",
    "We’ll extract difficulties `(xsi)` from the `rasch_model` object"
   ]
  },
  {
   "cell_type": "code",
   "execution_count": 18,
   "id": "4a08c1b5-cfe8-4501-ae54-842eaf2a7f31",
   "metadata": {
    "scrolled": true
   },
   "outputs": [
    {
     "name": "stdout",
     "output_type": "stream",
     "text": [
      "                      xsi     se.xsi\n",
      "fies_worried  -2.58836883 0.06808397\n",
      "fies_healthy  -2.84891317 0.07373909\n",
      "fies_fewfoods -2.72851419 0.07101950\n",
      "fies_skipped  -2.07251752 0.05916399\n",
      "fies_ateless  -2.40807593 0.06464626\n",
      "fies_ranout    0.42277984 0.04503959\n",
      "fies_hungry    0.09157318 0.04467650\n",
      "fies_whlday    2.76609928 0.07122454\n"
     ]
    }
   ],
   "source": [
    "%%R\n",
    "# Item severity\n",
    "severities <- rasch_model$xsi\n",
    "severities"
   ]
  },
  {
   "cell_type": "markdown",
   "id": "4f135aa9-dac5-4259-9e15-5f91539dea03",
   "metadata": {},
   "source": [
    "**Observation**\n",
    "* In the result above, we can see the item severity in logits in the column `xsi` and the standard error for each item `se.xsi`. \n",
    "One way to think of what the standard error tells us is whether item severity may overlap or not.\n",
    "\n",
    "* Higher `xsi` values indicate more severe items. For instance, item `fies_worried` is more severe than `fies_whlday`. The values are identified by constraining the mean of item severity to zero."
   ]
  },
  {
   "cell_type": "code",
   "execution_count": 19,
   "id": "31c4053a-4c1c-4555-9771-75508197b4a2",
   "metadata": {
    "scrolled": true
   },
   "outputs": [
    {
     "name": "stdout",
     "output_type": "stream",
     "text": [
      "$y\n",
      "[1] \"Estimated Item Standard Errors\"\n",
      "\n",
      "attr(,\"class\")\n",
      "[1] \"labels\"\n"
     ]
    }
   ],
   "source": [
    "%%R\n",
    "## Item difficulties vs their standard error\n",
    "ggplot(severities, aes(x=xsi, y=se.xsi)) + geom_point() +\n",
    "  ggtitle(\"Item severity and their standard error\") +\n",
    "  xlab(\"Estimated Item Severity\") \n",
    "  ylab(\"Estimated Item Standard Errors\")"
   ]
  },
  {
   "cell_type": "code",
   "execution_count": 20,
   "id": "8c938a21-290e-4ce0-bf5a-e664f6abfce9",
   "metadata": {},
   "outputs": [
    {
     "name": "stdout",
     "output_type": "stream",
     "text": [
      "Item fit calculation based on 15 simulations\n",
      "|**********|\n",
      "|--------|\n",
      "      parameter    Outfit   Outfit_t     Outfit_p Outfit_pholm     Infit\n",
      "1  fies_worried 0.9575588 -0.9878948 3.232042e-01 4.714403e-01 0.9081346\n",
      "2  fies_healthy 1.4071920  6.9642076 3.302572e-12 2.311800e-11 1.0133419\n",
      "3 fies_fewfoods 1.2277063  4.3414323 1.415569e-05 5.662277e-05 0.9424637\n",
      "4  fies_skipped 0.8305786 -5.0160527 5.274386e-07 2.637193e-06 0.8929855\n",
      "5  fies_ateless 0.9530479 -1.1857522 2.357202e-01 4.714403e-01 0.8931125\n",
      "6   fies_ranout 1.0461819  2.5057167 1.222035e-02 3.666105e-02 1.0076723\n",
      "7   fies_hungry 1.0990647  5.4057509 6.453742e-08 3.872245e-07 1.0314557\n",
      "8   fies_whlday 2.2047366 17.9456435 5.190581e-72 4.152465e-71 1.1369867\n",
      "     Infit_t     Infit_p Infit_pholm\n",
      "1 -2.0663293 0.038797401  0.19398701\n",
      "2  0.2720821 0.785558857  1.00000000\n",
      "3 -1.1888751 0.234488809  0.70346643\n",
      "4 -3.0711459 0.002132389  0.01705911\n",
      "5 -2.6294189 0.008553093  0.05987165\n",
      "6  0.4271281 0.669286011  1.00000000\n",
      "7  1.7553914 0.079192382  0.31676953\n",
      "8  2.6262638 0.008632789  0.05987165\n"
     ]
    }
   ],
   "source": [
    "%%R\n",
    "# Let's find out if the data fits the model.\n",
    "fit <- tam.fit(rasch_model)\n",
    "write.csv(fit$itemfit, file = \"../data/fies_fit.csv\",row.names=FALSE)\n",
    "fit$itemfit"
   ]
  },
  {
   "cell_type": "markdown",
   "id": "d432adb6-0234-4cab-91d5-e69a990732ca",
   "metadata": {},
   "source": [
    "### Visualizing Item Fit\n",
    "\n",
    "We can use default `WrightMap` functionality to plot item fit statistics. \n",
    "In the fit object, `itemfit` is a dataframe containing various fit statistics. \n",
    "\n",
    "We’ll plot `infit` with a lowerbound of .70 (in mean-square error units) and an upper bound of 1.1"
   ]
  },
  {
   "cell_type": "code",
   "execution_count": 21,
   "id": "c256e1b9-9281-4c8e-81b4-064be68b3e70",
   "metadata": {},
   "outputs": [
    {
     "data": {
      "image/png": "[encoded data removed]",
      "text/plain": [
       "<IPython.core.display.Image object>"
      ]
     },
     "metadata": {},
     "output_type": "display_data"
    }
   ],
   "source": [
    "%%R\n",
    "# Infit\n",
    "infit <- fit$itemfit$Infit\n",
    "\n",
    "upper_bound <- rep(x = 1.2, times =8) # this repeats 1.33 fifteen times\n",
    "lower_bound <- rep(x = .70, times = 8) \n",
    "\n",
    "# running fitgraph\n",
    "fitgraph(fitEst = infit, fitLB = lower_bound, fitUB = upper_bound, itemLabels = names(xx.nigeria))"
   ]
  },
  {
   "cell_type": "code",
   "execution_count": 25,
   "id": "ba9e9fbe-3941-4a99-8f24-0499b5a017c4",
   "metadata": {},
   "outputs": [
    {
     "data": {
      "image/png": "[encoded data removed]",
      "text/plain": [
       "<IPython.core.display.Image object>"
      ]
     },
     "metadata": {},
     "output_type": "display_data"
    }
   ],
   "source": [
    "%%R\n",
    "# # what about outfit?\n",
    "outfit <- fit$itemfit$Outfit\n",
    "\n",
    "\n",
    "upper_bound <- rep(x = 2.0, times =8) # this repeats 1.33 fifteen times\n",
    "lower_bound <- rep(x = .70, times = 8) \n",
    "\n",
    "\n",
    "fitgraph(fitEst = outfit, fitLB = lower_bound, fitUB = upper_bound, itemLabels = names(xx.nigeria))"
   ]
  },
  {
   "cell_type": "markdown",
   "id": "ac4f9f5e-5a5c-4786-aaf7-48a9834fd69f",
   "metadata": {},
   "source": [
    "**Observation**\n",
    "* The weighted **infit** statistics for the FIES data in our study were within the acceptable range of 0.7–1.2."
   ]
  },
  {
   "cell_type": "markdown",
   "id": "0e19438b-eec3-42c1-b1d8-bf02c097134f",
   "metadata": {},
   "source": [
    "### Summary of item infit statistics for round 6 survey datasets conducted in Nigeria in 2024\n",
    "\n",
    "This section summarizes findings on data quality and consistency with assumptions of the\n",
    "Rasch measurement model and presents the results obtained from the datasets collected."
   ]
  },
  {
   "cell_type": "code",
   "execution_count": null,
   "id": "71985dd9-551b-4138-a10f-287ca66ddf8b",
   "metadata": {
    "scrolled": true
   },
   "outputs": [],
   "source": [
    "fies_fit = pd.read_csv(\"../data/fies_fit.csv\", index_col=False)\n",
    "fies_fit"
   ]
  },
  {
   "cell_type": "markdown",
   "id": "0a736edf-0f6e-4fd3-828e-2ca954336308",
   "metadata": {},
   "source": [
    "### Observation\n",
    "\n",
    "**Item Infit Statistic**\n",
    "\n",
    "In spite of the wide range of cultures and languages in which the FIES-SM was administered\n",
    "and the attendant challenges of translation, the fit of all the items to the measurement model\n",
    "was remarkably good. \n",
    "\n",
    "\n",
    "**Infit statistics** \n",
    "* For each item were between 0.8 and 1.02.\n",
    "* The highest mean infit (1.02) was for the `fies_hungry`\n",
    "* The lowest mean infits were for `fies_ateless` (0.862) and `fies_worried`(0.867).\n",
    "\n",
    "\n",
    "\n",
    "**Item Outfit Statistics**\n",
    "\n",
    "Outfit statistics are sensitive to even a few cases with highly improbable response patterns. They\n",
    "are useful primarily for identifying items that may be inconsistently understood by a small\n",
    "proportion of respondents, but may also reflect just one or two careless responses or recordings\n",
    "by the interviewer. The acceptable range of `outfit` is < 2.\n",
    "\n",
    "**Outfit statistics** \n",
    "\n",
    "* For each item were between 0.72 and 1.73. This is within the acceptable range.\n",
    "* The most severe item, `fies_whlday`, had the highest mean outfit (1.731).\n",
    "* The lowest mean outfit were for `fies_skipped` (0.72) and `fies_ateless`(0.99)."
   ]
  },
  {
   "cell_type": "markdown",
   "id": "a817e13c-426c-47ba-8dce-945e0844c1f0",
   "metadata": {},
   "source": [
    "### **Impact**\n",
    "* The low infit shows that the items were most consistently associated with the latent trait measured by all of the\n",
    "items.\n",
    "* The outfit statistics computed for the 2024 round 6 application of the FIES for Nigeria\n",
    "do not indicate  model misfit or distortion of severity estimates for respondents to warrant any change in the estimation procedure\n",
    "\n",
    "\n",
    "Overall, \n",
    "* The weighted **infit** statistics for the FIES data in our study were within the acceptable range of 0.7–1.2, which verified that the FIES is a reliable and valid measure to assess food insecurity in this population. Likewise the `outfit` range which is <2.\n",
    "* Mean Rasch Model `reliability` was 0.752 . This level of reliability for a scale comprising just eight items reflect reasonably good model fit. The acceptable value is >0.7.\n",
    "* Because all the items falls within the acceptable range, there are no problematic item to report"
   ]
  },
  {
   "cell_type": "code",
   "execution_count": 15,
   "id": "e55e12f4-9cb2-43f6-aa39-a1c0dc010311",
   "metadata": {},
   "outputs": [
    {
     "name": "stdout",
     "output_type": "stream",
     "text": [
      "Rows: 3438 Columns: 197\n",
      "── Column specification ────────────────────────────────────────────────────────\n",
      "Delimiter: \",\"\n",
      "chr  (25): country, state, local_govt_area, hh_agricactivity, hh_gender, hh_...\n",
      "dbl (172): hh_size, hh_maritalstat, weight_final, hh_wealth_water, hh_wealth...\n",
      "\n",
      "ℹ Use `spec()` to retrieve the full column specification for this data.\n",
      "ℹ Specify the column types or set `show_col_types = FALSE` to quiet this message.\n",
      "Error in optim(seq(-3, 3, length.out = k), wle.fit, method = \"BFGS\", control = list(maxit = max.it)) : \n",
      "  initial value in 'vmmin' is not finite\n"
     ]
    },
    {
     "ename": "RInterpreterError",
     "evalue": "Failed to parse and evaluate line '\\n# Define the data file path\\nfile_path <- \"../data/fao_round6_ng_clean_data.csv\"\\n\\n# Read the CSV file while selecting columns using the regex pattern\\nfies_ng <- read_csv(file_path)\\n\\nfies_ng <- fies_ng %>%\\n  select(matches(\"^(weight|fies)\"))\\n\\n# Column name\\ncolnames(fies_ng) = c(\"WORRIED\", \"HEALTHY\", \\n                      \"FEWFOODS\", \"SKIPPED\",\\n                     \"ATELESS\", \"RUNOUT\", \"HUNGRY\")\\n\\nres = RM.w(fies_ng)\\n# Convert the values to integers\\n# df <- as.data.frame(lapply(df, as.integer))\\n\\n# # Drop values with extreme scores \\n# fies.ng <- subset(fies.ng, !(fies_rawscore %in% c(0.0, 8.0)))\\n\\n# dim(df)\\n# head(fies.ng)\\n# write.csv(fies.ng, \"../data/fies_rasch_analysis.csv\", row.names = FALSE)\\n'.\nR error message: 'Error in optim(seq(-3, 3, length.out = k), wle.fit, method = \"BFGS\", control = list(maxit = max.it)) : \\n  initial value in \\'vmmin\\' is not finite'",
     "output_type": "error",
     "traceback": [
      "\u001b[0;31m---------------------------------------------------------------------------\u001b[0m",
      "\u001b[0;31mRRuntimeError\u001b[0m                             Traceback (most recent call last)",
      "File \u001b[0;32m/opt/anaconda3/envs/geo_env/lib/python3.12/site-packages/rpy2/ipython/rmagic.py:407\u001b[0m, in \u001b[0;36mRMagics.eval\u001b[0;34m(self, code)\u001b[0m\n\u001b[1;32m    406\u001b[0m     r_expr \u001b[38;5;241m=\u001b[39m ri\u001b[38;5;241m.\u001b[39mparse(code)\n\u001b[0;32m--> 407\u001b[0m     value, visible \u001b[38;5;241m=\u001b[39m \u001b[43mri\u001b[49m\u001b[38;5;241;43m.\u001b[39;49m\u001b[43mevalr_expr_with_visible\u001b[49m\u001b[43m(\u001b[49m\n\u001b[1;32m    408\u001b[0m \u001b[43m        \u001b[49m\u001b[43mr_expr\u001b[49m\n\u001b[1;32m    409\u001b[0m \u001b[43m    \u001b[49m\u001b[43m)\u001b[49m\n\u001b[1;32m    410\u001b[0m \u001b[38;5;28;01mexcept\u001b[39;00m (ri\u001b[38;5;241m.\u001b[39membedded\u001b[38;5;241m.\u001b[39mRRuntimeError, \u001b[38;5;167;01mValueError\u001b[39;00m) \u001b[38;5;28;01mas\u001b[39;00m exception:\n\u001b[1;32m    411\u001b[0m     \u001b[38;5;66;03m# Otherwise next return seems to have copy of error.\u001b[39;00m\n",
      "File \u001b[0;32m/opt/anaconda3/envs/geo_env/lib/python3.12/site-packages/rpy2/rinterface.py:192\u001b[0m, in \u001b[0;36mevalr_expr_with_visible\u001b[0;34m(expr, envir)\u001b[0m\n\u001b[1;32m    191\u001b[0m \u001b[38;5;28;01mif\u001b[39;00m error_occured[\u001b[38;5;241m0\u001b[39m]:\n\u001b[0;32m--> 192\u001b[0m     \u001b[38;5;28;01mraise\u001b[39;00m embedded\u001b[38;5;241m.\u001b[39mRRuntimeError(_rinterface\u001b[38;5;241m.\u001b[39m_geterrmessage())\n\u001b[1;32m    193\u001b[0m res \u001b[38;5;241m=\u001b[39m conversion\u001b[38;5;241m.\u001b[39m_cdata_to_rinterface(r_res)\n",
      "\u001b[0;31mRRuntimeError\u001b[0m: Error in optim(seq(-3, 3, length.out = k), wle.fit, method = \"BFGS\", control = list(maxit = max.it)) : \n  initial value in 'vmmin' is not finite\n",
      "\nDuring handling of the above exception, another exception occurred:\n",
      "\u001b[0;31mRInterpreterError\u001b[0m                         Traceback (most recent call last)",
      "Cell \u001b[0;32mIn[15], line 1\u001b[0m\n\u001b[0;32m----> 1\u001b[0m \u001b[43mget_ipython\u001b[49m\u001b[43m(\u001b[49m\u001b[43m)\u001b[49m\u001b[38;5;241;43m.\u001b[39;49m\u001b[43mrun_cell_magic\u001b[49m\u001b[43m(\u001b[49m\u001b[38;5;124;43m'\u001b[39;49m\u001b[38;5;124;43mR\u001b[39;49m\u001b[38;5;124;43m'\u001b[39;49m\u001b[43m,\u001b[49m\u001b[43m \u001b[49m\u001b[38;5;124;43m'\u001b[39;49m\u001b[38;5;124;43m'\u001b[39;49m\u001b[43m,\u001b[49m\u001b[43m \u001b[49m\u001b[38;5;124;43m'\u001b[39;49m\u001b[38;5;130;43;01m\\n\u001b[39;49;00m\u001b[38;5;124;43m# Define the data file path\u001b[39;49m\u001b[38;5;130;43;01m\\n\u001b[39;49;00m\u001b[38;5;124;43mfile_path <- \u001b[39;49m\u001b[38;5;124;43m\"\u001b[39;49m\u001b[38;5;124;43m../data/fao_round6_ng_clean_data.csv\u001b[39;49m\u001b[38;5;124;43m\"\u001b[39;49m\u001b[38;5;130;43;01m\\n\u001b[39;49;00m\u001b[38;5;130;43;01m\\n\u001b[39;49;00m\u001b[38;5;124;43m# Read the CSV file while selecting columns using the regex pattern\u001b[39;49m\u001b[38;5;130;43;01m\\n\u001b[39;49;00m\u001b[38;5;124;43mfies_ng <- read_csv(file_path)\u001b[39;49m\u001b[38;5;130;43;01m\\n\u001b[39;49;00m\u001b[38;5;130;43;01m\\n\u001b[39;49;00m\u001b[38;5;124;43mfies_ng <- fies_ng \u001b[39;49m\u001b[38;5;124;43m%\u001b[39;49m\u001b[38;5;124;43m>\u001b[39;49m\u001b[38;5;124;43m%\u001b[39;49m\u001b[38;5;130;43;01m\\n\u001b[39;49;00m\u001b[38;5;124;43m  select(matches(\u001b[39;49m\u001b[38;5;124;43m\"\u001b[39;49m\u001b[38;5;124;43m^(weight|fies)\u001b[39;49m\u001b[38;5;124;43m\"\u001b[39;49m\u001b[38;5;124;43m))\u001b[39;49m\u001b[38;5;130;43;01m\\n\u001b[39;49;00m\u001b[38;5;130;43;01m\\n\u001b[39;49;00m\u001b[38;5;124;43m# Column name\u001b[39;49m\u001b[38;5;130;43;01m\\n\u001b[39;49;00m\u001b[38;5;124;43mcolnames(fies_ng) = c(\u001b[39;49m\u001b[38;5;124;43m\"\u001b[39;49m\u001b[38;5;124;43mWORRIED\u001b[39;49m\u001b[38;5;124;43m\"\u001b[39;49m\u001b[38;5;124;43m, \u001b[39;49m\u001b[38;5;124;43m\"\u001b[39;49m\u001b[38;5;124;43mHEALTHY\u001b[39;49m\u001b[38;5;124;43m\"\u001b[39;49m\u001b[38;5;124;43m, \u001b[39;49m\u001b[38;5;130;43;01m\\n\u001b[39;49;00m\u001b[38;5;124;43m                      \u001b[39;49m\u001b[38;5;124;43m\"\u001b[39;49m\u001b[38;5;124;43mFEWFOODS\u001b[39;49m\u001b[38;5;124;43m\"\u001b[39;49m\u001b[38;5;124;43m, \u001b[39;49m\u001b[38;5;124;43m\"\u001b[39;49m\u001b[38;5;124;43mSKIPPED\u001b[39;49m\u001b[38;5;124;43m\"\u001b[39;49m\u001b[38;5;124;43m,\u001b[39;49m\u001b[38;5;130;43;01m\\n\u001b[39;49;00m\u001b[38;5;124;43m                     \u001b[39;49m\u001b[38;5;124;43m\"\u001b[39;49m\u001b[38;5;124;43mATELESS\u001b[39;49m\u001b[38;5;124;43m\"\u001b[39;49m\u001b[38;5;124;43m, \u001b[39;49m\u001b[38;5;124;43m\"\u001b[39;49m\u001b[38;5;124;43mRUNOUT\u001b[39;49m\u001b[38;5;124;43m\"\u001b[39;49m\u001b[38;5;124;43m, \u001b[39;49m\u001b[38;5;124;43m\"\u001b[39;49m\u001b[38;5;124;43mHUNGRY\u001b[39;49m\u001b[38;5;124;43m\"\u001b[39;49m\u001b[38;5;124;43m)\u001b[39;49m\u001b[38;5;130;43;01m\\n\u001b[39;49;00m\u001b[38;5;130;43;01m\\n\u001b[39;49;00m\u001b[38;5;124;43mres = RM.w(fies_ng)\u001b[39;49m\u001b[38;5;130;43;01m\\n\u001b[39;49;00m\u001b[38;5;124;43m# Convert the values to integers\u001b[39;49m\u001b[38;5;130;43;01m\\n\u001b[39;49;00m\u001b[38;5;124;43m# df <- as.data.frame(lapply(df, as.integer))\u001b[39;49m\u001b[38;5;130;43;01m\\n\u001b[39;49;00m\u001b[38;5;130;43;01m\\n\u001b[39;49;00m\u001b[38;5;124;43m# # Drop values with extreme scores \u001b[39;49m\u001b[38;5;130;43;01m\\n\u001b[39;49;00m\u001b[38;5;124;43m# fies.ng <- subset(fies.ng, !(fies_rawscore \u001b[39;49m\u001b[38;5;132;43;01m%i\u001b[39;49;00m\u001b[38;5;124;43mn\u001b[39;49m\u001b[38;5;132;43;01m% c\u001b[39;49;00m\u001b[38;5;124;43m(0.0, 8.0)))\u001b[39;49m\u001b[38;5;130;43;01m\\n\u001b[39;49;00m\u001b[38;5;130;43;01m\\n\u001b[39;49;00m\u001b[38;5;124;43m# dim(df)\u001b[39;49m\u001b[38;5;130;43;01m\\n\u001b[39;49;00m\u001b[38;5;124;43m# head(fies.ng)\u001b[39;49m\u001b[38;5;130;43;01m\\n\u001b[39;49;00m\u001b[38;5;124;43m# write.csv(fies.ng, \u001b[39;49m\u001b[38;5;124;43m\"\u001b[39;49m\u001b[38;5;124;43m../data/fies_rasch_analysis.csv\u001b[39;49m\u001b[38;5;124;43m\"\u001b[39;49m\u001b[38;5;124;43m, row.names = FALSE)\u001b[39;49m\u001b[38;5;130;43;01m\\n\u001b[39;49;00m\u001b[38;5;124;43m'\u001b[39;49m\u001b[43m)\u001b[49m\n",
      "File \u001b[0;32m/opt/anaconda3/envs/geo_env/lib/python3.12/site-packages/IPython/core/interactiveshell.py:2541\u001b[0m, in \u001b[0;36mInteractiveShell.run_cell_magic\u001b[0;34m(self, magic_name, line, cell)\u001b[0m\n\u001b[1;32m   2539\u001b[0m \u001b[38;5;28;01mwith\u001b[39;00m \u001b[38;5;28mself\u001b[39m\u001b[38;5;241m.\u001b[39mbuiltin_trap:\n\u001b[1;32m   2540\u001b[0m     args \u001b[38;5;241m=\u001b[39m (magic_arg_s, cell)\n\u001b[0;32m-> 2541\u001b[0m     result \u001b[38;5;241m=\u001b[39m \u001b[43mfn\u001b[49m\u001b[43m(\u001b[49m\u001b[38;5;241;43m*\u001b[39;49m\u001b[43margs\u001b[49m\u001b[43m,\u001b[49m\u001b[43m \u001b[49m\u001b[38;5;241;43m*\u001b[39;49m\u001b[38;5;241;43m*\u001b[39;49m\u001b[43mkwargs\u001b[49m\u001b[43m)\u001b[49m\n\u001b[1;32m   2543\u001b[0m \u001b[38;5;66;03m# The code below prevents the output from being displayed\u001b[39;00m\n\u001b[1;32m   2544\u001b[0m \u001b[38;5;66;03m# when using magics with decorator @output_can_be_silenced\u001b[39;00m\n\u001b[1;32m   2545\u001b[0m \u001b[38;5;66;03m# when the last Python token in the expression is a ';'.\u001b[39;00m\n\u001b[1;32m   2546\u001b[0m \u001b[38;5;28;01mif\u001b[39;00m \u001b[38;5;28mgetattr\u001b[39m(fn, magic\u001b[38;5;241m.\u001b[39mMAGIC_OUTPUT_CAN_BE_SILENCED, \u001b[38;5;28;01mFalse\u001b[39;00m):\n",
      "File \u001b[0;32m/opt/anaconda3/envs/geo_env/lib/python3.12/site-packages/rpy2/ipython/rmagic.py:984\u001b[0m, in \u001b[0;36mRMagics.R\u001b[0;34m(self, line, cell, local_ns)\u001b[0m\n\u001b[1;32m    982\u001b[0m     \u001b[38;5;28;01mif\u001b[39;00m \u001b[38;5;129;01mnot\u001b[39;00m e\u001b[38;5;241m.\u001b[39mstdout\u001b[38;5;241m.\u001b[39mendswith(e\u001b[38;5;241m.\u001b[39merr):\n\u001b[1;32m    983\u001b[0m         \u001b[38;5;28mprint\u001b[39m(e\u001b[38;5;241m.\u001b[39merr)\n\u001b[0;32m--> 984\u001b[0m     \u001b[38;5;28;01mraise\u001b[39;00m e\n\u001b[1;32m    985\u001b[0m \u001b[38;5;28;01mfinally\u001b[39;00m:\n\u001b[1;32m    986\u001b[0m     \u001b[38;5;28;01mif\u001b[39;00m \u001b[38;5;28mself\u001b[39m\u001b[38;5;241m.\u001b[39mdevice \u001b[38;5;129;01min\u001b[39;00m DEVICES_STATIC:\n",
      "File \u001b[0;32m/opt/anaconda3/envs/geo_env/lib/python3.12/site-packages/rpy2/ipython/rmagic.py:949\u001b[0m, in \u001b[0;36mRMagics.R\u001b[0;34m(self, line, cell, local_ns)\u001b[0m\n\u001b[1;32m    947\u001b[0m         return_output \u001b[38;5;241m=\u001b[39m \u001b[38;5;28;01mFalse\u001b[39;00m\n\u001b[1;32m    948\u001b[0m \u001b[38;5;28;01melse\u001b[39;00m:\n\u001b[0;32m--> 949\u001b[0m     text_result, result, visible \u001b[38;5;241m=\u001b[39m \u001b[38;5;28;43mself\u001b[39;49m\u001b[38;5;241;43m.\u001b[39;49m\u001b[43meval\u001b[49m\u001b[43m(\u001b[49m\u001b[43mcode\u001b[49m\u001b[43m)\u001b[49m\n\u001b[1;32m    950\u001b[0m     text_output \u001b[38;5;241m+\u001b[39m\u001b[38;5;241m=\u001b[39m text_result\n\u001b[1;32m    951\u001b[0m     \u001b[38;5;28;01mif\u001b[39;00m visible:\n",
      "File \u001b[0;32m/opt/anaconda3/envs/geo_env/lib/python3.12/site-packages/rpy2/ipython/rmagic.py:413\u001b[0m, in \u001b[0;36mRMagics.eval\u001b[0;34m(self, code)\u001b[0m\n\u001b[1;32m    410\u001b[0m \u001b[38;5;28;01mexcept\u001b[39;00m (ri\u001b[38;5;241m.\u001b[39membedded\u001b[38;5;241m.\u001b[39mRRuntimeError, \u001b[38;5;167;01mValueError\u001b[39;00m) \u001b[38;5;28;01mas\u001b[39;00m exception:\n\u001b[1;32m    411\u001b[0m     \u001b[38;5;66;03m# Otherwise next return seems to have copy of error.\u001b[39;00m\n\u001b[1;32m    412\u001b[0m     warning_or_other_msg \u001b[38;5;241m=\u001b[39m \u001b[38;5;28mself\u001b[39m\u001b[38;5;241m.\u001b[39mflush()\n\u001b[0;32m--> 413\u001b[0m     \u001b[38;5;28;01mraise\u001b[39;00m RInterpreterError(code, \u001b[38;5;28mstr\u001b[39m(exception),\n\u001b[1;32m    414\u001b[0m                             warning_or_other_msg)\n\u001b[1;32m    415\u001b[0m \u001b[38;5;28;01mfinally\u001b[39;00m:\n\u001b[1;32m    416\u001b[0m     ro\u001b[38;5;241m.\u001b[39m_print_deferred_warnings()\n",
      "\u001b[0;31mRInterpreterError\u001b[0m: Failed to parse and evaluate line '\\n# Define the data file path\\nfile_path <- \"../data/fao_round6_ng_clean_data.csv\"\\n\\n# Read the CSV file while selecting columns using the regex pattern\\nfies_ng <- read_csv(file_path)\\n\\nfies_ng <- fies_ng %>%\\n  select(matches(\"^(weight|fies)\"))\\n\\n# Column name\\ncolnames(fies_ng) = c(\"WORRIED\", \"HEALTHY\", \\n                      \"FEWFOODS\", \"SKIPPED\",\\n                     \"ATELESS\", \"RUNOUT\", \"HUNGRY\")\\n\\nres = RM.w(fies_ng)\\n# Convert the values to integers\\n# df <- as.data.frame(lapply(df, as.integer))\\n\\n# # Drop values with extreme scores \\n# fies.ng <- subset(fies.ng, !(fies_rawscore %in% c(0.0, 8.0)))\\n\\n# dim(df)\\n# head(fies.ng)\\n# write.csv(fies.ng, \"../data/fies_rasch_analysis.csv\", row.names = FALSE)\\n'.\nR error message: 'Error in optim(seq(-3, 3, length.out = k), wle.fit, method = \"BFGS\", control = list(maxit = max.it)) : \\n  initial value in \\'vmmin\\' is not finite'"
     ]
    }
   ],
   "source": [
    "%%R\n",
    "\n",
    "# Define the data file path\n",
    "file_path <- \"../data/fao_round6_ng_clean_data.csv\"\n",
    "\n",
    "# Read the CSV file while selecting columns using the regex pattern\n",
    "fies_ng <- read_csv(file_path)\n",
    "\n",
    "fies_ng <- fies_ng %>%\n",
    "  select(matches(\"^(weight|fies)\"))\n",
    "\n",
    "# Column name\n",
    "colnames(fies_ng) = c(\"WORRIED\", \"HEALTHY\", \n",
    "                      \"FEWFOODS\", \"SKIPPED\",\n",
    "                     \"ATELESS\", \"RUNOUT\", \"HUNGRY\")\n",
    "\n",
    "\n",
    "# Convert the values to integers\n",
    "# df <- as.data.frame(lapply(df, as.integer))\n",
    "\n",
    "# # Drop values with extreme scores \n",
    "# fies.ng <- subset(fies.ng, !(fies_rawscore %in% c(0.0, 8.0)))\n",
    "\n",
    "# dim(df)\n",
    "# head(fies.ng)\n",
    "# write.csv(fies.ng, \"../data/fies_rasch_analysis.csv\", row.names = FALSE)\n"
   ]
  },
  {
   "cell_type": "code",
   "execution_count": 13,
   "id": "827fef94-5410-4166-ab0b-ac87dcaa81fa",
   "metadata": {},
   "outputs": [
    {
     "name": "stdout",
     "output_type": "stream",
     "text": [
      "# A tibble: 3,438 × 10\n",
      "   weight_final fies_worried fies_healthy fies_fewfoods fies_skipped\n",
      "          <dbl>        <dbl>        <dbl>         <dbl>        <dbl>\n",
      " 1        0.198            1            1             1            1\n",
      " 2        0.188            1            1             1            1\n",
      " 3        0.188            1            1             1            1\n",
      " 4        0.198            1            1             1            1\n",
      " 5        0.198            1            1             1            1\n",
      " 6        0.188            1            1             1            1\n",
      " 7        0.198            1            1             1            1\n",
      " 8        0.122            1            1             1            1\n",
      " 9        0.122            1            1             1            1\n",
      "10        0.122            1            1             0            0\n",
      "# ℹ 3,428 more rows\n",
      "# ℹ 5 more variables: fies_ateless <dbl>, fies_ranout <dbl>, fies_hungry <dbl>,\n",
      "#   fies_whlday <dbl>, fies_rawscore <dbl>\n",
      "# ℹ Use `print(n = ...)` to see more rows\n"
     ]
    }
   ],
   "source": [
    "%%R \n",
    "fies_ng"
   ]
  },
  {
   "cell_type": "code",
   "execution_count": null,
   "id": "ca66ea95-62f8-47b7-bcec-0195be34aa9a",
   "metadata": {},
   "outputs": [],
   "source": []
  }
 ],
 "metadata": {
  "kernelspec": {
   "display_name": "Python 3 (ipykernel)",
   "language": "python",
   "name": "python3"
  },
  "language_info": {
   "codemirror_mode": {
    "name": "ipython",
    "version": 3
   },
   "file_extension": ".py",
   "mimetype": "text/x-python",
   "name": "python",
   "nbconvert_exporter": "python",
   "pygments_lexer": "ipython3",
   "version": "3.12.2"
  }
 },
 "nbformat": 4,
 "nbformat_minor": 5
}
