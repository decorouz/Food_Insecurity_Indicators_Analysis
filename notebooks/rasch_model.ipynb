{
 "cells": [
  {
   "cell_type": "markdown",
   "metadata": {},
   "source": [
    "# Quality Assurance\n",
    "\n",
    "An important step in the validation of food security data is to assess the extent to which the\n",
    "data are consistent with assumptions of the measurement model. In data that meet those\n",
    "assumptions, household raw score (the number of items affirmed by the household) is an\n",
    "ordinal measure of the severity of food insecurity in the household, and the household severity\n",
    "parameter is an interval-level measure of severity. Neither of these important measurement\n",
    "traits is certain if model assumptions are not met.\n",
    "\n",
    "This notebook presents basic concepts and mathematics underlying the `Rasch` model and describes\n",
    "the model parameters and statistics used to assess food security survey data in this project."
   ]
  },
  {
   "cell_type": "markdown",
   "metadata": {},
   "source": [
    "## Rasch Model\n",
    "By defining a probabilistic model that links the (unknown) measure of food insecurity to the\n",
    "(observable) responses to experience-based questionnaires, it is possible to obtain estimates\n",
    "of the former using data collected on any sample of individuals.\n",
    "\n",
    "The simplest of such models that preserves all desirable qualities of a proper measurement\n",
    "model is the `Rasch` model. In this model, the probability that a respondent\n",
    "will report a given experience is a logistic function of the distance between the respondent’s\n",
    "and the item’s positions on the severity scale:\n",
    "\n",
    "$$Prob(x_{h,i} = 1|θ_h, β_i) =  \\frac {e^{θ_h - β_i}}{1 + e^{θ_h - β_i}}$$\n",
    "\n",
    "where $x_{ℎ,𝑖}$ is the response given by respondent *h* to item *i*, coded as 1 for “yes” and 0 for “no”.\n",
    "The relative severity associated with each of the experiences (the parameters $β_i$\n",
    "in the formula above) can be inferred from the frequency with which they are reported by a large sample of respondents, \n",
    "assuming that, all else being equal, more severe experiences are reported by fewer respondents. \n",
    "Once the severity of each experience is estimated, the severity of a respondent’s condition (the 𝜃ℎ parameter) can be computed\n",
    "by noting how many of the items have been affirmed"
   ]
  },
  {
   "cell_type": "code",
   "execution_count": null,
   "metadata": {},
   "outputs": [],
   "source": []
  },
  {
   "cell_type": "code",
   "execution_count": null,
   "metadata": {},
   "outputs": [],
   "source": []
  }
 ],
 "metadata": {
  "kernelspec": {
   "display_name": "geo_env",
   "language": "python",
   "name": "python3"
  },
  "language_info": {
   "name": "python",
   "version": "3.12.2"
  }
 },
 "nbformat": 4,
 "nbformat_minor": 2
}
